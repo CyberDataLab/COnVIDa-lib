{
 "cells": [
  {
   "cell_type": "code",
   "execution_count": 1,
   "metadata": {},
   "outputs": [],
   "source": [
    "from convida import COnVIDa\n",
    "from datatype import DataType\n",
    "from regions import Regions\n",
    "from regionalgranularity import RegionalGranularity\n",
    "from temporalgranularity import TemporalGranularity\n",
    "import pandas as pd"
   ]
  },
  {
   "cell_type": "markdown",
   "metadata": {},
   "source": [
    "## Testing"
   ]
  },
  {
   "cell_type": "code",
   "execution_count": 2,
   "metadata": {},
   "outputs": [
    {
     "data": {
      "text/plain": [
       "['DataType.TEMPORAL', 'DataType.GEOGRAPHICAL']"
      ]
     },
     "execution_count": 2,
     "metadata": {},
     "output_type": "execute_result"
    }
   ],
   "source": [
    "COnVIDa.get_data_types()"
   ]
  },
  {
   "cell_type": "code",
   "execution_count": 3,
   "metadata": {},
   "outputs": [
    {
     "data": {
      "text/plain": [
       "{'AEMETDataSource': ['Precipitación',\n",
       "  'Presión máxima',\n",
       "  'Presión mínima',\n",
       "  'Racha máxima',\n",
       "  'Insolación',\n",
       "  'Temperatura máxima',\n",
       "  'Temperatura media',\n",
       "  'Temperatura mínima',\n",
       "  'Velocidad viento',\n",
       "  'Altitud',\n",
       "  'Dirección racha'],\n",
       " 'COVID19DataSource': ['Incidencia acumulada en los últimos 14 días',\n",
       "  'Media de casos detectados en 7 días',\n",
       "  'Media de casos PCR confirmados en los últimos 7 días',\n",
       "  'Media de fallecidos en los últimos 7 días',\n",
       "  'Media de fallecidos en los últimos 3 días',\n",
       "  'Casos diarios',\n",
       "  'Casos diarios PCR',\n",
       "  'Casos diarios anticuerpos',\n",
       "  'Casos diarios prueba antígenos',\n",
       "  'Casos diarios prueba Elisa',\n",
       "  'Casos diarios de pruebas desconocidas',\n",
       "  'Fallecidos diarios',\n",
       "  'Porcentaje de nuevos fallecidos respecto de día anterior',\n",
       "  'Casos detectados en los últimos 14 días',\n",
       "  'Fallecidos en los últimos 7 días',\n",
       "  'Casos acumulados',\n",
       "  'Casos acumulados PCR',\n",
       "  'Casos acumulados hospitalizados',\n",
       "  'Casos acumulados UCI',\n",
       "  'Casos acumulados fallecidos',\n",
       "  'Casos acumulados recuperados',\n",
       "  'Casos acumulados por 100.000 habitantes',\n",
       "  'Casos UCI por 100.000 habitantes',\n",
       "  'Hospitalizados por 100.000 habitantes',\n",
       "  'Fallecidos acumulados por 100.000 habitantes',\n",
       "  'Letalidad acumulada',\n",
       "  'Vacunas entregadas acumulado',\n",
       "  'Vacunas suministradas acumulado',\n",
       "  'Porcentaje de vacunas suministradas',\n",
       "  'Porcentaje de población vacunada'],\n",
       " 'MobilityDataSource': ['Supermercados y farmacias',\n",
       "  'Parques',\n",
       "  'Residencial',\n",
       "  'Venta minorista, ocio y cultura',\n",
       "  'Transporte público',\n",
       "  'Lugar de trabajo',\n",
       "  'Conducción'],\n",
       " 'MoMoDataSource': ['Defunciones observadas',\n",
       "  'Defunciones observadas (límite inferior)',\n",
       "  'Defunciones observadas (límite superior)',\n",
       "  'Defunciones esperadas',\n",
       "  'Defunciones esperadas (percentil 1)',\n",
       "  'Defunciones esperadas (percentil 99)']}"
      ]
     },
     "execution_count": 3,
     "metadata": {},
     "output_type": "execute_result"
    }
   ],
   "source": [
    "COnVIDa.get_data_items_names(DataType.TEMPORAL)"
   ]
  },
  {
   "cell_type": "code",
   "execution_count": 4,
   "metadata": {},
   "outputs": [
    {
     "data": {
      "text/plain": [
       "{'INEDataSource': ['Actividad física',\n",
       "  'Índice de masa corporal (IMC)',\n",
       "  'Tabaquismo',\n",
       "  'Hogares por tipo de familia',\n",
       "  'Hogares por densidad de ocupación',\n",
       "  'Mayores de 65 años solos']}"
      ]
     },
     "execution_count": 4,
     "metadata": {},
     "output_type": "execute_result"
    }
   ],
   "source": [
    "COnVIDa.get_data_items_names(DataType.GEOGRAPHICAL)"
   ]
  },
  {
   "cell_type": "code",
   "execution_count": 5,
   "metadata": {},
   "outputs": [
    {
     "name": "stdout",
     "output_type": "stream",
     "text": [
      "{'INEDataSource': ['Nivel de actividad física según sexo y comunidad autónoma. Población de 15 a 69 años', 'Índice de masa corporal población adulta según sexo y comunidad autónoma. Población de 18 y más años', 'Consumo de tabaco según sexo y comunidad autónoma. Población de 15 y más años', 'Número de hogares por comunidades autónomas según el tipo de hogar y el tamaño del hogar', 'Población residente por comunidades autónomas según tamaño del hogar y densidad de población', 'Número de hogares unipersonales con mayores de 65 años por comunidades autónomas según sexo']}\n",
      "{'INEDataSource': ['Level of physical activity by sex and autonomous community. Population from 15 to 69 years old', 'Body mass index of adult population by sex and autonomous community. Population aged 18 years old and above', 'Tobacco consumption by sex and autonomous community. Population aged 15 years old and above', 'Number of households by autonomous community by type of household and size of household', 'Resident population by autonomous communities, household size and population density', 'Number of single-person households with inhabitants aged over 65 years old by autonomous community and sex']}\n"
     ]
    }
   ],
   "source": [
    "print(COnVIDa.get_data_items_descriptions(DataType.GEOGRAPHICAL))\n",
    "print(COnVIDa.get_data_items_descriptions(DataType.GEOGRAPHICAL, 'EN'))"
   ]
  },
  {
   "cell_type": "code",
   "execution_count": 6,
   "metadata": {},
   "outputs": [
    {
     "name": "stdout",
     "output_type": "stream",
     "text": [
      "{'AEMETDataSource': ['Precipitación diaria de 07 a 07', 'Presión máxima al nivel de referencia de la estación', 'Presión mínima al nivel de referencia de la estación', 'Racha máxima del viento', 'Horas de sol fuerte', 'Temperatura máxima del día', 'Temperatura media del día', 'Temperatura mínima del día', 'Velocidad media del viento', 'Altitud de la estación en m sobre el nivel del mar', 'Dirección de la racha máxima'], 'COVID19DataSource': ['Incidencia acumulada 14 días (casos en los últimos 14 días por cada 100.000 habitantes)', 'Media de casos detectados (ventana de 7 días)', 'Media de casos (ventana de 7 días) de casos con prueba de laboratorio PCR o técnicas moleculares', 'Media de fallecidos en una ventana de 7 días', 'Media de fallecidos en una ventana de 3 días', 'El número de casos diarios totales, confirmados o probables', 'El número de casos diarios con prueba de laboratorio PCR o técnicas moleculares', 'El número de casos diarios con prueba de laboratorio de test rápido de anticuerpos', 'El número de casos diarios detectados con pruebas de detección de antígeno', 'El número de casos diarios detectados con técnica Elisa', 'El número de casos diarios sin información sobre la prueba de laboratorios con la que ha sido detectada', 'Muertes diarias. Calculada como una diferencia de las muertes acumuladas notificadas', 'Porcentaje de nuevos fallecidos con respecto al dia anterior', 'Número de casos positivos en COVID19 en los últimos 14 días', 'Número de fallecidos totales en una ventana de 7 días', 'Casos COVID19 detectados acumulado', 'Casos acumulados COVID19 detectados por PCR ', 'Numero de casos hospitalizadas acumulados', 'Numero de pacientes acumulados en UCI', 'Número de fallecidos acumulado', 'Número acumulado de casos recuperados', 'Numero de casos acumulados de COVID19 por cada 100.000 habtiantes', 'Número de casos acumulados de COVID19 en UCI por cada 100.000 habtiantes', 'Número de casos acumulados de COVID19 hospitalizados por cada 100.000 habitantes', 'Numero de fallecidos acumulados por COVID19 por cada 100.000 habitantes', 'Tasa de letalidad (fallecidos acumulados / casos acumulados)', 'Número acumulado de vacunas entregadas', 'Número acumulado de vacunas suministradas', 'Porcentaje de vacunas suministradas con respecto a las entregadas', 'Porcentaje de vacunadas suministradas con respecto a la población'], 'MobilityDataSource': ['Variación de la movilidad con respecto a la media en supermercados, mercados, tiendas de comestibles, droguerías y farmacias', 'Variación de la movilidad con respecto a la media en parques locales, parques nacionales, playas públicas, marinas, parques para perros, plazas y jardines públicos', 'Variación de la movilidad con respecto a la media en lugares de residencia, hogares', 'Variación de la movilidad con respecto a la media en restaurantes, cafeterías, centros comerciales, parques temáticos, museos, bibliotecas y cines', 'Variación de la movilidad con respecto a la media en estaciones de metro, autobús y tren', 'Variación de la movilidad con respecto a la media en lugares de trabajo', 'Variación de la movilidad con respecto a la media en desplazamientos con vehículos propios'], 'MoMoDataSource': ['Defunciones observadas (incluye la corrección por retraso)', 'Límite inferior del invervalo de confianza de las defunciones observadas (debido a la corrección)', 'Límite superior del invervalo de confianza de las defunciones observadas (debido a la corrección)', 'Defunciones esperadas, resultantes del modelo', 'Límite inferior del intervalo de confianza de las defunciones esperadas, correspondiente al percentil 1 de la distribución', 'Límite superior del intervalo de confianza de las defunciones esperadas, correspondiente al percentil 99 de la distribución']}\n",
      "{'AEMETDataSource': ['Daily rainfall from 07 to 07', 'Maximum pressure at station reference level', 'Minimum pressure at station reference level', 'Maximum wind gust', 'Hours of strong sunshine', 'Maximum daily temperature', 'Medium daily temperature', 'Minimum daily temperature', 'Average wind speed', 'Altitude of the station in m above the sea level', 'Direction of maximum wind gust'], 'COVID19DataSource': ['Cumulative incidence 14 days (cases in the last 14 days per 100,000 inhabitants)', 'Average daily cases in the last 7 days (rolling average 7 days)', 'Average number of cases (7-day window) with laboratory PCR test or molecular techniques', 'Average daily deaths in the last 7 days (rolling average 7 days)', 'Average daily deaths in the last 3 days (rolling average 3 days)', 'The number of daily total, confirmed or probable cases', 'The number of daily cases with laboratory PCR test or molecular techniques', 'The number of daily cases with rapid antibody test laboratory', 'The number of daily cases detected by antigen test', 'The number of daily cases detected by Elisa technique', 'The number of daily cases without information on the laboratory test with which it has been detected', 'Daily deaths. Calculated as a difference of cumulative deaths reported', 'Percentage of new deaths compared to previous day', 'Number of positive cases in COVID19 in the last 14 days', 'Total number of deaths in a 7-day window', 'Number of new COVID19 cases (cumulative)', 'Number of new COVID19 cases detected with PCR (cumulative)', 'Number of cumulative hospitalised cases', 'Number of patients accumulated in ICU', 'Cumulative number of deceased cases', 'Cumulative number of recovered cases', 'Cumulative number of confirmed COVID19 cases per 100,000 inhabitants', 'Cumulative number of cases in ICU per 100,000 inhabitants', 'Cumulative number of COVID19 cases hospitalized per 100,000 inhabitants', 'Cumulative number of COVID19 deceassed per 100,000 inhabitants', 'Case Fatality Rate (accumulated deaths / accumulated cases)', 'Cumulative number of vaccines provided', 'Cumulative number of vaccines supplied', 'Percentaje of new vaccines supplied in relation to vaccines provided', 'Percentaje of vaccines supplied in relation to poblation'], 'MobilityDataSource': ['Mobility variation against the average in supermarkets, markets, stores and pharmacies', 'Mobility variation against the average in local parks, national parks, public beaches, dog beaches, public squares and gardens', 'Mobility variation against the average in places of residence, homes', 'Mobility variation against the average in restaurants, cafes, shopping malls, theme parks, museums, libraries and cinemas', 'Mobility variation against the average in subway, bus and train stations', 'Mobility variation against the average in workplaces', 'Mobility variation against the average when travelling with own vehicles'], 'MoMoDataSource': ['Observed deaths (including delay correction)', 'Lower bound of the observed death confidence interval (due to correction)', 'Upper bound of the observed death confidence interval (due to correction)', 'Expected deaths, resulting from the model', 'Lower bound of the confidence interval of expected deaths, corresponding to the 1st percentile of the distribution', 'Upper bound of the confidence interval of expected deaths, corresponding to the 99th percentile of the distribution']}\n"
     ]
    }
   ],
   "source": [
    "print(COnVIDa.get_data_items_descriptions(DataType.TEMPORAL))\n",
    "print(COnVIDa.get_data_items_descriptions(DataType.TEMPORAL, 'EN'))"
   ]
  },
  {
   "cell_type": "code",
   "execution_count": 7,
   "metadata": {},
   "outputs": [
    {
     "name": "stdout",
     "output_type": "stream",
     "text": [
      "{'INEDataSource': ['Miles de personas', '', 'Miles de personas', 'Miles de hogares', 'Miles de personas', 'Miles de hogares unipersonales']}\n",
      "{'INEDataSource': ['Thousands of persons', '', 'Thousands of persons', 'Thousands of households', 'Thousands of persons', 'Thousands of single-person households']}\n"
     ]
    }
   ],
   "source": [
    "print(COnVIDa.get_data_items_units(DataType.GEOGRAPHICAL))\n",
    "print(COnVIDa.get_data_items_units(DataType.GEOGRAPHICAL, 'EN'))"
   ]
  },
  {
   "cell_type": "code",
   "execution_count": 8,
   "metadata": {},
   "outputs": [
    {
     "name": "stdout",
     "output_type": "stream",
     "text": [
      "{'AEMETDataSource': ['Milímetros (mm)', 'Hectopascales (hPa)', 'Hectopascales (hPa)', 'Metros por segundo (m/s)', 'Horas (h)', 'Grados Celsius (°C)', 'Grados Celsius (°C)', 'Grados Celsius (°C)', 'Metros por segundo (m/s)', 'Metros (m)', 'Decenas de grado (°)'], 'COVID19DataSource': ['Número de personas', 'Número de personas', 'Número de personas', 'Número de personas', 'Número de personas', 'Número de personas', 'Número de personas', 'Número de personas', 'Número de personas', 'Número de personas', 'Número de personas', 'Número de personas', 'Porcentaje (%)', 'Número de personas', 'Número de personas', 'Número de personas', 'Número de personas', 'Número de personas', 'Número de personas', 'Número de personas', 'Número de personas', 'Número de personas', 'Número de personas', 'Número de personas', 'Número de personas', 'Porcentaje (%)', 'Número de dosis', 'Número de dosis', 'Porcentaje (%)', 'Porcentaje (%)'], 'MobilityDataSource': ['Porcentaje (%)', 'Porcentaje (%)', 'Porcentaje (%)', 'Porcentaje (%)', 'Porcentaje (%)', 'Porcentaje (%)', 'Porcentaje (%)'], 'MoMoDataSource': ['Número de personas', 'Número de personas', 'Número de personas', 'Número de personas', 'Número de personas', 'Número de personas']}\n",
      "{'AEMETDataSource': ['Millimetres (mm)', 'Hectopascals (hPa)', 'Hectopascals (hPa)', 'Meters per second (m/s)', 'Hours (h)', 'Celsius degrees (°C)', 'Celsius Degrees (°C)', 'Celsius degrees (°C)', 'Meters per second (m/s)', 'Meters (m)', 'Tens of degrees (°)'], 'COVID19DataSource': ['Number of persons', 'Number of persons', 'Number of persons', 'Number of persons', 'Number of persons', 'Number of persons', 'Number of persons', 'Number of persons', 'Number of persons', 'Number of persons', 'Number of persons', 'Number of persons', 'Percentage (%)', 'Number of persons', 'Number of persons', 'Number of persons', 'Number of persons', 'Number of persons', 'Number of persons', 'Number of persons', 'Number of persons', 'Number of persons', 'Number of persons', 'Number of persons', 'Number of persons', 'Percentage (%)', 'Number of doses', 'Number of doses', 'Percentage (%)', 'Percentage (%)'], 'MobilityDataSource': ['Percentage (%)', 'Percentage (%)', 'Percentage (%)', 'Percentage (%)', 'Percentage (%)', 'Percentage (%)', 'Percentage (%)'], 'MoMoDataSource': ['Number of persons', 'Number of persons', 'Number of persons', 'Number of persons', 'Number of persons', 'Number of persons']}\n"
     ]
    }
   ],
   "source": [
    "print(COnVIDa.get_data_items_units(DataType.TEMPORAL))\n",
    "print(COnVIDa.get_data_items_units(DataType.TEMPORAL, 'EN'))"
   ]
  },
  {
   "cell_type": "code",
   "execution_count": 9,
   "metadata": {},
   "outputs": [
    {
     "data": {
      "text/plain": [
       "['España',\n",
       " 'CA Andalucía',\n",
       " 'CA Aragón',\n",
       " 'CA Principado de Asturias',\n",
       " 'CA Islas Baleares',\n",
       " 'CA Canarias',\n",
       " 'CA Cantabria',\n",
       " 'CA Castilla-La Mancha',\n",
       " 'CA Castilla y León',\n",
       " 'CA Cataluña',\n",
       " 'CA Ceuta',\n",
       " 'CA Comunidad Valenciana',\n",
       " 'CA Extremadura',\n",
       " 'CA Galicia',\n",
       " 'CA Comunidad de Madrid',\n",
       " 'CA Melilla',\n",
       " 'CA Región de Murcia',\n",
       " 'CA Comunidad Foral de Navarra',\n",
       " 'CA País Vasco',\n",
       " 'CA La Rioja']"
      ]
     },
     "execution_count": 9,
     "metadata": {},
     "output_type": "execute_result"
    }
   ],
   "source": [
    "Regions.get_regions('ES')"
   ]
  },
  {
   "cell_type": "code",
   "execution_count": 10,
   "metadata": {},
   "outputs": [
    {
     "name": "stdout",
     "output_type": "stream",
     "text": [
      "('INEDataSource', <DataType.GEOGRAPHICAL: 1>, None, [<RegionalGranularity.COMMUNITY: 0>], 'literal_ine', <DataFormat.JSON: 0>, 90, ['actividad_fisica', 'imc', 'tabaco', 'hogares_tipo_familia', 'hogares_densidad_ocupacion', 'mayores_65_solos'], {'actividad_fisica': {'display_name': {'ES': 'Actividad física', 'EN': 'Physical activity'}, 'description': {'ES': 'Nivel de actividad física según sexo y comunidad autónoma. Población de 15 a 69 años', 'EN': 'Level of physical activity by sex and autonomous community. Population from 15 to 69 years old'}, 'data_unit': {'ES': 'Miles de personas', 'EN': 'Thousands of persons'}, '_id': '04013.px', 'funcion': 'DATOS_TABLA', 'codigo': '/t15/p419/a2017/p03/l0/', 'num_datos': '10', 'formato': 'VALORES_ABSOLUTOS_CCAA'}, 'imc': {'display_name': {'ES': 'Índice de masa corporal (IMC)', 'EN': 'Body mass index (BMI)'}, 'description': {'ES': 'Índice de masa corporal población adulta según sexo y comunidad autónoma. Población de 18 y más años', 'EN': 'Body mass index of adult population by sex and autonomous community. Population aged 18 years old and above'}, 'data_unit': {'ES': '', 'EN': ''}, '_id': '01004.px', 'funcion': 'DATOS_TABLA', 'codigo': '/t15/p420/a2014/p06/l0/', 'num_datos': '10', 'formato': 'VALORES_ABSOLUTOS_CCAA'}, 'tabaco': {'display_name': {'ES': 'Tabaquismo', 'EN': 'Tobacco consumption'}, 'description': {'ES': 'Consumo de tabaco según sexo y comunidad autónoma. Población de 15 y más años', 'EN': 'Tobacco consumption by sex and autonomous community. Population aged 15 years old and above'}, 'data_unit': {'ES': 'Miles de personas', 'EN': 'Thousands of persons'}, '_id': '06020.px', 'funcion': 'DATOS_TABLA', 'codigo': '/t15/p419/a2011/p06/', 'num_datos': '10', 'formato': 'VALORES_ABSOLUTOS_CCAA'}, 'hogares_tipo_familia': {'display_name': {'ES': 'Hogares por tipo de familia', 'EN': 'Households by family type'}, 'description': {'ES': 'Número de hogares por comunidades autónomas según el tipo de hogar y el tamaño del hogar', 'EN': 'Number of households by autonomous community by type of household and size of household'}, 'data_unit': {'ES': 'Miles de hogares', 'EN': 'Thousands of households'}, '_id': '02007.px', 'funcion': 'DATOS_TABLA', 'codigo': '/t20/p274/serie/def/p02/l0/', 'num_datos': '10', 'formato': 'VALORES_ABSOLUTOS_CCAA'}, 'hogares_densidad_ocupacion': {'display_name': {'ES': 'Hogares por densidad de ocupación', 'EN': 'Households by occupancy density'}, 'description': {'ES': 'Población residente por comunidades autónomas según tamaño del hogar y densidad de población', 'EN': 'Resident population by autonomous communities, household size and population density'}, 'data_unit': {'ES': 'Miles de personas', 'EN': 'Thousands of persons'}, '_id': '03011.px', 'funcion': 'DATOS_TABLA', 'codigo': '/t20/p274/serie/def/p05/l0/', 'num_datos': '10', 'formato': 'VALORES_ABSOLUTOS_CCAA'}, 'mayores_65_solos': {'display_name': {'ES': 'Mayores de 65 años solos', 'EN': 'Over 65 years old alone'}, 'description': {'ES': 'Número de hogares unipersonales con mayores de 65 años por comunidades autónomas según sexo', 'EN': 'Number of single-person households with inhabitants aged over 65 years old by autonomous community and sex'}, 'data_unit': {'ES': 'Miles de hogares unipersonales', 'EN': 'Thousands of single-person households'}, '_id': '02014.px', 'funcion': 'DATOS_TABLA', 'codigo': '/t20/p274/serie/def/p02/l0/', 'num_datos': '10', 'formato': 'VALORES_ABSOLUTOS_CCAA'}})\n",
      "('AEMETDataSource', <DataType.TEMPORAL: 0>, [<TemporalGranularity.DAILY: 0>], [<RegionalGranularity.COMMUNITY: 0>], 'aemet_stations', <DataFormat.JSON: 0>, 1, ['prec', 'presMax', 'presMin', 'racha', 'sol', 'tmax', 'tmed', 'tmin', 'velmedia', 'altitud', 'dir'], {'prec': {'display_name': {'ES': 'Precipitación', 'EN': 'Rainfall'}, 'description': {'ES': 'Precipitación diaria de 07 a 07', 'EN': 'Daily rainfall from 07 to 07'}, 'data_unit': {'ES': 'Milímetros (mm)', 'EN': 'Millimetres (mm)'}}, 'presMax': {'display_name': {'ES': 'Presión máxima', 'EN': 'Maximum pressure'}, 'description': {'ES': 'Presión máxima al nivel de referencia de la estación', 'EN': 'Maximum pressure at station reference level'}, 'data_unit': {'ES': 'Hectopascales (hPa)', 'EN': 'Hectopascals (hPa)'}}, 'presMin': {'display_name': {'ES': 'Presión mínima', 'EN': 'Minimum pressure'}, 'description': {'ES': 'Presión mínima al nivel de referencia de la estación', 'EN': 'Minimum pressure at station reference level'}, 'data_unit': {'ES': 'Hectopascales (hPa)', 'EN': 'Hectopascals (hPa)'}}, 'racha': {'display_name': {'ES': 'Racha máxima', 'EN': 'Maximum gust'}, 'description': {'ES': 'Racha máxima del viento', 'EN': 'Maximum wind gust'}, 'data_unit': {'ES': 'Metros por segundo (m/s)', 'EN': 'Meters per second (m/s)'}}, 'sol': {'display_name': {'ES': 'Insolación', 'EN': 'Isolation'}, 'description': {'ES': 'Horas de sol fuerte', 'EN': 'Hours of strong sunshine'}, 'data_unit': {'ES': 'Horas (h)', 'EN': 'Hours (h)'}}, 'tmax': {'display_name': {'ES': 'Temperatura máxima', 'EN': 'Maximum temperature'}, 'description': {'ES': 'Temperatura máxima del día', 'EN': 'Maximum daily temperature'}, 'data_unit': {'ES': 'Grados Celsius (°C)', 'EN': 'Celsius degrees (°C)'}}, 'tmed': {'display_name': {'ES': 'Temperatura media', 'EN': 'Mean temperature'}, 'description': {'ES': 'Temperatura media del día', 'EN': 'Medium daily temperature'}, 'data_unit': {'ES': 'Grados Celsius (°C)', 'EN': 'Celsius Degrees (°C)'}}, 'tmin': {'display_name': {'ES': 'Temperatura mínima', 'EN': 'Minimum temperature'}, 'description': {'ES': 'Temperatura mínima del día', 'EN': 'Minimum daily temperature'}, 'data_unit': {'ES': 'Grados Celsius (°C)', 'EN': 'Celsius degrees (°C)'}}, 'velmedia': {'display_name': {'ES': 'Velocidad viento', 'EN': 'Wind speed'}, 'description': {'ES': 'Velocidad media del viento', 'EN': 'Average wind speed'}, 'data_unit': {'ES': 'Metros por segundo (m/s)', 'EN': 'Meters per second (m/s)'}}, 'altitud': {'display_name': {'ES': 'Altitud', 'EN': 'Altitude'}, 'description': {'ES': 'Altitud de la estación en m sobre el nivel del mar', 'EN': 'Altitude of the station in m above the sea level'}, 'data_unit': {'ES': 'Metros (m)', 'EN': 'Meters (m)'}}, 'dir': {'display_name': {'ES': 'Dirección racha', 'EN': 'Gust direction'}, 'description': {'ES': 'Dirección de la racha máxima', 'EN': 'Direction of maximum wind gust'}, 'data_unit': {'ES': 'Decenas de grado (°)', 'EN': 'Tens of degrees (°)'}}})\n",
      "('COVID19DataSource', <DataType.TEMPORAL: 0>, [<TemporalGranularity.DAILY: 0>], [<RegionalGranularity.COMMUNITY: 0>, <RegionalGranularity.PROVINCE: 1>], 'code_ine', <DataFormat.CSV: 1>, 1, ['ia14', 'daily_cases_avg7', 'num_casos_prueba_pcr_avg7', 'daily_deaths_avg7', 'daily_deaths_avg3', 'num_casos', 'num_casos_prueba_pcr', 'num_casos_prueba_test_ac', 'num_casos_prueba_ag', 'num_casos_prueba_elisa', 'num_casos_prueba_desconocida', 'daily_deaths', 'daily_deaths_inc', 'cases_14days', 'deaths_last_week', 'cases_accumulated', 'cases_accumulated_PCR', 'hospitalized', 'intensive_care', 'deceased', 'recovered', 'cases_per_cienmil', 'intensive_care_per_100000', 'hospitalized_per_100000', 'deceassed_per_100000', 'accumulated_lethality', 'vaccine_provided', 'vaccine_supplied', 'vaccine_supplied_inc', 'pob_vaccine_supplied_inc'], {'ia14': {'display_name': {'ES': 'Incidencia acumulada en los últimos 14 días', 'EN': 'Cumulative incidence in the last 14 days'}, 'description': {'ES': 'Incidencia acumulada 14 días (casos en los últimos 14 días por cada 100.000 habitantes)', 'EN': 'Cumulative incidence 14 days (cases in the last 14 days per 100,000 inhabitants)'}, 'data_unit': {'ES': 'Número de personas', 'EN': 'Number of persons'}}, 'daily_cases_avg7': {'display_name': {'ES': 'Media de casos detectados en 7 días', 'EN': 'Average number of cases detected in 7 days'}, 'description': {'ES': 'Media de casos detectados (ventana de 7 días)', 'EN': 'Average daily cases in the last 7 days (rolling average 7 days)'}, 'data_unit': {'ES': 'Número de personas', 'EN': 'Number of persons'}}, 'num_casos_prueba_pcr_avg7': {'display_name': {'ES': 'Media de casos PCR confirmados en los últimos 7 días', 'EN': 'Average number of confirmed PCR cases in the last 7 days'}, 'description': {'ES': 'Media de casos (ventana de 7 días) de casos con prueba de laboratorio PCR o técnicas moleculares', 'EN': 'Average number of cases (7-day window) with laboratory PCR test or molecular techniques'}, 'data_unit': {'ES': 'Número de personas', 'EN': 'Number of persons'}}, 'daily_deaths_avg7': {'display_name': {'ES': 'Media de fallecidos en los últimos 7 días', 'EN': 'Average number of deaths in a 7-day window'}, 'description': {'ES': 'Media de fallecidos en una ventana de 7 días', 'EN': 'Average daily deaths in the last 7 days (rolling average 7 days)'}, 'data_unit': {'ES': 'Número de personas', 'EN': 'Number of persons'}}, 'daily_deaths_avg3': {'display_name': {'ES': 'Media de fallecidos en los últimos 3 días', 'EN': 'Average number of deaths in a 3-day window'}, 'description': {'ES': 'Media de fallecidos en una ventana de 3 días', 'EN': 'Average daily deaths in the last 3 days (rolling average 3 days)'}, 'data_unit': {'ES': 'Número de personas', 'EN': 'Number of persons'}}, 'num_casos': {'display_name': {'ES': 'Casos diarios', 'EN': 'New daily cases'}, 'description': {'ES': 'El número de casos diarios totales, confirmados o probables', 'EN': 'The number of daily total, confirmed or probable cases'}, 'data_source': 'ISCIII', 'data_unit': {'ES': 'Número de personas', 'EN': 'Number of persons'}}, 'num_casos_prueba_pcr': {'display_name': {'ES': 'Casos diarios PCR', 'EN': 'Daily Cases PCR'}, 'description': {'ES': 'El número de casos diarios con prueba de laboratorio PCR o técnicas moleculares', 'EN': 'The number of daily cases with laboratory PCR test or molecular techniques'}, 'data_source': 'ISCIII', 'data_unit': {'ES': 'Número de personas', 'EN': 'Number of persons'}}, 'num_casos_prueba_test_ac': {'display_name': {'ES': 'Casos diarios anticuerpos', 'EN': 'Daily cases of antibodies'}, 'description': {'ES': 'El número de casos diarios con prueba de laboratorio de test rápido de anticuerpos', 'EN': 'The number of daily cases with rapid antibody test laboratory'}, 'data_source': 'ISCIII', 'data_unit': {'ES': 'Número de personas', 'EN': 'Number of persons'}}, 'num_casos_prueba_ag': {'display_name': {'ES': 'Casos diarios prueba antígenos', 'EN': 'Daily cases tests antigen'}, 'description': {'ES': 'El número de casos diarios detectados con pruebas de detección de antígeno', 'EN': 'The number of daily cases detected by antigen test'}, 'data_unit': {'ES': 'Número de personas', 'EN': 'Number of persons'}}, 'num_casos_prueba_elisa': {'display_name': {'ES': 'Casos diarios prueba Elisa', 'EN': 'Daily cases tests Elisa'}, 'description': {'ES': 'El número de casos diarios detectados con técnica Elisa', 'EN': 'The number of daily cases detected by Elisa technique'}, 'data_unit': {'ES': 'Número de personas', 'EN': 'Number of persons'}}, 'num_casos_prueba_desconocida': {'display_name': {'ES': 'Casos diarios de pruebas desconocidas', 'EN': 'Daily cases unknown tests'}, 'description': {'ES': 'El número de casos diarios sin información sobre la prueba de laboratorios con la que ha sido detectada', 'EN': 'The number of daily cases without information on the laboratory test with which it has been detected'}, 'data_source': 'ISCIII', 'data_unit': {'ES': 'Número de personas', 'EN': 'Number of persons'}}, 'daily_deaths': {'display_name': {'ES': 'Fallecidos diarios', 'EN': 'Daily death cases'}, 'description': {'ES': 'Muertes diarias. Calculada como una diferencia de las muertes acumuladas notificadas', 'EN': 'Daily deaths. Calculated as a difference of cumulative deaths reported'}, 'data_unit': {'ES': 'Número de personas', 'EN': 'Number of persons'}}, 'daily_deaths_inc': {'display_name': {'ES': 'Porcentaje de nuevos fallecidos respecto de día anterior', 'EN': 'Percentage of new deaths compared to previous day'}, 'description': {'ES': 'Porcentaje de nuevos fallecidos con respecto al dia anterior', 'EN': 'Percentage of new deaths compared to previous day'}, 'data_unit': {'ES': 'Porcentaje (%)', 'EN': 'Percentage (%)'}}, 'cases_14days': {'display_name': {'ES': 'Casos detectados en los últimos 14 días', 'EN': 'Detected cases in the last 14 days'}, 'description': {'ES': 'Número de casos positivos en COVID19 en los últimos 14 días', 'EN': 'Number of positive cases in COVID19 in the last 14 days'}, 'data_unit': {'ES': 'Número de personas', 'EN': 'Number of persons'}}, 'deaths_last_week': {'display_name': {'ES': 'Fallecidos en los últimos 7 días', 'EN': 'Deaths in the last 7 days'}, 'description': {'ES': 'Número de fallecidos totales en una ventana de 7 días', 'EN': 'Total number of deaths in a 7-day window'}, 'data_unit': {'ES': 'Número de personas', 'EN': 'Number of persons'}}, 'cases_accumulated': {'display_name': {'ES': 'Casos acumulados', 'EN': 'Cumulative COVID19 cases'}, 'description': {'ES': 'Casos COVID19 detectados acumulado', 'EN': 'Number of new COVID19 cases (cumulative)'}, 'data_unit': {'ES': 'Número de personas', 'EN': 'Number of persons'}}, 'cases_accumulated_PCR': {'display_name': {'ES': 'Casos acumulados PCR', 'EN': 'Cumulative cases PCR'}, 'description': {'ES': 'Casos acumulados COVID19 detectados por PCR ', 'EN': 'Number of new COVID19 cases detected with PCR (cumulative)'}, 'data_unit': {'ES': 'Número de personas', 'EN': 'Number of persons'}}, 'hospitalized': {'display_name': {'ES': 'Casos acumulados hospitalizados', 'EN': 'Cumulative hospitalised cases'}, 'description': {'ES': 'Numero de casos hospitalizadas acumulados', 'EN': 'Number of cumulative hospitalised cases'}, 'data_unit': {'ES': 'Número de personas', 'EN': 'Number of persons'}}, 'intensive_care': {'display_name': {'ES': 'Casos acumulados UCI', 'EN': 'Cumulative ICU cases'}, 'description': {'ES': 'Numero de pacientes acumulados en UCI', 'EN': 'Number of patients accumulated in ICU'}, 'data_unit': {'ES': 'Número de personas', 'EN': 'Number of persons'}}, 'deceased': {'display_name': {'ES': 'Casos acumulados fallecidos', 'EN': 'Cumulative deceased cases'}, 'description': {'ES': 'Número de fallecidos acumulado', 'EN': 'Cumulative number of deceased cases'}, 'data_unit': {'ES': 'Número de personas', 'EN': 'Number of persons'}}, 'recovered': {'display_name': {'ES': 'Casos acumulados recuperados', 'EN': 'Cumulative cases recovered'}, 'description': {'ES': 'Número acumulado de casos recuperados', 'EN': 'Cumulative number of recovered cases'}, 'data_unit': {'ES': 'Número de personas', 'EN': 'Number of persons'}}, 'cases_per_cienmil': {'display_name': {'ES': 'Casos acumulados por 100.000 habitantes', 'EN': 'Cumulative cases per 100,000 inhabitants'}, 'description': {'ES': 'Numero de casos acumulados de COVID19 por cada 100.000 habtiantes', 'EN': 'Cumulative number of confirmed COVID19 cases per 100,000 inhabitants'}, 'data_unit': {'ES': 'Número de personas', 'EN': 'Number of persons'}}, 'intensive_care_per_100000': {'display_name': {'ES': 'Casos UCI por 100.000 habitantes', 'EN': 'ICU cases per 100,000 inhabitants'}, 'description': {'ES': 'Número de casos acumulados de COVID19 en UCI por cada 100.000 habtiantes', 'EN': 'Cumulative number of cases in ICU per 100,000 inhabitants'}, 'data_unit': {'ES': 'Número de personas', 'EN': 'Number of persons'}}, 'hospitalized_per_100000': {'display_name': {'ES': 'Hospitalizados por 100.000 habitantes', 'EN': 'Hospitalised per 100,000 inhabitants'}, 'description': {'ES': 'Número de casos acumulados de COVID19 hospitalizados por cada 100.000 habitantes', 'EN': 'Cumulative number of COVID19 cases hospitalized per 100,000 inhabitants'}, 'data_unit': {'ES': 'Número de personas', 'EN': 'Number of persons'}}, 'deceassed_per_100000': {'display_name': {'ES': 'Fallecidos acumulados por 100.000 habitantes', 'EN': 'Cumulative deaths per 100,000 inhabitants'}, 'description': {'ES': 'Numero de fallecidos acumulados por COVID19 por cada 100.000 habitantes', 'EN': 'Cumulative number of COVID19 deceassed per 100,000 inhabitants'}, 'data_unit': {'ES': 'Número de personas', 'EN': 'Number of persons'}}, 'accumulated_lethality': {'display_name': {'ES': 'Letalidad acumulada', 'EN': 'Cumulative lethality'}, 'description': {'ES': 'Tasa de letalidad (fallecidos acumulados / casos acumulados)', 'EN': 'Case Fatality Rate (accumulated deaths / accumulated cases)'}, 'data_unit': {'ES': 'Porcentaje (%)', 'EN': 'Percentage (%)'}}, 'vaccine_provided': {'display_name': {'ES': 'Vacunas entregadas acumulado', 'EN': 'Cumulative vaccines provided'}, 'description': {'ES': 'Número acumulado de vacunas entregadas', 'EN': 'Cumulative number of vaccines provided'}, 'data_unit': {'ES': 'Número de dosis', 'EN': 'Number of doses'}}, 'vaccine_supplied': {'display_name': {'ES': 'Vacunas suministradas acumulado', 'EN': 'Cumulative vaccines supplied'}, 'description': {'ES': 'Número acumulado de vacunas suministradas', 'EN': 'Cumulative number of vaccines supplied'}, 'data_unit': {'ES': 'Número de dosis', 'EN': 'Number of doses'}}, 'vaccine_supplied_inc': {'display_name': {'ES': 'Porcentaje de vacunas suministradas', 'EN': 'Percentage of new vaccines supplied'}, 'description': {'ES': 'Porcentaje de vacunas suministradas con respecto a las entregadas', 'EN': 'Percentaje of new vaccines supplied in relation to vaccines provided'}, 'data_unit': {'ES': 'Porcentaje (%)', 'EN': 'Percentage (%)'}}, 'pob_vaccine_supplied_inc': {'display_name': {'ES': 'Porcentaje de población vacunada', 'EN': 'Percentage of vaccinated poblation'}, 'description': {'ES': 'Porcentaje de vacunadas suministradas con respecto a la población', 'EN': 'Percentaje of vaccines supplied in relation to poblation'}, 'data_unit': {'ES': 'Porcentaje (%)', 'EN': 'Percentage (%)'}}})\n",
      "('MobilityDataSource', <DataType.TEMPORAL: 0>, [<TemporalGranularity.DAILY: 0>], [<RegionalGranularity.COMMUNITY: 0>], 'name', <DataFormat.CSV: 1>, 1, ['grocery_and_pharmacy_percent_change_from_baseline', 'parks_percent_change_from_baseline', 'residential_percent_change_from_baseline', 'retail_and_recreation_percent_change_from_baseline', 'transit_stations_percent_change_from_baseline', 'workplaces_percent_change_from_baseline', 'driving'], {'grocery_and_pharmacy_percent_change_from_baseline': {'display_name': {'ES': 'Supermercados y farmacias', 'EN': 'Grocery and phamarcy'}, 'description': {'ES': 'Variación de la movilidad con respecto a la media en supermercados, mercados, tiendas de comestibles, droguerías y farmacias', 'EN': 'Mobility variation against the average in supermarkets, markets, stores and pharmacies'}, 'data_source': 'Google', 'data_unit': {'ES': 'Porcentaje (%)', 'EN': 'Percentage (%)'}}, 'parks_percent_change_from_baseline': {'display_name': {'ES': 'Parques', 'EN': 'Parks'}, 'description': {'ES': 'Variación de la movilidad con respecto a la media en parques locales, parques nacionales, playas públicas, marinas, parques para perros, plazas y jardines públicos', 'EN': 'Mobility variation against the average in local parks, national parks, public beaches, dog beaches, public squares and gardens'}, 'data_source': 'Google', 'data_unit': {'ES': 'Porcentaje (%)', 'EN': 'Percentage (%)'}}, 'residential_percent_change_from_baseline': {'display_name': {'ES': 'Residencial', 'EN': 'Residential'}, 'description': {'ES': 'Variación de la movilidad con respecto a la media en lugares de residencia, hogares', 'EN': 'Mobility variation against the average in places of residence, homes'}, 'data_source': 'Google', 'data_unit': {'ES': 'Porcentaje (%)', 'EN': 'Percentage (%)'}}, 'retail_and_recreation_percent_change_from_baseline': {'display_name': {'ES': 'Venta minorista, ocio y cultura', 'EN': 'Retail and recreation'}, 'description': {'ES': 'Variación de la movilidad con respecto a la media en restaurantes, cafeterías, centros comerciales, parques temáticos, museos, bibliotecas y cines', 'EN': 'Mobility variation against the average in restaurants, cafes, shopping malls, theme parks, museums, libraries and cinemas'}, 'data_source': 'Google', 'data_unit': {'ES': 'Porcentaje (%)', 'EN': 'Percentage (%)'}}, 'transit_stations_percent_change_from_baseline': {'display_name': {'ES': 'Transporte público', 'EN': 'Transit stations'}, 'description': {'ES': 'Variación de la movilidad con respecto a la media en estaciones de metro, autobús y tren', 'EN': 'Mobility variation against the average in subway, bus and train stations'}, 'data_source': 'Google', 'data_unit': {'ES': 'Porcentaje (%)', 'EN': 'Percentage (%)'}}, 'workplaces_percent_change_from_baseline': {'display_name': {'ES': 'Lugar de trabajo', 'EN': 'Workplace'}, 'description': {'ES': 'Variación de la movilidad con respecto a la media en lugares de trabajo', 'EN': 'Mobility variation against the average in workplaces'}, 'data_source': 'Google', 'data_unit': {'ES': 'Porcentaje (%)', 'EN': 'Percentage (%)'}}, 'driving': {'display_name': {'ES': 'Conducción', 'EN': 'Driving'}, 'description': {'ES': 'Variación de la movilidad con respecto a la media en desplazamientos con vehículos propios', 'EN': 'Mobility variation against the average when travelling with own vehicles'}, 'data_source': 'Apple', 'data_unit': {'ES': 'Porcentaje (%)', 'EN': 'Percentage (%)'}}})\n",
      "('MoMoDataSource', <DataType.TEMPORAL: 0>, [<TemporalGranularity.DAILY: 0>], [<RegionalGranularity.COMMUNITY: 0>], 'code_ine', <DataFormat.CSV: 1>, 1, ['defunciones_observadas', 'defunciones_observadas_lim_inf', 'defunciones_observadas_lim_sup', 'defunciones_esperadas', 'defunciones_esperadas_q01', 'defunciones_esperadas_q99'], {'defunciones_observadas': {'display_name': {'ES': 'Defunciones observadas', 'EN': 'Observed deaths'}, 'description': {'ES': 'Defunciones observadas (incluye la corrección por retraso)', 'EN': 'Observed deaths (including delay correction)'}, 'data_unit': {'ES': 'Número de personas', 'EN': 'Number of persons'}}, 'defunciones_observadas_lim_inf': {'display_name': {'ES': 'Defunciones observadas (límite inferior)', 'EN': 'Observed deaths (lower bound)'}, 'description': {'ES': 'Límite inferior del invervalo de confianza de las defunciones observadas (debido a la corrección)', 'EN': 'Lower bound of the observed death confidence interval (due to correction)'}, 'data_unit': {'ES': 'Número de personas', 'EN': 'Number of persons'}}, 'defunciones_observadas_lim_sup': {'display_name': {'ES': 'Defunciones observadas (límite superior)', 'EN': 'Observed deaths (upper bound)'}, 'description': {'ES': 'Límite superior del invervalo de confianza de las defunciones observadas (debido a la corrección)', 'EN': 'Upper bound of the observed death confidence interval (due to correction)'}, 'data_unit': {'ES': 'Número de personas', 'EN': 'Number of persons'}}, 'defunciones_esperadas': {'display_name': {'ES': 'Defunciones esperadas', 'EN': 'Expected deaths'}, 'description': {'ES': 'Defunciones esperadas, resultantes del modelo', 'EN': 'Expected deaths, resulting from the model'}, 'data_unit': {'ES': 'Número de personas', 'EN': 'Number of persons'}}, 'defunciones_esperadas_q01': {'display_name': {'ES': 'Defunciones esperadas (percentil 1)', 'EN': 'Expected deaths (1st percentile)'}, 'description': {'ES': 'Límite inferior del intervalo de confianza de las defunciones esperadas, correspondiente al percentil 1 de la distribución', 'EN': 'Lower bound of the confidence interval of expected deaths, corresponding to the 1st percentile of the distribution'}, 'data_unit': {'ES': 'Número de personas', 'EN': 'Number of persons'}}, 'defunciones_esperadas_q99': {'display_name': {'ES': 'Defunciones esperadas (percentil 99)', 'EN': 'Expected deaths (99th percentile)'}, 'description': {'ES': 'Límite superior del intervalo de confianza de las defunciones esperadas, correspondiente al percentil 99 de la distribución', 'EN': 'Upper bound of the confidence interval of expected deaths, corresponding to the 99th percentile of the distribution'}, 'data_unit': {'ES': 'Número de personas', 'EN': 'Number of persons'}}})\n"
     ]
    }
   ],
   "source": [
    "COnVIDa.get_data_types()\n",
    "COnVIDa.get_sources_info()"
   ]
  },
  {
   "cell_type": "markdown",
   "metadata": {},
   "source": [
    "### 3.1 COVID testing"
   ]
  },
  {
   "cell_type": "code",
   "execution_count": 11,
   "metadata": {},
   "outputs": [],
   "source": [
    "start = pd.to_datetime('2021-01-01', format='%Y-%m-%d')\n",
    "end = pd.to_datetime('today', format='%Y-%m-%d')\n",
    "\n",
    "data_items = COnVIDa.get_data_items_names()['COVID19DataSource']\n",
    "\n",
    "regions = Regions.get_regions('ES')"
   ]
  },
  {
   "cell_type": "code",
   "execution_count": null,
   "metadata": {},
   "outputs": [],
   "source": [
    "data = COnVIDa.get_data_items(regions=[regions[0]],\n",
    "                              data_items=[data_items[0]], \n",
    "                              start_date=start, \n",
    "                              end_date=end,\n",
    "                              errors='raise')\n",
    "display(data.tail(5))"
   ]
  },
  {
   "cell_type": "code",
   "execution_count": null,
   "metadata": {},
   "outputs": [],
   "source": [
    "data = COnVIDa.get_data_items(regions=regions[0:5],\n",
    "                              data_items=[data_items[0]], \n",
    "                              start_date=start, \n",
    "                              end_date=end)\n",
    "display(data.tail(2))"
   ]
  },
  {
   "cell_type": "code",
   "execution_count": null,
   "metadata": {},
   "outputs": [],
   "source": [
    "data.sample(5)"
   ]
  },
  {
   "cell_type": "code",
   "execution_count": null,
   "metadata": {},
   "outputs": [],
   "source": [
    "data = COnVIDa.get_data_items(regions=[regions[0]],\n",
    "                              data_items=data_items[0:5], \n",
    "                              start_date=start, \n",
    "                              end_date=end)\n",
    "display(data.tail(2))"
   ]
  },
  {
   "cell_type": "code",
   "execution_count": null,
   "metadata": {},
   "outputs": [],
   "source": [
    "data = COnVIDa.get_data_items(regions=regions,\n",
    "                              data_items=data_items, \n",
    "                              start_date=start, \n",
    "                              end_date=end)\n",
    "display(data.tail(2))"
   ]
  },
  {
   "cell_type": "code",
   "execution_count": null,
   "metadata": {},
   "outputs": [],
   "source": [
    "start = pd.to_datetime('2020-06-07', format='%Y-%m-%d')\n",
    "end = pd.to_datetime('today', format='%Y-%m-%d')\n",
    "data = COnVIDa.get_data_items(regions=['Murcia','Madrid','Andalucía'],\n",
    "                              data_items=['Altas', 'Casos','Fallecidos'], \n",
    "                              start_date=start, \n",
    "                              end_date=end)\n",
    "display(data)"
   ]
  },
  {
   "cell_type": "code",
   "execution_count": null,
   "metadata": {},
   "outputs": [],
   "source": [
    "data.to_markdown()"
   ]
  },
  {
   "cell_type": "markdown",
   "metadata": {},
   "source": [
    "### 3.2 INE testing"
   ]
  },
  {
   "cell_type": "code",
   "execution_count": 17,
   "metadata": {},
   "outputs": [],
   "source": [
    "data_items = COnVIDa.get_data_items_names()['INEDataSource']\n",
    "\n",
    "regions = Regions.get_regions('ES')"
   ]
  },
  {
   "cell_type": "code",
   "execution_count": 18,
   "metadata": {},
   "outputs": [
    {
     "name": "stdout",
     "output_type": "stream",
     "text": [
      "Assumed a TEMPORAL data retrieval...\n",
      "WARNING. Item Actividad física is not TEMPORAL data\n",
      "WARNING: No result found for the specified data items and conditions\n"
     ]
    }
   ],
   "source": [
    "data = COnVIDa.get_data_items(regions=[regions[0]],\n",
    "                              data_items=[data_items[0]], \n",
    "                              start_date=start, \n",
    "                              end_date=end)"
   ]
  },
  {
   "cell_type": "code",
   "execution_count": null,
   "metadata": {},
   "outputs": [],
   "source": [
    "data = COnVIDa.get_data_items(regions=[regions[0]],\n",
    "                              data_items=[data_items[0]])\n",
    "display(data.tail(3))"
   ]
  },
  {
   "cell_type": "code",
   "execution_count": null,
   "metadata": {},
   "outputs": [],
   "source": [
    "data = COnVIDa.get_data_items(regions=regions[0:5],\n",
    "                              data_items=[data_items[0]])\n",
    "display(data.tail(2))"
   ]
  },
  {
   "cell_type": "code",
   "execution_count": null,
   "metadata": {},
   "outputs": [],
   "source": [
    "data = COnVIDa.get_data_items(regions=[regions[0]],\n",
    "                              data_items=data_items[0:5])\n",
    "display(data.tail(2))"
   ]
  },
  {
   "cell_type": "code",
   "execution_count": null,
   "metadata": {},
   "outputs": [],
   "source": [
    "data = COnVIDa.get_data_items(regions=regions,\n",
    "                              data_items=data_items)\n",
    "display(data.tail(2))"
   ]
  },
  {
   "cell_type": "markdown",
   "metadata": {},
   "source": [
    "### 3.3 Mobility testing"
   ]
  },
  {
   "cell_type": "code",
   "execution_count": 21,
   "metadata": {},
   "outputs": [],
   "source": [
    "start = pd.to_datetime('2020-05-01', format='%Y-%m-%d')\n",
    "end = pd.to_datetime('today', format='%Y-%m-%d')\n",
    "\n",
    "data_items = COnVIDa.get_data_items_names()['MobilityDataSource']\n",
    "\n",
    "regions = Regions.get_regions('ES')"
   ]
  },
  {
   "cell_type": "code",
   "execution_count": null,
   "metadata": {},
   "outputs": [],
   "source": [
    "data = COnVIDa.get_data_items(regions=[regions[0]],\n",
    "                              data_items=[data_items[0]], \n",
    "                              start_date=start, \n",
    "                              end_date=end, errors='raise')\n",
    "display(data.sample(5))"
   ]
  },
  {
   "cell_type": "code",
   "execution_count": null,
   "metadata": {},
   "outputs": [],
   "source": [
    "data = COnVIDa.get_data_items(regions=regions[0:5],\n",
    "                              data_items=[data_items[0]], \n",
    "                              start_date=start, \n",
    "                              end_date=end, errors='raise')\n",
    "display(data.sample(2))"
   ]
  },
  {
   "cell_type": "code",
   "execution_count": null,
   "metadata": {},
   "outputs": [],
   "source": [
    "data = COnVIDa.get_data_items(regions=[regions[0]],\n",
    "                              data_items=data_items[0:5], \n",
    "                              start_date=start, \n",
    "                              end_date=end, errors='raise')\n",
    "display(data.sample(2))"
   ]
  },
  {
   "cell_type": "code",
   "execution_count": null,
   "metadata": {},
   "outputs": [],
   "source": [
    "data = COnVIDa.get_data_items(regions=regions,\n",
    "                              data_items=data_items, \n",
    "                              start_date=start, \n",
    "                              end_date=end, errors='raise')\n",
    "display(data.sample(2))"
   ]
  },
  {
   "cell_type": "markdown",
   "metadata": {},
   "source": [
    "### 3.4 MoMo testing"
   ]
  },
  {
   "cell_type": "code",
   "execution_count": 10,
   "metadata": {},
   "outputs": [],
   "source": [
    "start = pd.to_datetime('2020-05-01', format='%Y-%m-%d')\n",
    "end = pd.to_datetime('today', format='%Y-%m-%d')\n",
    "\n",
    "data_items = COnVIDa.get_data_items_names()['MoMoDataSource']\n",
    "\n",
    "regions = Regions.get_regions('ES')"
   ]
  },
  {
   "cell_type": "code",
   "execution_count": 11,
   "metadata": {},
   "outputs": [
    {
     "name": "stdout",
     "output_type": "stream",
     "text": [
      "['España', 'CA Andalucía', 'CA Aragón', 'CA Principado de Asturias', 'CA Islas Baleares', 'CA Canarias', 'CA Cantabria', 'CA Castilla-La Mancha', 'CA Castilla y León', 'CA Cataluña', 'CA Ceuta', 'CA Comunidad Valenciana', 'CA Extremadura', 'CA Galicia', 'CA Comunidad de Madrid', 'CA Melilla', 'CA Región de Murcia', 'CA Comunidad Foral de Navarra', 'CA País Vasco', 'CA La Rioja']\n"
     ]
    }
   ],
   "source": [
    "print(regions)"
   ]
  },
  {
   "cell_type": "code",
   "execution_count": null,
   "metadata": {},
   "outputs": [],
   "source": [
    "data = COnVIDa.get_data_items(regions=[regions[0]],\n",
    "                              data_items=[data_items[0]], \n",
    "                              start_date=start, \n",
    "                              end_date=end)\n",
    "display(data.tail(5))"
   ]
  },
  {
   "cell_type": "code",
   "execution_count": null,
   "metadata": {},
   "outputs": [],
   "source": [
    "data = COnVIDa.get_data_items(regions=regions[0:5],\n",
    "                              data_items=[data_items[0]], \n",
    "                              start_date=start, \n",
    "                              end_date=end)\n",
    "display(data.tail(2))"
   ]
  },
  {
   "cell_type": "code",
   "execution_count": null,
   "metadata": {},
   "outputs": [],
   "source": [
    "data = COnVIDa.get_data_items(regions=[regions[0]],\n",
    "                              data_items=data_items[0:5], \n",
    "                              start_date=start, \n",
    "                              end_date=end)\n",
    "display(data.tail(2))"
   ]
  },
  {
   "cell_type": "code",
   "execution_count": null,
   "metadata": {},
   "outputs": [],
   "source": [
    "data = COnVIDa.get_data_items(regions=regions,\n",
    "                              data_items=data_items, \n",
    "                              start_date=start, \n",
    "                              end_date=end)\n",
    "display(data.tail(2))"
   ]
  },
  {
   "cell_type": "markdown",
   "metadata": {},
   "source": [
    "### 3.5 AEMET testing"
   ]
  },
  {
   "cell_type": "code",
   "execution_count": null,
   "metadata": {},
   "outputs": [],
   "source": [
    "start = pd.to_datetime('2020-05-01', format='%Y-%m-%d')\n",
    "end = pd.to_datetime('today', format='%Y-%m-%d')\n",
    "\n",
    "data_items = COnVIDa.get_data_items_names()['AEMETDataSource']\n",
    "\n",
    "regions = Regions.get_regions('ES')"
   ]
  },
  {
   "cell_type": "code",
   "execution_count": null,
   "metadata": {},
   "outputs": [],
   "source": [
    "data = COnVIDa.get_data_items(regions=[regions[0]],\n",
    "                              data_items=[data_items[0]], \n",
    "                              start_date=start, \n",
    "                              end_date=end,\n",
    "                              errors='raise')\n",
    "display(data.sample(5))"
   ]
  },
  {
   "cell_type": "code",
   "execution_count": null,
   "metadata": {},
   "outputs": [],
   "source": [
    "data = COnVIDa.get_data_items(regions=regions[0:5],\n",
    "                              data_items=[data_items[0]], \n",
    "                              start_date=start, \n",
    "                              end_date=end,\n",
    "                              errors='raise')\n",
    "display(data.sample(2))"
   ]
  },
  {
   "cell_type": "code",
   "execution_count": null,
   "metadata": {},
   "outputs": [],
   "source": [
    "data = COnVIDa.get_data_items(regions=[regions[0]],\n",
    "                              data_items=data_items[0:5], \n",
    "                              start_date=start, \n",
    "                              end_date=end)\n",
    "display(data.sample(2))"
   ]
  },
  {
   "cell_type": "code",
   "execution_count": null,
   "metadata": {},
   "outputs": [],
   "source": [
    "data = COnVIDa.get_data_items(regions=regions,\n",
    "                              data_items=data_items, \n",
    "                              start_date=start, \n",
    "                              end_date=end)\n",
    "display(data.sample(2))"
   ]
  },
  {
   "cell_type": "markdown",
   "metadata": {},
   "source": [
    "### 4. TEMPORAL testing (joining different sources)"
   ]
  },
  {
   "cell_type": "code",
   "execution_count": null,
   "metadata": {},
   "outputs": [],
   "source": [
    "start = pd.to_datetime('2020-05-01', format='%Y-%m-%d')\n",
    "end = pd.to_datetime('today', format='%Y-%m-%d')"
   ]
  },
  {
   "cell_type": "code",
   "execution_count": null,
   "metadata": {},
   "outputs": [],
   "source": [
    "data = COnVIDa.get_data_items(regions=['Murcia'],\n",
    "                              data_items=['Altas', 'Casos', 'Precipitación','Insolación'], \n",
    "                              start_date=start,\n",
    "                              end_date=end)\n",
    "display(data.sample(5))"
   ]
  },
  {
   "cell_type": "code",
   "execution_count": null,
   "metadata": {},
   "outputs": [],
   "source": [
    "data = COnVIDa.get_data_items(regions=['Murcia','Andalucía'],data_items=['Altas', 'Casos', 'Precipitación','Insolación','Supermercados y farmacias','Conducción','Parques'], start_date=start, end_date=end)\n",
    "display(data.sample(10))"
   ]
  },
  {
   "cell_type": "code",
   "execution_count": null,
   "metadata": {},
   "outputs": [],
   "source": [
    "data = COnVIDa.get_data_items(regions=['Murcia','Andalucía','Madrid'],data_items=['Altas', 'Casos', 'Precipitación','Insolación','Supermercados y farmacias', 'Parques', 'Residencial'], start_date=start, end_date=end)\n",
    "display(data.sample(10))"
   ]
  },
  {
   "cell_type": "code",
   "execution_count": null,
   "metadata": {},
   "outputs": [],
   "source": [
    "data.head(2)"
   ]
  },
  {
   "cell_type": "code",
   "execution_count": null,
   "metadata": {},
   "outputs": [],
   "source": [
    "data.tail(2)"
   ]
  },
  {
   "cell_type": "markdown",
   "metadata": {},
   "source": [
    "### 5. Internal testing"
   ]
  },
  {
   "cell_type": "code",
   "execution_count": null,
   "metadata": {},
   "outputs": [],
   "source": [
    "COnVIDa.get_data_items_names(DataType.TEMPORAL,language='internal')"
   ]
  },
  {
   "cell_type": "code",
   "execution_count": null,
   "metadata": {},
   "outputs": [],
   "source": [
    "start = pd.to_datetime('2020-03-01', format='%Y-%m-%d')\n",
    "end = pd.to_datetime('today', format='%Y-%m-%d')"
   ]
  },
  {
   "cell_type": "code",
   "execution_count": null,
   "metadata": {},
   "outputs": [],
   "source": [
    "data = COnVIDa.get_data_items(regions=['Murcia'],\n",
    "                              data_items=['parks_percent_change_from_baseline',\n",
    "                                          'casos','confirmados_pcr',\n",
    "                                          'prec',\n",
    "                                          'presMax',\n",
    "                                          'defunciones_observadas',\n",
    "                                          'defunciones_observadas_lim_inf',\n",
    "                                          'defunciones_observadas_lim_sup',], \n",
    "                              start_date=start,\n",
    "                              end_date=end,\n",
    "                              language='internal')\n",
    "display(data.sample(5))"
   ]
  },
  {
   "cell_type": "code",
   "execution_count": null,
   "metadata": {},
   "outputs": [],
   "source": [
    "data = COnVIDa.get_data_items(regions=['Murcia','Andalucía'],\n",
    "                              data_items=['parks_percent_change_from_baseline',\n",
    "                                           'casos',\n",
    "                                           'confirmados_pcr',\n",
    "                                           'prec',\n",
    "                                           'presMax',\n",
    "                                           'defunciones_observadas',\n",
    "                                           'defunciones_observadas_lim_inf',\n",
    "                                           'defunciones_observadas_lim_sup'],  \n",
    "                              start_date=start, \n",
    "                              end_date=end,\n",
    "                              language='internal')\n",
    "display(data.sample(10))"
   ]
  },
  {
   "cell_type": "code",
   "execution_count": null,
   "metadata": {},
   "outputs": [],
   "source": [
    "data = COnVIDa.get_data_items(regions=['Murcia','Andalucía','Madrid','Asturias'],\n",
    "                              data_items=['parks_percent_change_from_baseline',\n",
    "                                           'casos',\n",
    "                                           'confirmados_pcr',\n",
    "                                           'prec',\n",
    "                                           'presMax',\n",
    "                                           'defunciones_observadas',\n",
    "                                           'defunciones_observadas_lim_inf',\n",
    "                                           'defunciones_observadas_lim_sup'],  \n",
    "                              start_date=start, \n",
    "                              end_date=end,\n",
    "                              language='internal')\n",
    "display(data.sample(10))"
   ]
  },
  {
   "cell_type": "code",
   "execution_count": null,
   "metadata": {},
   "outputs": [],
   "source": [
    "data.head(2)"
   ]
  },
  {
   "cell_type": "code",
   "execution_count": null,
   "metadata": {},
   "outputs": [],
   "source": [
    "data.tail(2)"
   ]
  }
 ],
 "metadata": {
  "kernelspec": {
   "display_name": "Python 3",
   "language": "python",
   "name": "python3"
  },
  "language_info": {
   "codemirror_mode": {
    "name": "ipython",
    "version": 3
   },
   "file_extension": ".py",
   "mimetype": "text/x-python",
   "name": "python",
   "nbconvert_exporter": "python",
   "pygments_lexer": "ipython3",
   "version": "3.7.7"
  }
 },
 "nbformat": 4,
 "nbformat_minor": 4
}
