{
 "cells": [
  {
   "cell_type": "code",
   "execution_count": 1,
   "metadata": {},
   "outputs": [],
   "source": [
    "from convida import COnVIDa\n",
    "from datatype import DataType\n",
    "from regions import Regions\n",
    "from regionalgranularity import RegionalGranularity\n",
    "from temporalgranularity import TemporalGranularity\n",
    "import pandas as pd"
   ]
  },
  {
   "cell_type": "markdown",
   "metadata": {},
   "source": [
    "## Testing"
   ]
  },
  {
   "cell_type": "code",
   "execution_count": 2,
   "metadata": {},
   "outputs": [
    {
     "data": {
      "text/plain": [
       "['DataType.TEMPORAL', 'DataType.GEOGRAPHICAL']"
      ]
     },
     "execution_count": 2,
     "metadata": {},
     "output_type": "execute_result"
    }
   ],
   "source": [
    "COnVIDa.get_data_types()"
   ]
  },
  {
   "cell_type": "code",
   "execution_count": 3,
   "metadata": {},
   "outputs": [
    {
     "data": {
      "text/plain": [
       "{'AEMETDataSource': ['Precipitación',\n",
       "  'Presión máxima',\n",
       "  'Presión mínima',\n",
       "  'Racha máxima',\n",
       "  'Insolación',\n",
       "  'Temperatura máxima',\n",
       "  'Temperatura media',\n",
       "  'Temperatura mínima',\n",
       "  'Velocidad viento',\n",
       "  'Altitud',\n",
       "  'Dirección racha'],\n",
       " 'COVID19DataSource': ['Incidencia acumulada en los últimos 14 días',\n",
       "  'Media de casos detectados en 7 días',\n",
       "  'Media de casos PCR confirmados en los últimos 7 días',\n",
       "  'Media de fallecidos en los últimos 7 días',\n",
       "  'Media de fallecidos en los últimos 3 días',\n",
       "  'Casos diarios',\n",
       "  'Casos diarios PCR',\n",
       "  'Casos diarios anticuerpos',\n",
       "  'Casos diarios prueba antígenos',\n",
       "  'Casos diarios prueba Elisa',\n",
       "  'Casos diarios de pruebas desconocidas',\n",
       "  'Fallecidos diarios',\n",
       "  'Porcentaje de nuevos fallecidos respecto de día anterior',\n",
       "  'Casos detectados en los últimos 14 días',\n",
       "  'Fallecidos en los últimos 7 días',\n",
       "  'Casos acumulados',\n",
       "  'Casos acumulados PCR',\n",
       "  'Casos acumulados hospitalizados',\n",
       "  'Casos acumulados UCI',\n",
       "  'Casos acumulados fallecidos',\n",
       "  'Casos acumulados recuperados',\n",
       "  'Casos acumulados por 100.000 habitantes',\n",
       "  'Casos UCI por 100.000 habitantes',\n",
       "  'Hospitalizados por 100.000 habitantes',\n",
       "  'Fallecidos acumulados por 100.000 habitantes',\n",
       "  'Letalidad acumulada',\n",
       "  'Vacunas entregadas acumulado',\n",
       "  'Vacunas suministradas acumulado',\n",
       "  'Porcentaje de vacunas suministradas',\n",
       "  'Porcentaje de población vacunada'],\n",
       " 'MobilityDataSource': ['Supermercados y farmacias',\n",
       "  'Parques',\n",
       "  'Residencial',\n",
       "  'Venta minorista, ocio y cultura',\n",
       "  'Transporte público',\n",
       "  'Lugar de trabajo',\n",
       "  'Conducción'],\n",
       " 'MoMoDataSource': ['Defunciones observadas',\n",
       "  'Defunciones observadas (límite inferior)',\n",
       "  'Defunciones observadas (límite superior)',\n",
       "  'Defunciones esperadas',\n",
       "  'Defunciones esperadas (percentil 1)',\n",
       "  'Defunciones esperadas (percentil 99)']}"
      ]
     },
     "execution_count": 3,
     "metadata": {},
     "output_type": "execute_result"
    }
   ],
   "source": [
    "COnVIDa.get_data_items_names(DataType.TEMPORAL)"
   ]
  },
  {
   "cell_type": "code",
   "execution_count": 4,
   "metadata": {},
   "outputs": [
    {
     "data": {
      "text/plain": [
       "{'INEDataSource': ['Actividad física',\n",
       "  'Índice de masa corporal (IMC)',\n",
       "  'Tabaquismo',\n",
       "  'Hogares por tipo de familia',\n",
       "  'Hogares por densidad de ocupación',\n",
       "  'Mayores de 65 años solos']}"
      ]
     },
     "execution_count": 4,
     "metadata": {},
     "output_type": "execute_result"
    }
   ],
   "source": [
    "COnVIDa.get_data_items_names(DataType.GEOGRAPHICAL)"
   ]
  },
  {
   "cell_type": "code",
   "execution_count": 5,
   "metadata": {},
   "outputs": [
    {
     "name": "stdout",
     "output_type": "stream",
     "text": [
      "{'INEDataSource': ['Nivel de actividad física según sexo y comunidad autónoma. Población de 15 a 69 años', 'Índice de masa corporal población adulta según sexo y comunidad autónoma. Población de 18 y más años', 'Consumo de tabaco según sexo y comunidad autónoma. Población de 15 y más años', 'Número de hogares por comunidades autónomas según el tipo de hogar y el tamaño del hogar', 'Población residente por comunidades autónomas según tamaño del hogar y densidad de población', 'Número de hogares unipersonales con mayores de 65 años por comunidades autónomas según sexo']}\n",
      "{'INEDataSource': ['Level of physical activity by sex and autonomous community. Population from 15 to 69 years old', 'Body mass index of adult population by sex and autonomous community. Population aged 18 years old and above', 'Tobacco consumption by sex and autonomous community. Population aged 15 years old and above', 'Number of households by autonomous community by type of household and size of household', 'Resident population by autonomous communities, household size and population density', 'Number of single-person households with inhabitants aged over 65 years old by autonomous community and sex']}\n"
     ]
    }
   ],
   "source": [
    "print(COnVIDa.get_data_items_descriptions(DataType.GEOGRAPHICAL))\n",
    "print(COnVIDa.get_data_items_descriptions(DataType.GEOGRAPHICAL, 'EN'))"
   ]
  },
  {
   "cell_type": "code",
   "execution_count": 6,
   "metadata": {},
   "outputs": [
    {
     "name": "stdout",
     "output_type": "stream",
     "text": [
      "{'AEMETDataSource': ['Precipitación diaria de 07 a 07', 'Presión máxima al nivel de referencia de la estación', 'Presión mínima al nivel de referencia de la estación', 'Racha máxima del viento', 'Horas de sol fuerte', 'Temperatura máxima del día', 'Temperatura media del día', 'Temperatura mínima del día', 'Velocidad media del viento', 'Altitud de la estación en m sobre el nivel del mar', 'Dirección de la racha máxima'], 'COVID19DataSource': ['Incidencia acumulada 14 días (casos en los últimos 14 días por cada 100.000 habitantes)', 'Media de casos detectados (ventana de 7 días)', 'Media de casos (ventana de 7 días) de casos con prueba de laboratorio PCR o técnicas moleculares', 'Media de fallecidos en una ventana de 7 días', 'Media de fallecidos en una ventana de 3 días', 'El número de casos diarios totales, confirmados o probables', 'El número de casos diarios con prueba de laboratorio PCR o técnicas moleculares', 'El número de casos diarios con prueba de laboratorio de test rápido de anticuerpos', 'El número de casos diarios detectados con pruebas de detección de antígeno', 'El número de casos diarios detectados con técnica Elisa', 'El número de casos diarios sin información sobre la prueba de laboratorios con la que ha sido detectada', 'Muertes diarias. Calculada como una diferencia de las muertes acumuladas notificadas', 'Porcentaje de nuevos fallecidos con respecto al dia anterior', 'Número de casos positivos en COVID19 en los últimos 14 días', 'Número de fallecidos totales en una ventana de 7 días', 'Casos COVID19 detectados acumulado', 'Casos acumulados COVID19 detectados por PCR ', 'Numero de casos hospitalizadas acumulados', 'Numero de pacientes acumulados en UCI', 'Número de fallecidos acumulado', 'Número acumulado de casos recuperados', 'Numero de casos acumulados de COVID19 por cada 100.000 habtiantes', 'Número de casos acumulados de COVID19 en UCI por cada 100.000 habtiantes', 'Número de casos acumulados de COVID19 hospitalizados por cada 100.000 habitantes', 'Numero de fallecidos acumulados por COVID19 por cada 100.000 habitantes', 'Tasa de letalidad (fallecidos acumulados / casos acumulados)', 'Número acumulado de vacunas entregadas', 'Número acumulado de vacunas suministradas', 'Porcentaje de vacunas suministradas con respecto a las entregadas', 'Porcentaje de vacunadas suministradas con respecto a la población'], 'MobilityDataSource': ['Variación de la movilidad con respecto a la media en supermercados, mercados, tiendas de comestibles, droguerías y farmacias', 'Variación de la movilidad con respecto a la media en parques locales, parques nacionales, playas públicas, marinas, parques para perros, plazas y jardines públicos', 'Variación de la movilidad con respecto a la media en lugares de residencia, hogares', 'Variación de la movilidad con respecto a la media en restaurantes, cafeterías, centros comerciales, parques temáticos, museos, bibliotecas y cines', 'Variación de la movilidad con respecto a la media en estaciones de metro, autobús y tren', 'Variación de la movilidad con respecto a la media en lugares de trabajo', 'Variación de la movilidad con respecto a la media en desplazamientos con vehículos propios'], 'MoMoDataSource': ['Defunciones observadas (incluye la corrección por retraso)', 'Límite inferior del invervalo de confianza de las defunciones observadas (debido a la corrección)', 'Límite superior del invervalo de confianza de las defunciones observadas (debido a la corrección)', 'Defunciones esperadas, resultantes del modelo', 'Límite inferior del intervalo de confianza de las defunciones esperadas, correspondiente al percentil 1 de la distribución', 'Límite superior del intervalo de confianza de las defunciones esperadas, correspondiente al percentil 99 de la distribución']}\n",
      "{'AEMETDataSource': ['Daily rainfall from 07 to 07', 'Maximum pressure at station reference level', 'Minimum pressure at station reference level', 'Maximum wind gust', 'Hours of strong sunshine', 'Maximum daily temperature', 'Medium daily temperature', 'Minimum daily temperature', 'Average wind speed', 'Altitude of the station in m above the sea level', 'Direction of maximum wind gust'], 'COVID19DataSource': ['Cumulative incidence 14 days (cases in the last 14 days per 100,000 inhabitants)', 'Average daily cases in the last 7 days (rolling average 7 days)', 'Average number of cases (7-day window) with laboratory PCR test or molecular techniques', 'Average daily deaths in the last 7 days (rolling average 7 days)', 'Average daily deaths in the last 3 days (rolling average 3 days)', 'The number of daily total, confirmed or probable cases', 'The number of daily cases with laboratory PCR test or molecular techniques', 'The number of daily cases with rapid antibody test laboratory', 'The number of daily cases detected by antigen test', 'The number of daily cases detected by Elisa technique', 'The number of daily cases without information on the laboratory test with which it has been detected', 'Daily deaths. Calculated as a difference of cumulative deaths reported', 'Percentage of new deaths compared to previous day', 'Number of positive cases in COVID19 in the last 14 days', 'Total number of deaths in a 7-day window', 'Number of new COVID19 cases (cumulative)', 'Number of new COVID19 cases detected with PCR (cumulative)', 'Number of cumulative hospitalised cases', 'Number of patients accumulated in ICU', 'Cumulative number of deceased cases', 'Cumulative number of recovered cases', 'Cumulative number of confirmed COVID19 cases per 100,000 inhabitants', 'Cumulative number of cases in ICU per 100,000 inhabitants', 'Cumulative number of COVID19 cases hospitalized per 100,000 inhabitants', 'Cumulative number of COVID19 deceassed per 100,000 inhabitants', 'Case Fatality Rate (accumulated deaths / accumulated cases)', 'Cumulative number of vaccines provided', 'Cumulative number of vaccines supplied', 'Percentaje of new vaccines supplied in relation to vaccines provided', 'Percentaje of vaccines supplied in relation to poblation'], 'MobilityDataSource': ['Mobility variation against the average in supermarkets, markets, stores and pharmacies', 'Mobility variation against the average in local parks, national parks, public beaches, dog beaches, public squares and gardens', 'Mobility variation against the average in places of residence, homes', 'Mobility variation against the average in restaurants, cafes, shopping malls, theme parks, museums, libraries and cinemas', 'Mobility variation against the average in subway, bus and train stations', 'Mobility variation against the average in workplaces', 'Mobility variation against the average when travelling with own vehicles'], 'MoMoDataSource': ['Observed deaths (including delay correction)', 'Lower bound of the observed death confidence interval (due to correction)', 'Upper bound of the observed death confidence interval (due to correction)', 'Expected deaths, resulting from the model', 'Lower bound of the confidence interval of expected deaths, corresponding to the 1st percentile of the distribution', 'Upper bound of the confidence interval of expected deaths, corresponding to the 99th percentile of the distribution']}\n"
     ]
    }
   ],
   "source": [
    "print(COnVIDa.get_data_items_descriptions(DataType.TEMPORAL))\n",
    "print(COnVIDa.get_data_items_descriptions(DataType.TEMPORAL, 'EN'))"
   ]
  },
  {
   "cell_type": "code",
   "execution_count": 7,
   "metadata": {},
   "outputs": [
    {
     "name": "stdout",
     "output_type": "stream",
     "text": [
      "{'INEDataSource': ['Miles de personas', '', 'Miles de personas', 'Miles de hogares', 'Miles de personas', 'Miles de hogares unipersonales']}\n",
      "{'INEDataSource': ['Thousands of persons', '', 'Thousands of persons', 'Thousands of households', 'Thousands of persons', 'Thousands of single-person households']}\n"
     ]
    }
   ],
   "source": [
    "print(COnVIDa.get_data_items_units(DataType.GEOGRAPHICAL))\n",
    "print(COnVIDa.get_data_items_units(DataType.GEOGRAPHICAL, 'EN'))"
   ]
  },
  {
   "cell_type": "code",
   "execution_count": 8,
   "metadata": {},
   "outputs": [
    {
     "name": "stdout",
     "output_type": "stream",
     "text": [
      "{'AEMETDataSource': ['Milímetros (mm)', 'Hectopascales (hPa)', 'Hectopascales (hPa)', 'Metros por segundo (m/s)', 'Horas (h)', 'Grados Celsius (°C)', 'Grados Celsius (°C)', 'Grados Celsius (°C)', 'Metros por segundo (m/s)', 'Metros (m)', 'Decenas de grado (°)'], 'COVID19DataSource': ['Número de personas', 'Número de personas', 'Número de personas', 'Número de personas', 'Número de personas', 'Número de personas', 'Número de personas', 'Número de personas', 'Número de personas', 'Número de personas', 'Número de personas', 'Número de personas', 'Porcentaje (%)', 'Número de personas', 'Número de personas', 'Número de personas', 'Número de personas', 'Número de personas', 'Número de personas', 'Número de personas', 'Número de personas', 'Número de personas', 'Número de personas', 'Número de personas', 'Número de personas', 'Porcentaje (%)', 'Número de dosis', 'Número de dosis', 'Porcentaje (%)', 'Porcentaje (%)'], 'MobilityDataSource': ['Porcentaje (%)', 'Porcentaje (%)', 'Porcentaje (%)', 'Porcentaje (%)', 'Porcentaje (%)', 'Porcentaje (%)', 'Porcentaje (%)'], 'MoMoDataSource': ['Número de personas', 'Número de personas', 'Número de personas', 'Número de personas', 'Número de personas', 'Número de personas']}\n",
      "{'AEMETDataSource': ['Millimetres (mm)', 'Hectopascals (hPa)', 'Hectopascals (hPa)', 'Meters per second (m/s)', 'Hours (h)', 'Celsius degrees (°C)', 'Celsius Degrees (°C)', 'Celsius degrees (°C)', 'Meters per second (m/s)', 'Meters (m)', 'Tens of degrees (°)'], 'COVID19DataSource': ['Number of persons', 'Number of persons', 'Number of persons', 'Number of persons', 'Number of persons', 'Number of persons', 'Number of persons', 'Number of persons', 'Number of persons', 'Number of persons', 'Number of persons', 'Number of persons', 'Percentage (%)', 'Number of persons', 'Number of persons', 'Number of persons', 'Number of persons', 'Number of persons', 'Number of persons', 'Number of persons', 'Number of persons', 'Number of persons', 'Number of persons', 'Number of persons', 'Number of persons', 'Percentage (%)', 'Number of doses', 'Number of doses', 'Percentage (%)', 'Percentage (%)'], 'MobilityDataSource': ['Percentage (%)', 'Percentage (%)', 'Percentage (%)', 'Percentage (%)', 'Percentage (%)', 'Percentage (%)', 'Percentage (%)'], 'MoMoDataSource': ['Number of persons', 'Number of persons', 'Number of persons', 'Number of persons', 'Number of persons', 'Number of persons']}\n"
     ]
    }
   ],
   "source": [
    "print(COnVIDa.get_data_items_units(DataType.TEMPORAL))\n",
    "print(COnVIDa.get_data_items_units(DataType.TEMPORAL, 'EN'))"
   ]
  },
  {
   "cell_type": "code",
   "execution_count": 9,
   "metadata": {},
   "outputs": [
    {
     "data": {
      "text/plain": [
       "['España',\n",
       " 'CA Andalucía',\n",
       " 'CA Aragón',\n",
       " 'CA Principado de Asturias',\n",
       " 'CA Islas Baleares',\n",
       " 'CA Canarias',\n",
       " 'CA Cantabria',\n",
       " 'CA Castilla-La Mancha',\n",
       " 'CA Castilla y León',\n",
       " 'CA Cataluña',\n",
       " 'CA Ceuta',\n",
       " 'CA Comunidad Valenciana',\n",
       " 'CA Extremadura',\n",
       " 'CA Galicia',\n",
       " 'CA Comunidad de Madrid',\n",
       " 'CA Melilla',\n",
       " 'CA Región de Murcia',\n",
       " 'CA Comunidad Foral de Navarra',\n",
       " 'CA País Vasco',\n",
       " 'CA La Rioja',\n",
       " 'Albacete',\n",
       " 'Alicante',\n",
       " 'Almería',\n",
       " 'Álava',\n",
       " 'Asturias',\n",
       " 'Ávila',\n",
       " 'Badajoz',\n",
       " 'Baleares',\n",
       " 'Barcelona',\n",
       " 'Bizkaia',\n",
       " 'Burgos',\n",
       " 'Cáceres',\n",
       " 'Cádiz',\n",
       " 'Cantabria',\n",
       " 'Castellón',\n",
       " 'Ciudad Real',\n",
       " 'Córdoba',\n",
       " 'A Coruña',\n",
       " 'Cuenca',\n",
       " 'Gipuzkoa',\n",
       " 'Girona',\n",
       " 'Granada',\n",
       " 'Guadalajara',\n",
       " 'Huelva',\n",
       " 'Huesca',\n",
       " 'Jaén',\n",
       " 'León',\n",
       " 'Lleida',\n",
       " 'Lugo',\n",
       " 'Madrid',\n",
       " 'Málaga',\n",
       " 'Murcia',\n",
       " 'Navarra',\n",
       " 'Ourense',\n",
       " 'Palencia',\n",
       " 'Las Palmas',\n",
       " 'Pontevedra',\n",
       " 'La Rioja',\n",
       " 'Salamanca',\n",
       " 'Santa Cruz de Tenerife',\n",
       " 'Segovia',\n",
       " 'Sevilla',\n",
       " 'Soria',\n",
       " 'Tarragona',\n",
       " 'Teruel',\n",
       " 'Toledo',\n",
       " 'Valencia',\n",
       " 'Valladolid',\n",
       " 'Zamora',\n",
       " 'Zaragoza',\n",
       " 'Ceuta',\n",
       " 'Melilla']"
      ]
     },
     "execution_count": 9,
     "metadata": {},
     "output_type": "execute_result"
    }
   ],
   "source": [
    "Regions.get_regions('ES')"
   ]
  },
  {
   "cell_type": "code",
   "execution_count": 10,
   "metadata": {},
   "outputs": [
    {
     "data": {
      "text/plain": [
       "{'España': 'ES'}"
      ]
     },
     "execution_count": 10,
     "metadata": {},
     "output_type": "execute_result"
    }
   ],
   "source": [
    "Regions.get_country_codes()"
   ]
  },
  {
   "cell_type": "code",
   "execution_count": 11,
   "metadata": {},
   "outputs": [
    {
     "name": "stdout",
     "output_type": "stream",
     "text": [
      "('INEDataSource', <DataType.GEOGRAPHICAL: 1>, None, [<RegionalGranularity.COMMUNITY: 0>], 'literal_ine', <DataFormat.JSON: 0>, 90, ['actividad_fisica', 'imc', 'tabaco', 'hogares_tipo_familia', 'hogares_densidad_ocupacion', 'mayores_65_solos'], {'actividad_fisica': {'display_name': {'ES': 'Actividad física', 'EN': 'Physical activity'}, 'description': {'ES': 'Nivel de actividad física según sexo y comunidad autónoma. Población de 15 a 69 años', 'EN': 'Level of physical activity by sex and autonomous community. Population from 15 to 69 years old'}, 'data_unit': {'ES': 'Miles de personas', 'EN': 'Thousands of persons'}, '_id': '04013.px', 'funcion': 'DATOS_TABLA', 'codigo': '/t15/p419/a2017/p03/l0/', 'num_datos': '10', 'formato': 'VALORES_ABSOLUTOS_CCAA'}, 'imc': {'display_name': {'ES': 'Índice de masa corporal (IMC)', 'EN': 'Body mass index (BMI)'}, 'description': {'ES': 'Índice de masa corporal población adulta según sexo y comunidad autónoma. Población de 18 y más años', 'EN': 'Body mass index of adult population by sex and autonomous community. Population aged 18 years old and above'}, 'data_unit': {'ES': '', 'EN': ''}, '_id': '01004.px', 'funcion': 'DATOS_TABLA', 'codigo': '/t15/p420/a2014/p06/l0/', 'num_datos': '10', 'formato': 'VALORES_ABSOLUTOS_CCAA'}, 'tabaco': {'display_name': {'ES': 'Tabaquismo', 'EN': 'Tobacco consumption'}, 'description': {'ES': 'Consumo de tabaco según sexo y comunidad autónoma. Población de 15 y más años', 'EN': 'Tobacco consumption by sex and autonomous community. Population aged 15 years old and above'}, 'data_unit': {'ES': 'Miles de personas', 'EN': 'Thousands of persons'}, '_id': '06020.px', 'funcion': 'DATOS_TABLA', 'codigo': '/t15/p419/a2011/p06/', 'num_datos': '10', 'formato': 'VALORES_ABSOLUTOS_CCAA'}, 'hogares_tipo_familia': {'display_name': {'ES': 'Hogares por tipo de familia', 'EN': 'Households by family type'}, 'description': {'ES': 'Número de hogares por comunidades autónomas según el tipo de hogar y el tamaño del hogar', 'EN': 'Number of households by autonomous community by type of household and size of household'}, 'data_unit': {'ES': 'Miles de hogares', 'EN': 'Thousands of households'}, '_id': '02007.px', 'funcion': 'DATOS_TABLA', 'codigo': '/t20/p274/serie/def/p02/l0/', 'num_datos': '10', 'formato': 'VALORES_ABSOLUTOS_CCAA'}, 'hogares_densidad_ocupacion': {'display_name': {'ES': 'Hogares por densidad de ocupación', 'EN': 'Households by occupancy density'}, 'description': {'ES': 'Población residente por comunidades autónomas según tamaño del hogar y densidad de población', 'EN': 'Resident population by autonomous communities, household size and population density'}, 'data_unit': {'ES': 'Miles de personas', 'EN': 'Thousands of persons'}, '_id': '03011.px', 'funcion': 'DATOS_TABLA', 'codigo': '/t20/p274/serie/def/p05/l0/', 'num_datos': '10', 'formato': 'VALORES_ABSOLUTOS_CCAA'}, 'mayores_65_solos': {'display_name': {'ES': 'Mayores de 65 años solos', 'EN': 'Over 65 years old alone'}, 'description': {'ES': 'Número de hogares unipersonales con mayores de 65 años por comunidades autónomas según sexo', 'EN': 'Number of single-person households with inhabitants aged over 65 years old by autonomous community and sex'}, 'data_unit': {'ES': 'Miles de hogares unipersonales', 'EN': 'Thousands of single-person households'}, '_id': '02014.px', 'funcion': 'DATOS_TABLA', 'codigo': '/t20/p274/serie/def/p02/l0/', 'num_datos': '10', 'formato': 'VALORES_ABSOLUTOS_CCAA'}})\n",
      "('AEMETDataSource', <DataType.TEMPORAL: 0>, [<TemporalGranularity.DAILY: 0>], [<RegionalGranularity.COMMUNITY: 0>], 'aemet_stations', <DataFormat.JSON: 0>, 1, ['prec', 'presMax', 'presMin', 'racha', 'sol', 'tmax', 'tmed', 'tmin', 'velmedia', 'altitud', 'dir'], {'prec': {'display_name': {'ES': 'Precipitación', 'EN': 'Rainfall'}, 'description': {'ES': 'Precipitación diaria de 07 a 07', 'EN': 'Daily rainfall from 07 to 07'}, 'data_unit': {'ES': 'Milímetros (mm)', 'EN': 'Millimetres (mm)'}}, 'presMax': {'display_name': {'ES': 'Presión máxima', 'EN': 'Maximum pressure'}, 'description': {'ES': 'Presión máxima al nivel de referencia de la estación', 'EN': 'Maximum pressure at station reference level'}, 'data_unit': {'ES': 'Hectopascales (hPa)', 'EN': 'Hectopascals (hPa)'}}, 'presMin': {'display_name': {'ES': 'Presión mínima', 'EN': 'Minimum pressure'}, 'description': {'ES': 'Presión mínima al nivel de referencia de la estación', 'EN': 'Minimum pressure at station reference level'}, 'data_unit': {'ES': 'Hectopascales (hPa)', 'EN': 'Hectopascals (hPa)'}}, 'racha': {'display_name': {'ES': 'Racha máxima', 'EN': 'Maximum gust'}, 'description': {'ES': 'Racha máxima del viento', 'EN': 'Maximum wind gust'}, 'data_unit': {'ES': 'Metros por segundo (m/s)', 'EN': 'Meters per second (m/s)'}}, 'sol': {'display_name': {'ES': 'Insolación', 'EN': 'Isolation'}, 'description': {'ES': 'Horas de sol fuerte', 'EN': 'Hours of strong sunshine'}, 'data_unit': {'ES': 'Horas (h)', 'EN': 'Hours (h)'}}, 'tmax': {'display_name': {'ES': 'Temperatura máxima', 'EN': 'Maximum temperature'}, 'description': {'ES': 'Temperatura máxima del día', 'EN': 'Maximum daily temperature'}, 'data_unit': {'ES': 'Grados Celsius (°C)', 'EN': 'Celsius degrees (°C)'}}, 'tmed': {'display_name': {'ES': 'Temperatura media', 'EN': 'Mean temperature'}, 'description': {'ES': 'Temperatura media del día', 'EN': 'Medium daily temperature'}, 'data_unit': {'ES': 'Grados Celsius (°C)', 'EN': 'Celsius Degrees (°C)'}}, 'tmin': {'display_name': {'ES': 'Temperatura mínima', 'EN': 'Minimum temperature'}, 'description': {'ES': 'Temperatura mínima del día', 'EN': 'Minimum daily temperature'}, 'data_unit': {'ES': 'Grados Celsius (°C)', 'EN': 'Celsius degrees (°C)'}}, 'velmedia': {'display_name': {'ES': 'Velocidad viento', 'EN': 'Wind speed'}, 'description': {'ES': 'Velocidad media del viento', 'EN': 'Average wind speed'}, 'data_unit': {'ES': 'Metros por segundo (m/s)', 'EN': 'Meters per second (m/s)'}}, 'altitud': {'display_name': {'ES': 'Altitud', 'EN': 'Altitude'}, 'description': {'ES': 'Altitud de la estación en m sobre el nivel del mar', 'EN': 'Altitude of the station in m above the sea level'}, 'data_unit': {'ES': 'Metros (m)', 'EN': 'Meters (m)'}}, 'dir': {'display_name': {'ES': 'Dirección racha', 'EN': 'Gust direction'}, 'description': {'ES': 'Dirección de la racha máxima', 'EN': 'Direction of maximum wind gust'}, 'data_unit': {'ES': 'Decenas de grado (°)', 'EN': 'Tens of degrees (°)'}}})\n",
      "('COVID19DataSource', <DataType.TEMPORAL: 0>, [<TemporalGranularity.DAILY: 0>], [<RegionalGranularity.COMMUNITY: 0>, <RegionalGranularity.PROVINCE: 1>], 'code_ine', <DataFormat.CSV: 1>, 1, ['ia14', 'daily_cases_avg7', 'num_casos_prueba_pcr_avg7', 'daily_deaths_avg7', 'daily_deaths_avg3', 'num_casos', 'num_casos_prueba_pcr', 'num_casos_prueba_test_ac', 'num_casos_prueba_ag', 'num_casos_prueba_elisa', 'num_casos_prueba_desconocida', 'daily_deaths', 'daily_deaths_inc', 'cases_14days', 'deaths_last_week', 'cases_accumulated', 'cases_accumulated_PCR', 'hospitalized', 'intensive_care', 'deceased', 'recovered', 'cases_per_cienmil', 'intensive_care_per_100000', 'hospitalized_per_100000', 'deceassed_per_100000', 'accumulated_lethality', 'vaccine_provided', 'vaccine_supplied', 'vaccine_supplied_inc', 'pob_vaccine_supplied_inc'], {'ia14': {'display_name': {'ES': 'Incidencia acumulada en los últimos 14 días', 'EN': 'Cumulative incidence in the last 14 days'}, 'description': {'ES': 'Incidencia acumulada 14 días (casos en los últimos 14 días por cada 100.000 habitantes)', 'EN': 'Cumulative incidence 14 days (cases in the last 14 days per 100,000 inhabitants)'}, 'data_unit': {'ES': 'Número de personas', 'EN': 'Number of persons'}}, 'daily_cases_avg7': {'display_name': {'ES': 'Media de casos detectados en 7 días', 'EN': 'Average number of cases detected in 7 days'}, 'description': {'ES': 'Media de casos detectados (ventana de 7 días)', 'EN': 'Average daily cases in the last 7 days (rolling average 7 days)'}, 'data_unit': {'ES': 'Número de personas', 'EN': 'Number of persons'}}, 'num_casos_prueba_pcr_avg7': {'display_name': {'ES': 'Media de casos PCR confirmados en los últimos 7 días', 'EN': 'Average number of confirmed PCR cases in the last 7 days'}, 'description': {'ES': 'Media de casos (ventana de 7 días) de casos con prueba de laboratorio PCR o técnicas moleculares', 'EN': 'Average number of cases (7-day window) with laboratory PCR test or molecular techniques'}, 'data_unit': {'ES': 'Número de personas', 'EN': 'Number of persons'}}, 'daily_deaths_avg7': {'display_name': {'ES': 'Media de fallecidos en los últimos 7 días', 'EN': 'Average number of deaths in a 7-day window'}, 'description': {'ES': 'Media de fallecidos en una ventana de 7 días', 'EN': 'Average daily deaths in the last 7 days (rolling average 7 days)'}, 'data_unit': {'ES': 'Número de personas', 'EN': 'Number of persons'}}, 'daily_deaths_avg3': {'display_name': {'ES': 'Media de fallecidos en los últimos 3 días', 'EN': 'Average number of deaths in a 3-day window'}, 'description': {'ES': 'Media de fallecidos en una ventana de 3 días', 'EN': 'Average daily deaths in the last 3 days (rolling average 3 days)'}, 'data_unit': {'ES': 'Número de personas', 'EN': 'Number of persons'}}, 'num_casos': {'display_name': {'ES': 'Casos diarios', 'EN': 'New daily cases'}, 'description': {'ES': 'El número de casos diarios totales, confirmados o probables', 'EN': 'The number of daily total, confirmed or probable cases'}, 'data_source': 'ISCIII', 'data_unit': {'ES': 'Número de personas', 'EN': 'Number of persons'}}, 'num_casos_prueba_pcr': {'display_name': {'ES': 'Casos diarios PCR', 'EN': 'Daily Cases PCR'}, 'description': {'ES': 'El número de casos diarios con prueba de laboratorio PCR o técnicas moleculares', 'EN': 'The number of daily cases with laboratory PCR test or molecular techniques'}, 'data_source': 'ISCIII', 'data_unit': {'ES': 'Número de personas', 'EN': 'Number of persons'}}, 'num_casos_prueba_test_ac': {'display_name': {'ES': 'Casos diarios anticuerpos', 'EN': 'Daily cases of antibodies'}, 'description': {'ES': 'El número de casos diarios con prueba de laboratorio de test rápido de anticuerpos', 'EN': 'The number of daily cases with rapid antibody test laboratory'}, 'data_source': 'ISCIII', 'data_unit': {'ES': 'Número de personas', 'EN': 'Number of persons'}}, 'num_casos_prueba_ag': {'display_name': {'ES': 'Casos diarios prueba antígenos', 'EN': 'Daily cases tests antigen'}, 'description': {'ES': 'El número de casos diarios detectados con pruebas de detección de antígeno', 'EN': 'The number of daily cases detected by antigen test'}, 'data_unit': {'ES': 'Número de personas', 'EN': 'Number of persons'}}, 'num_casos_prueba_elisa': {'display_name': {'ES': 'Casos diarios prueba Elisa', 'EN': 'Daily cases tests Elisa'}, 'description': {'ES': 'El número de casos diarios detectados con técnica Elisa', 'EN': 'The number of daily cases detected by Elisa technique'}, 'data_unit': {'ES': 'Número de personas', 'EN': 'Number of persons'}}, 'num_casos_prueba_desconocida': {'display_name': {'ES': 'Casos diarios de pruebas desconocidas', 'EN': 'Daily cases unknown tests'}, 'description': {'ES': 'El número de casos diarios sin información sobre la prueba de laboratorios con la que ha sido detectada', 'EN': 'The number of daily cases without information on the laboratory test with which it has been detected'}, 'data_source': 'ISCIII', 'data_unit': {'ES': 'Número de personas', 'EN': 'Number of persons'}}, 'daily_deaths': {'display_name': {'ES': 'Fallecidos diarios', 'EN': 'Daily death cases'}, 'description': {'ES': 'Muertes diarias. Calculada como una diferencia de las muertes acumuladas notificadas', 'EN': 'Daily deaths. Calculated as a difference of cumulative deaths reported'}, 'data_unit': {'ES': 'Número de personas', 'EN': 'Number of persons'}}, 'daily_deaths_inc': {'display_name': {'ES': 'Porcentaje de nuevos fallecidos respecto de día anterior', 'EN': 'Percentage of new deaths compared to previous day'}, 'description': {'ES': 'Porcentaje de nuevos fallecidos con respecto al dia anterior', 'EN': 'Percentage of new deaths compared to previous day'}, 'data_unit': {'ES': 'Porcentaje (%)', 'EN': 'Percentage (%)'}}, 'cases_14days': {'display_name': {'ES': 'Casos detectados en los últimos 14 días', 'EN': 'Detected cases in the last 14 days'}, 'description': {'ES': 'Número de casos positivos en COVID19 en los últimos 14 días', 'EN': 'Number of positive cases in COVID19 in the last 14 days'}, 'data_unit': {'ES': 'Número de personas', 'EN': 'Number of persons'}}, 'deaths_last_week': {'display_name': {'ES': 'Fallecidos en los últimos 7 días', 'EN': 'Deaths in the last 7 days'}, 'description': {'ES': 'Número de fallecidos totales en una ventana de 7 días', 'EN': 'Total number of deaths in a 7-day window'}, 'data_unit': {'ES': 'Número de personas', 'EN': 'Number of persons'}}, 'cases_accumulated': {'display_name': {'ES': 'Casos acumulados', 'EN': 'Cumulative COVID19 cases'}, 'description': {'ES': 'Casos COVID19 detectados acumulado', 'EN': 'Number of new COVID19 cases (cumulative)'}, 'data_unit': {'ES': 'Número de personas', 'EN': 'Number of persons'}}, 'cases_accumulated_PCR': {'display_name': {'ES': 'Casos acumulados PCR', 'EN': 'Cumulative cases PCR'}, 'description': {'ES': 'Casos acumulados COVID19 detectados por PCR ', 'EN': 'Number of new COVID19 cases detected with PCR (cumulative)'}, 'data_unit': {'ES': 'Número de personas', 'EN': 'Number of persons'}}, 'hospitalized': {'display_name': {'ES': 'Casos acumulados hospitalizados', 'EN': 'Cumulative hospitalised cases'}, 'description': {'ES': 'Numero de casos hospitalizadas acumulados', 'EN': 'Number of cumulative hospitalised cases'}, 'data_unit': {'ES': 'Número de personas', 'EN': 'Number of persons'}}, 'intensive_care': {'display_name': {'ES': 'Casos acumulados UCI', 'EN': 'Cumulative ICU cases'}, 'description': {'ES': 'Numero de pacientes acumulados en UCI', 'EN': 'Number of patients accumulated in ICU'}, 'data_unit': {'ES': 'Número de personas', 'EN': 'Number of persons'}}, 'deceased': {'display_name': {'ES': 'Casos acumulados fallecidos', 'EN': 'Cumulative deceased cases'}, 'description': {'ES': 'Número de fallecidos acumulado', 'EN': 'Cumulative number of deceased cases'}, 'data_unit': {'ES': 'Número de personas', 'EN': 'Number of persons'}}, 'recovered': {'display_name': {'ES': 'Casos acumulados recuperados', 'EN': 'Cumulative cases recovered'}, 'description': {'ES': 'Número acumulado de casos recuperados', 'EN': 'Cumulative number of recovered cases'}, 'data_unit': {'ES': 'Número de personas', 'EN': 'Number of persons'}}, 'cases_per_cienmil': {'display_name': {'ES': 'Casos acumulados por 100.000 habitantes', 'EN': 'Cumulative cases per 100,000 inhabitants'}, 'description': {'ES': 'Numero de casos acumulados de COVID19 por cada 100.000 habtiantes', 'EN': 'Cumulative number of confirmed COVID19 cases per 100,000 inhabitants'}, 'data_unit': {'ES': 'Número de personas', 'EN': 'Number of persons'}}, 'intensive_care_per_100000': {'display_name': {'ES': 'Casos UCI por 100.000 habitantes', 'EN': 'ICU cases per 100,000 inhabitants'}, 'description': {'ES': 'Número de casos acumulados de COVID19 en UCI por cada 100.000 habtiantes', 'EN': 'Cumulative number of cases in ICU per 100,000 inhabitants'}, 'data_unit': {'ES': 'Número de personas', 'EN': 'Number of persons'}}, 'hospitalized_per_100000': {'display_name': {'ES': 'Hospitalizados por 100.000 habitantes', 'EN': 'Hospitalised per 100,000 inhabitants'}, 'description': {'ES': 'Número de casos acumulados de COVID19 hospitalizados por cada 100.000 habitantes', 'EN': 'Cumulative number of COVID19 cases hospitalized per 100,000 inhabitants'}, 'data_unit': {'ES': 'Número de personas', 'EN': 'Number of persons'}}, 'deceassed_per_100000': {'display_name': {'ES': 'Fallecidos acumulados por 100.000 habitantes', 'EN': 'Cumulative deaths per 100,000 inhabitants'}, 'description': {'ES': 'Numero de fallecidos acumulados por COVID19 por cada 100.000 habitantes', 'EN': 'Cumulative number of COVID19 deceassed per 100,000 inhabitants'}, 'data_unit': {'ES': 'Número de personas', 'EN': 'Number of persons'}}, 'accumulated_lethality': {'display_name': {'ES': 'Letalidad acumulada', 'EN': 'Cumulative lethality'}, 'description': {'ES': 'Tasa de letalidad (fallecidos acumulados / casos acumulados)', 'EN': 'Case Fatality Rate (accumulated deaths / accumulated cases)'}, 'data_unit': {'ES': 'Porcentaje (%)', 'EN': 'Percentage (%)'}}, 'vaccine_provided': {'display_name': {'ES': 'Vacunas entregadas acumulado', 'EN': 'Cumulative vaccines provided'}, 'description': {'ES': 'Número acumulado de vacunas entregadas', 'EN': 'Cumulative number of vaccines provided'}, 'data_unit': {'ES': 'Número de dosis', 'EN': 'Number of doses'}}, 'vaccine_supplied': {'display_name': {'ES': 'Vacunas suministradas acumulado', 'EN': 'Cumulative vaccines supplied'}, 'description': {'ES': 'Número acumulado de vacunas suministradas', 'EN': 'Cumulative number of vaccines supplied'}, 'data_unit': {'ES': 'Número de dosis', 'EN': 'Number of doses'}}, 'vaccine_supplied_inc': {'display_name': {'ES': 'Porcentaje de vacunas suministradas', 'EN': 'Percentage of new vaccines supplied'}, 'description': {'ES': 'Porcentaje de vacunas suministradas con respecto a las entregadas', 'EN': 'Percentaje of new vaccines supplied in relation to vaccines provided'}, 'data_unit': {'ES': 'Porcentaje (%)', 'EN': 'Percentage (%)'}}, 'pob_vaccine_supplied_inc': {'display_name': {'ES': 'Porcentaje de población vacunada', 'EN': 'Percentage of vaccinated poblation'}, 'description': {'ES': 'Porcentaje de vacunadas suministradas con respecto a la población', 'EN': 'Percentaje of vaccines supplied in relation to poblation'}, 'data_unit': {'ES': 'Porcentaje (%)', 'EN': 'Percentage (%)'}}})\n",
      "('MobilityDataSource', <DataType.TEMPORAL: 0>, [<TemporalGranularity.DAILY: 0>], [<RegionalGranularity.COMMUNITY: 0>], 'name', <DataFormat.CSV: 1>, 1, ['grocery_and_pharmacy_percent_change_from_baseline', 'parks_percent_change_from_baseline', 'residential_percent_change_from_baseline', 'retail_and_recreation_percent_change_from_baseline', 'transit_stations_percent_change_from_baseline', 'workplaces_percent_change_from_baseline', 'driving'], {'grocery_and_pharmacy_percent_change_from_baseline': {'display_name': {'ES': 'Supermercados y farmacias', 'EN': 'Grocery and phamarcy'}, 'description': {'ES': 'Variación de la movilidad con respecto a la media en supermercados, mercados, tiendas de comestibles, droguerías y farmacias', 'EN': 'Mobility variation against the average in supermarkets, markets, stores and pharmacies'}, 'data_source': 'Google', 'data_unit': {'ES': 'Porcentaje (%)', 'EN': 'Percentage (%)'}}, 'parks_percent_change_from_baseline': {'display_name': {'ES': 'Parques', 'EN': 'Parks'}, 'description': {'ES': 'Variación de la movilidad con respecto a la media en parques locales, parques nacionales, playas públicas, marinas, parques para perros, plazas y jardines públicos', 'EN': 'Mobility variation against the average in local parks, national parks, public beaches, dog beaches, public squares and gardens'}, 'data_source': 'Google', 'data_unit': {'ES': 'Porcentaje (%)', 'EN': 'Percentage (%)'}}, 'residential_percent_change_from_baseline': {'display_name': {'ES': 'Residencial', 'EN': 'Residential'}, 'description': {'ES': 'Variación de la movilidad con respecto a la media en lugares de residencia, hogares', 'EN': 'Mobility variation against the average in places of residence, homes'}, 'data_source': 'Google', 'data_unit': {'ES': 'Porcentaje (%)', 'EN': 'Percentage (%)'}}, 'retail_and_recreation_percent_change_from_baseline': {'display_name': {'ES': 'Venta minorista, ocio y cultura', 'EN': 'Retail and recreation'}, 'description': {'ES': 'Variación de la movilidad con respecto a la media en restaurantes, cafeterías, centros comerciales, parques temáticos, museos, bibliotecas y cines', 'EN': 'Mobility variation against the average in restaurants, cafes, shopping malls, theme parks, museums, libraries and cinemas'}, 'data_source': 'Google', 'data_unit': {'ES': 'Porcentaje (%)', 'EN': 'Percentage (%)'}}, 'transit_stations_percent_change_from_baseline': {'display_name': {'ES': 'Transporte público', 'EN': 'Transit stations'}, 'description': {'ES': 'Variación de la movilidad con respecto a la media en estaciones de metro, autobús y tren', 'EN': 'Mobility variation against the average in subway, bus and train stations'}, 'data_source': 'Google', 'data_unit': {'ES': 'Porcentaje (%)', 'EN': 'Percentage (%)'}}, 'workplaces_percent_change_from_baseline': {'display_name': {'ES': 'Lugar de trabajo', 'EN': 'Workplace'}, 'description': {'ES': 'Variación de la movilidad con respecto a la media en lugares de trabajo', 'EN': 'Mobility variation against the average in workplaces'}, 'data_source': 'Google', 'data_unit': {'ES': 'Porcentaje (%)', 'EN': 'Percentage (%)'}}, 'driving': {'display_name': {'ES': 'Conducción', 'EN': 'Driving'}, 'description': {'ES': 'Variación de la movilidad con respecto a la media en desplazamientos con vehículos propios', 'EN': 'Mobility variation against the average when travelling with own vehicles'}, 'data_source': 'Apple', 'data_unit': {'ES': 'Porcentaje (%)', 'EN': 'Percentage (%)'}}})\n",
      "('MoMoDataSource', <DataType.TEMPORAL: 0>, [<TemporalGranularity.DAILY: 0>], [<RegionalGranularity.COMMUNITY: 0>], 'code_ine', <DataFormat.CSV: 1>, 1, ['defunciones_observadas', 'defunciones_observadas_lim_inf', 'defunciones_observadas_lim_sup', 'defunciones_esperadas', 'defunciones_esperadas_q01', 'defunciones_esperadas_q99'], {'defunciones_observadas': {'display_name': {'ES': 'Defunciones observadas', 'EN': 'Observed deaths'}, 'description': {'ES': 'Defunciones observadas (incluye la corrección por retraso)', 'EN': 'Observed deaths (including delay correction)'}, 'data_unit': {'ES': 'Número de personas', 'EN': 'Number of persons'}}, 'defunciones_observadas_lim_inf': {'display_name': {'ES': 'Defunciones observadas (límite inferior)', 'EN': 'Observed deaths (lower bound)'}, 'description': {'ES': 'Límite inferior del invervalo de confianza de las defunciones observadas (debido a la corrección)', 'EN': 'Lower bound of the observed death confidence interval (due to correction)'}, 'data_unit': {'ES': 'Número de personas', 'EN': 'Number of persons'}}, 'defunciones_observadas_lim_sup': {'display_name': {'ES': 'Defunciones observadas (límite superior)', 'EN': 'Observed deaths (upper bound)'}, 'description': {'ES': 'Límite superior del invervalo de confianza de las defunciones observadas (debido a la corrección)', 'EN': 'Upper bound of the observed death confidence interval (due to correction)'}, 'data_unit': {'ES': 'Número de personas', 'EN': 'Number of persons'}}, 'defunciones_esperadas': {'display_name': {'ES': 'Defunciones esperadas', 'EN': 'Expected deaths'}, 'description': {'ES': 'Defunciones esperadas, resultantes del modelo', 'EN': 'Expected deaths, resulting from the model'}, 'data_unit': {'ES': 'Número de personas', 'EN': 'Number of persons'}}, 'defunciones_esperadas_q01': {'display_name': {'ES': 'Defunciones esperadas (percentil 1)', 'EN': 'Expected deaths (1st percentile)'}, 'description': {'ES': 'Límite inferior del intervalo de confianza de las defunciones esperadas, correspondiente al percentil 1 de la distribución', 'EN': 'Lower bound of the confidence interval of expected deaths, corresponding to the 1st percentile of the distribution'}, 'data_unit': {'ES': 'Número de personas', 'EN': 'Number of persons'}}, 'defunciones_esperadas_q99': {'display_name': {'ES': 'Defunciones esperadas (percentil 99)', 'EN': 'Expected deaths (99th percentile)'}, 'description': {'ES': 'Límite superior del intervalo de confianza de las defunciones esperadas, correspondiente al percentil 99 de la distribución', 'EN': 'Upper bound of the confidence interval of expected deaths, corresponding to the 99th percentile of the distribution'}, 'data_unit': {'ES': 'Número de personas', 'EN': 'Number of persons'}}})\n"
     ]
    }
   ],
   "source": [
    "COnVIDa.get_data_types()\n",
    "COnVIDa.get_sources_info()"
   ]
  },
  {
   "cell_type": "markdown",
   "metadata": {},
   "source": [
    "### 3.1 COVID testing"
   ]
  },
  {
   "cell_type": "code",
   "execution_count": 12,
   "metadata": {},
   "outputs": [],
   "source": [
    "start = pd.to_datetime('2021-01-01', format='%Y-%m-%d')\n",
    "end = pd.to_datetime('today', format='%Y-%m-%d')\n",
    "\n",
    "data_items = COnVIDa.get_data_items_names()['COVID19DataSource']\n",
    "\n",
    "regions = Regions.get_regions('ES')"
   ]
  },
  {
   "cell_type": "code",
   "execution_count": 13,
   "metadata": {},
   "outputs": [
    {
     "data": {
      "text/plain": [
       "'CA Andalucía'"
      ]
     },
     "execution_count": 13,
     "metadata": {},
     "output_type": "execute_result"
    }
   ],
   "source": [
    "regions[1]"
   ]
  },
  {
   "cell_type": "code",
   "execution_count": 14,
   "metadata": {},
   "outputs": [
    {
     "data": {
      "text/plain": [
       "'Incidencia acumulada en los últimos 14 días'"
      ]
     },
     "execution_count": 14,
     "metadata": {},
     "output_type": "execute_result"
    }
   ],
   "source": [
    "data_items[0]"
   ]
  },
  {
   "cell_type": "code",
   "execution_count": 15,
   "metadata": {},
   "outputs": [
    {
     "name": "stdout",
     "output_type": "stream",
     "text": [
      "Assumed a TEMPORAL data retrieval...\n"
     ]
    },
    {
     "name": "stderr",
     "output_type": "stream",
     "text": [
      "C:\\Users\\Javier\\OneDrive\\Documentos\\Proyectos\\COnVIDa-lib\\lib\\datasources\\COVID19DataSource.py:284: RuntimeWarning: divide by zero encountered in double_scalars\n",
      "  percent = (df.loc[idx, ('España', param)] * 100) / valor\n",
      "C:\\Users\\Javier\\OneDrive\\Documentos\\Proyectos\\COnVIDa-lib\\lib\\datasources\\COVID19DataSource.py:284: RuntimeWarning: invalid value encountered in double_scalars\n",
      "  percent = (df.loc[idx, ('España', param)] * 100) / valor\n"
     ]
    },
    {
     "data": {
      "text/html": [
       "<div>\n",
       "<style scoped>\n",
       "    .dataframe tbody tr th:only-of-type {\n",
       "        vertical-align: middle;\n",
       "    }\n",
       "\n",
       "    .dataframe tbody tr th {\n",
       "        vertical-align: top;\n",
       "    }\n",
       "\n",
       "    .dataframe thead tr th {\n",
       "        text-align: left;\n",
       "    }\n",
       "</style>\n",
       "<table border=\"1\" class=\"dataframe\">\n",
       "  <thead>\n",
       "    <tr>\n",
       "      <th>Region</th>\n",
       "      <th>Albacete</th>\n",
       "    </tr>\n",
       "    <tr>\n",
       "      <th>Item</th>\n",
       "      <th>Incidencia acumulada en los últimos 14 días</th>\n",
       "    </tr>\n",
       "  </thead>\n",
       "  <tbody>\n",
       "    <tr>\n",
       "      <th>2021-01-12</th>\n",
       "      <td>671.1</td>\n",
       "    </tr>\n",
       "    <tr>\n",
       "      <th>2021-01-13</th>\n",
       "      <td>709.0</td>\n",
       "    </tr>\n",
       "    <tr>\n",
       "      <th>2021-01-14</th>\n",
       "      <td>NaN</td>\n",
       "    </tr>\n",
       "    <tr>\n",
       "      <th>2021-01-15</th>\n",
       "      <td>NaN</td>\n",
       "    </tr>\n",
       "    <tr>\n",
       "      <th>2021-01-16</th>\n",
       "      <td>NaN</td>\n",
       "    </tr>\n",
       "  </tbody>\n",
       "</table>\n",
       "</div>"
      ],
      "text/plain": [
       "Region                                        Albacete\n",
       "Item       Incidencia acumulada en los últimos 14 días\n",
       "2021-01-12                                       671.1\n",
       "2021-01-13                                       709.0\n",
       "2021-01-14                                         NaN\n",
       "2021-01-15                                         NaN\n",
       "2021-01-16                                         NaN"
      ]
     },
     "metadata": {},
     "output_type": "display_data"
    }
   ],
   "source": [
    "data = COnVIDa.get_data_items(regions=['Albacete'],\n",
    "                              data_items=[data_items[0]], \n",
    "                              start_date=start, \n",
    "                              end_date=end,\n",
    "                              errors='raise')\n",
    "display(data.tail(5))"
   ]
  },
  {
   "cell_type": "code",
   "execution_count": 16,
   "metadata": {},
   "outputs": [
    {
     "name": "stdout",
     "output_type": "stream",
     "text": [
      "Assumed a TEMPORAL data retrieval...\n"
     ]
    },
    {
     "name": "stderr",
     "output_type": "stream",
     "text": [
      "C:\\Users\\Javier\\OneDrive\\Documentos\\Proyectos\\COnVIDa-lib\\lib\\datasources\\COVID19DataSource.py:284: RuntimeWarning: divide by zero encountered in double_scalars\n",
      "  percent = (df.loc[idx, ('España', param)] * 100) / valor\n",
      "C:\\Users\\Javier\\OneDrive\\Documentos\\Proyectos\\COnVIDa-lib\\lib\\datasources\\COVID19DataSource.py:284: RuntimeWarning: invalid value encountered in double_scalars\n",
      "  percent = (df.loc[idx, ('España', param)] * 100) / valor\n"
     ]
    },
    {
     "data": {
      "text/html": [
       "<div>\n",
       "<style scoped>\n",
       "    .dataframe tbody tr th:only-of-type {\n",
       "        vertical-align: middle;\n",
       "    }\n",
       "\n",
       "    .dataframe tbody tr th {\n",
       "        vertical-align: top;\n",
       "    }\n",
       "\n",
       "    .dataframe thead tr th {\n",
       "        text-align: left;\n",
       "    }\n",
       "</style>\n",
       "<table border=\"1\" class=\"dataframe\">\n",
       "  <thead>\n",
       "    <tr>\n",
       "      <th>Region</th>\n",
       "      <th>CA Andalucía</th>\n",
       "      <th>CA Aragón</th>\n",
       "      <th>CA Islas Baleares</th>\n",
       "      <th>CA Principado de Asturias</th>\n",
       "    </tr>\n",
       "    <tr>\n",
       "      <th>Item</th>\n",
       "      <th>Incidencia acumulada en los últimos 14 días</th>\n",
       "      <th>Incidencia acumulada en los últimos 14 días</th>\n",
       "      <th>Incidencia acumulada en los últimos 14 días</th>\n",
       "      <th>Incidencia acumulada en los últimos 14 días</th>\n",
       "    </tr>\n",
       "  </thead>\n",
       "  <tbody>\n",
       "    <tr>\n",
       "      <th>2021-01-15</th>\n",
       "      <td>495.2</td>\n",
       "      <td>NaN</td>\n",
       "      <td>540.3</td>\n",
       "      <td>NaN</td>\n",
       "    </tr>\n",
       "    <tr>\n",
       "      <th>2021-01-16</th>\n",
       "      <td>NaN</td>\n",
       "      <td>NaN</td>\n",
       "      <td>NaN</td>\n",
       "      <td>NaN</td>\n",
       "    </tr>\n",
       "  </tbody>\n",
       "</table>\n",
       "</div>"
      ],
      "text/plain": [
       "Region                                    CA Andalucía  \\\n",
       "Item       Incidencia acumulada en los últimos 14 días   \n",
       "2021-01-15                                       495.2   \n",
       "2021-01-16                                         NaN   \n",
       "\n",
       "Region                                       CA Aragón  \\\n",
       "Item       Incidencia acumulada en los últimos 14 días   \n",
       "2021-01-15                                         NaN   \n",
       "2021-01-16                                         NaN   \n",
       "\n",
       "Region                               CA Islas Baleares  \\\n",
       "Item       Incidencia acumulada en los últimos 14 días   \n",
       "2021-01-15                                       540.3   \n",
       "2021-01-16                                         NaN   \n",
       "\n",
       "Region                       CA Principado de Asturias  \n",
       "Item       Incidencia acumulada en los últimos 14 días  \n",
       "2021-01-15                                         NaN  \n",
       "2021-01-16                                         NaN  "
      ]
     },
     "metadata": {},
     "output_type": "display_data"
    }
   ],
   "source": [
    "data = COnVIDa.get_data_items(regions=regions[1:5],\n",
    "                              data_items=[data_items[0]], \n",
    "                              start_date=start, \n",
    "                              end_date=end)\n",
    "display(data.tail(2))"
   ]
  },
  {
   "cell_type": "code",
   "execution_count": 17,
   "metadata": {},
   "outputs": [
    {
     "data": {
      "text/html": [
       "<div>\n",
       "<style scoped>\n",
       "    .dataframe tbody tr th:only-of-type {\n",
       "        vertical-align: middle;\n",
       "    }\n",
       "\n",
       "    .dataframe tbody tr th {\n",
       "        vertical-align: top;\n",
       "    }\n",
       "\n",
       "    .dataframe thead tr th {\n",
       "        text-align: left;\n",
       "    }\n",
       "</style>\n",
       "<table border=\"1\" class=\"dataframe\">\n",
       "  <thead>\n",
       "    <tr>\n",
       "      <th>Region</th>\n",
       "      <th>CA Andalucía</th>\n",
       "      <th>CA Aragón</th>\n",
       "      <th>CA Islas Baleares</th>\n",
       "      <th>CA Principado de Asturias</th>\n",
       "    </tr>\n",
       "    <tr>\n",
       "      <th>Item</th>\n",
       "      <th>Incidencia acumulada en los últimos 14 días</th>\n",
       "      <th>Incidencia acumulada en los últimos 14 días</th>\n",
       "      <th>Incidencia acumulada en los últimos 14 días</th>\n",
       "      <th>Incidencia acumulada en los últimos 14 días</th>\n",
       "    </tr>\n",
       "  </thead>\n",
       "  <tbody>\n",
       "    <tr>\n",
       "      <th>2021-01-06</th>\n",
       "      <td>192.4</td>\n",
       "      <td>309.4</td>\n",
       "      <td>NaN</td>\n",
       "      <td>129.4</td>\n",
       "    </tr>\n",
       "    <tr>\n",
       "      <th>2021-01-12</th>\n",
       "      <td>336.8</td>\n",
       "      <td>426.0</td>\n",
       "      <td>469.5</td>\n",
       "      <td>201.5</td>\n",
       "    </tr>\n",
       "    <tr>\n",
       "      <th>2021-01-01</th>\n",
       "      <td>159.0</td>\n",
       "      <td>240.4</td>\n",
       "      <td>NaN</td>\n",
       "      <td>105.5</td>\n",
       "    </tr>\n",
       "    <tr>\n",
       "      <th>2021-01-14</th>\n",
       "      <td>430.7</td>\n",
       "      <td>433.8</td>\n",
       "      <td>488.8</td>\n",
       "      <td>236.2</td>\n",
       "    </tr>\n",
       "    <tr>\n",
       "      <th>2021-01-04</th>\n",
       "      <td>166.0</td>\n",
       "      <td>263.7</td>\n",
       "      <td>363.5</td>\n",
       "      <td>116.1</td>\n",
       "    </tr>\n",
       "  </tbody>\n",
       "</table>\n",
       "</div>"
      ],
      "text/plain": [
       "Region                                    CA Andalucía  \\\n",
       "Item       Incidencia acumulada en los últimos 14 días   \n",
       "2021-01-06                                       192.4   \n",
       "2021-01-12                                       336.8   \n",
       "2021-01-01                                       159.0   \n",
       "2021-01-14                                       430.7   \n",
       "2021-01-04                                       166.0   \n",
       "\n",
       "Region                                       CA Aragón  \\\n",
       "Item       Incidencia acumulada en los últimos 14 días   \n",
       "2021-01-06                                       309.4   \n",
       "2021-01-12                                       426.0   \n",
       "2021-01-01                                       240.4   \n",
       "2021-01-14                                       433.8   \n",
       "2021-01-04                                       263.7   \n",
       "\n",
       "Region                               CA Islas Baleares  \\\n",
       "Item       Incidencia acumulada en los últimos 14 días   \n",
       "2021-01-06                                         NaN   \n",
       "2021-01-12                                       469.5   \n",
       "2021-01-01                                         NaN   \n",
       "2021-01-14                                       488.8   \n",
       "2021-01-04                                       363.5   \n",
       "\n",
       "Region                       CA Principado de Asturias  \n",
       "Item       Incidencia acumulada en los últimos 14 días  \n",
       "2021-01-06                                       129.4  \n",
       "2021-01-12                                       201.5  \n",
       "2021-01-01                                       105.5  \n",
       "2021-01-14                                       236.2  \n",
       "2021-01-04                                       116.1  "
      ]
     },
     "execution_count": 17,
     "metadata": {},
     "output_type": "execute_result"
    }
   ],
   "source": [
    "data.sample(5)"
   ]
  },
  {
   "cell_type": "code",
   "execution_count": 18,
   "metadata": {},
   "outputs": [
    {
     "name": "stdout",
     "output_type": "stream",
     "text": [
      "Assumed a TEMPORAL data retrieval...\n"
     ]
    },
    {
     "name": "stderr",
     "output_type": "stream",
     "text": [
      "C:\\Users\\Javier\\OneDrive\\Documentos\\Proyectos\\COnVIDa-lib\\lib\\datasources\\COVID19DataSource.py:284: RuntimeWarning: divide by zero encountered in double_scalars\n",
      "  percent = (df.loc[idx, ('España', param)] * 100) / valor\n",
      "C:\\Users\\Javier\\OneDrive\\Documentos\\Proyectos\\COnVIDa-lib\\lib\\datasources\\COVID19DataSource.py:284: RuntimeWarning: invalid value encountered in double_scalars\n",
      "  percent = (df.loc[idx, ('España', param)] * 100) / valor\n"
     ]
    },
    {
     "data": {
      "text/html": [
       "<div>\n",
       "<style scoped>\n",
       "    .dataframe tbody tr th:only-of-type {\n",
       "        vertical-align: middle;\n",
       "    }\n",
       "\n",
       "    .dataframe tbody tr th {\n",
       "        vertical-align: top;\n",
       "    }\n",
       "\n",
       "    .dataframe thead tr th {\n",
       "        text-align: left;\n",
       "    }\n",
       "</style>\n",
       "<table border=\"1\" class=\"dataframe\">\n",
       "  <thead>\n",
       "    <tr>\n",
       "      <th>Region</th>\n",
       "      <th colspan=\"5\" halign=\"left\">España</th>\n",
       "    </tr>\n",
       "    <tr>\n",
       "      <th>Item</th>\n",
       "      <th>Media de casos detectados en 7 días</th>\n",
       "      <th>Media de fallecidos en los últimos 3 días</th>\n",
       "      <th>Media de fallecidos en los últimos 7 días</th>\n",
       "      <th>Incidencia acumulada en los últimos 14 días</th>\n",
       "      <th>Media de casos PCR confirmados en los últimos 7 días</th>\n",
       "    </tr>\n",
       "  </thead>\n",
       "  <tbody>\n",
       "    <tr>\n",
       "      <th>2021-01-15</th>\n",
       "      <td>10494.428571</td>\n",
       "      <td>161.333333</td>\n",
       "      <td>199.428571</td>\n",
       "      <td>433.28</td>\n",
       "      <td>6335.714286</td>\n",
       "    </tr>\n",
       "    <tr>\n",
       "      <th>2021-01-16</th>\n",
       "      <td>NaN</td>\n",
       "      <td>NaN</td>\n",
       "      <td>NaN</td>\n",
       "      <td>NaN</td>\n",
       "      <td>NaN</td>\n",
       "    </tr>\n",
       "  </tbody>\n",
       "</table>\n",
       "</div>"
      ],
      "text/plain": [
       "Region                                  España  \\\n",
       "Item       Media de casos detectados en 7 días   \n",
       "2021-01-15                        10494.428571   \n",
       "2021-01-16                                 NaN   \n",
       "\n",
       "Region                                                \\\n",
       "Item       Media de fallecidos en los últimos 3 días   \n",
       "2021-01-15                                161.333333   \n",
       "2021-01-16                                       NaN   \n",
       "\n",
       "Region                                                \\\n",
       "Item       Media de fallecidos en los últimos 7 días   \n",
       "2021-01-15                                199.428571   \n",
       "2021-01-16                                       NaN   \n",
       "\n",
       "Region                                                  \\\n",
       "Item       Incidencia acumulada en los últimos 14 días   \n",
       "2021-01-15                                      433.28   \n",
       "2021-01-16                                         NaN   \n",
       "\n",
       "Region                                                           \n",
       "Item       Media de casos PCR confirmados en los últimos 7 días  \n",
       "2021-01-15                                        6335.714286    \n",
       "2021-01-16                                                NaN    "
      ]
     },
     "metadata": {},
     "output_type": "display_data"
    }
   ],
   "source": [
    "data = COnVIDa.get_data_items(regions=[regions[0]],\n",
    "                              data_items=data_items[0:5], \n",
    "                              start_date=start, \n",
    "                              end_date=end)\n",
    "display(data.tail(2))"
   ]
  },
  {
   "cell_type": "code",
   "execution_count": 19,
   "metadata": {},
   "outputs": [
    {
     "name": "stdout",
     "output_type": "stream",
     "text": [
      "Assumed a TEMPORAL data retrieval...\n"
     ]
    },
    {
     "name": "stderr",
     "output_type": "stream",
     "text": [
      "C:\\Users\\Javier\\OneDrive\\Documentos\\Proyectos\\COnVIDa-lib\\lib\\datasources\\COVID19DataSource.py:284: RuntimeWarning: divide by zero encountered in double_scalars\n",
      "  percent = (df.loc[idx, ('España', param)] * 100) / valor\n",
      "C:\\Users\\Javier\\OneDrive\\Documentos\\Proyectos\\COnVIDa-lib\\lib\\datasources\\COVID19DataSource.py:284: RuntimeWarning: invalid value encountered in double_scalars\n",
      "  percent = (df.loc[idx, ('España', param)] * 100) / valor\n"
     ]
    },
    {
     "data": {
      "text/html": [
       "<div>\n",
       "<style scoped>\n",
       "    .dataframe tbody tr th:only-of-type {\n",
       "        vertical-align: middle;\n",
       "    }\n",
       "\n",
       "    .dataframe tbody tr th {\n",
       "        vertical-align: top;\n",
       "    }\n",
       "\n",
       "    .dataframe thead tr th {\n",
       "        text-align: left;\n",
       "    }\n",
       "</style>\n",
       "<table border=\"1\" class=\"dataframe\">\n",
       "  <thead>\n",
       "    <tr>\n",
       "      <th>Region</th>\n",
       "      <th colspan=\"10\" halign=\"left\">A Coruña</th>\n",
       "      <th>...</th>\n",
       "      <th colspan=\"10\" halign=\"left\">Ávila</th>\n",
       "    </tr>\n",
       "    <tr>\n",
       "      <th>Item</th>\n",
       "      <th>Letalidad acumulada</th>\n",
       "      <th>Casos detectados en los últimos 14 días</th>\n",
       "      <th>Casos acumulados</th>\n",
       "      <th>Casos acumulados por 100.000 habitantes</th>\n",
       "      <th>Media de casos detectados en 7 días</th>\n",
       "      <th>Fallecidos diarios</th>\n",
       "      <th>Media de fallecidos en los últimos 3 días</th>\n",
       "      <th>Media de fallecidos en los últimos 7 días</th>\n",
       "      <th>Porcentaje de nuevos fallecidos respecto de día anterior</th>\n",
       "      <th>Fallecidos en los últimos 7 días</th>\n",
       "      <th>...</th>\n",
       "      <th>Casos acumulados UCI</th>\n",
       "      <th>Casos UCI por 100.000 habitantes</th>\n",
       "      <th>Casos diarios</th>\n",
       "      <th>Casos diarios prueba antígenos</th>\n",
       "      <th>Casos diarios de pruebas desconocidas</th>\n",
       "      <th>Casos diarios prueba Elisa</th>\n",
       "      <th>Casos diarios PCR</th>\n",
       "      <th>Media de casos PCR confirmados en los últimos 7 días</th>\n",
       "      <th>Casos diarios anticuerpos</th>\n",
       "      <th>Casos acumulados recuperados</th>\n",
       "    </tr>\n",
       "  </thead>\n",
       "  <tbody>\n",
       "    <tr>\n",
       "      <th>2021-01-15</th>\n",
       "      <td>NaN</td>\n",
       "      <td>NaN</td>\n",
       "      <td>NaN</td>\n",
       "      <td>NaN</td>\n",
       "      <td>NaN</td>\n",
       "      <td>NaN</td>\n",
       "      <td>NaN</td>\n",
       "      <td>NaN</td>\n",
       "      <td>NaN</td>\n",
       "      <td>NaN</td>\n",
       "      <td>...</td>\n",
       "      <td>7.0</td>\n",
       "      <td>4.44</td>\n",
       "      <td>NaN</td>\n",
       "      <td>NaN</td>\n",
       "      <td>NaN</td>\n",
       "      <td>NaN</td>\n",
       "      <td>NaN</td>\n",
       "      <td>NaN</td>\n",
       "      <td>NaN</td>\n",
       "      <td>1222.0</td>\n",
       "    </tr>\n",
       "    <tr>\n",
       "      <th>2021-01-16</th>\n",
       "      <td>NaN</td>\n",
       "      <td>NaN</td>\n",
       "      <td>NaN</td>\n",
       "      <td>NaN</td>\n",
       "      <td>NaN</td>\n",
       "      <td>NaN</td>\n",
       "      <td>NaN</td>\n",
       "      <td>NaN</td>\n",
       "      <td>NaN</td>\n",
       "      <td>NaN</td>\n",
       "      <td>...</td>\n",
       "      <td>NaN</td>\n",
       "      <td>NaN</td>\n",
       "      <td>NaN</td>\n",
       "      <td>NaN</td>\n",
       "      <td>NaN</td>\n",
       "      <td>NaN</td>\n",
       "      <td>NaN</td>\n",
       "      <td>NaN</td>\n",
       "      <td>NaN</td>\n",
       "      <td>NaN</td>\n",
       "    </tr>\n",
       "  </tbody>\n",
       "</table>\n",
       "<p>2 rows × 1917 columns</p>\n",
       "</div>"
      ],
      "text/plain": [
       "Region                A Coruña                                          \\\n",
       "Item       Letalidad acumulada Casos detectados en los últimos 14 días   \n",
       "2021-01-15                 NaN                                     NaN   \n",
       "2021-01-16                 NaN                                     NaN   \n",
       "\n",
       "Region                                                               \\\n",
       "Item       Casos acumulados Casos acumulados por 100.000 habitantes   \n",
       "2021-01-15              NaN                                     NaN   \n",
       "2021-01-16              NaN                                     NaN   \n",
       "\n",
       "Region                                                             \\\n",
       "Item       Media de casos detectados en 7 días Fallecidos diarios   \n",
       "2021-01-15                                 NaN                NaN   \n",
       "2021-01-16                                 NaN                NaN   \n",
       "\n",
       "Region                                                \\\n",
       "Item       Media de fallecidos en los últimos 3 días   \n",
       "2021-01-15                                       NaN   \n",
       "2021-01-16                                       NaN   \n",
       "\n",
       "Region                                                \\\n",
       "Item       Media de fallecidos en los últimos 7 días   \n",
       "2021-01-15                                       NaN   \n",
       "2021-01-16                                       NaN   \n",
       "\n",
       "Region                                                               \\\n",
       "Item       Porcentaje de nuevos fallecidos respecto de día anterior   \n",
       "2021-01-15                                                NaN         \n",
       "2021-01-16                                                NaN         \n",
       "\n",
       "Region                                       ...                Ávila  \\\n",
       "Item       Fallecidos en los últimos 7 días  ... Casos acumulados UCI   \n",
       "2021-01-15                              NaN  ...                  7.0   \n",
       "2021-01-16                              NaN  ...                  NaN   \n",
       "\n",
       "Region                                                     \\\n",
       "Item       Casos UCI por 100.000 habitantes Casos diarios   \n",
       "2021-01-15                             4.44           NaN   \n",
       "2021-01-16                              NaN           NaN   \n",
       "\n",
       "Region                                     \\\n",
       "Item       Casos diarios prueba antígenos   \n",
       "2021-01-15                            NaN   \n",
       "2021-01-16                            NaN   \n",
       "\n",
       "Region                                                                       \\\n",
       "Item       Casos diarios de pruebas desconocidas Casos diarios prueba Elisa   \n",
       "2021-01-15                                   NaN                        NaN   \n",
       "2021-01-16                                   NaN                        NaN   \n",
       "\n",
       "Region                        \\\n",
       "Item       Casos diarios PCR   \n",
       "2021-01-15               NaN   \n",
       "2021-01-16               NaN   \n",
       "\n",
       "Region                                                           \\\n",
       "Item       Media de casos PCR confirmados en los últimos 7 días   \n",
       "2021-01-15                                                NaN     \n",
       "2021-01-16                                                NaN     \n",
       "\n",
       "Region                                                             \n",
       "Item       Casos diarios anticuerpos Casos acumulados recuperados  \n",
       "2021-01-15                       NaN                       1222.0  \n",
       "2021-01-16                       NaN                          NaN  \n",
       "\n",
       "[2 rows x 1917 columns]"
      ]
     },
     "metadata": {},
     "output_type": "display_data"
    }
   ],
   "source": [
    "data = COnVIDa.get_data_items(regions=regions,\n",
    "                              data_items=data_items, \n",
    "                              start_date=start, \n",
    "                              end_date=end)\n",
    "display(data.tail(2))"
   ]
  },
  {
   "cell_type": "code",
   "execution_count": 20,
   "metadata": {},
   "outputs": [
    {
     "name": "stdout",
     "output_type": "stream",
     "text": [
      "WARNING: Item Altas is not implemented\n",
      "WARNING: Item Casos is not implemented\n",
      "WARNING: Item Fallecidos is not implemented\n",
      "WARNING: No result found for the specified data items and conditions\n"
     ]
    },
    {
     "data": {
      "text/plain": [
       "None"
      ]
     },
     "metadata": {},
     "output_type": "display_data"
    }
   ],
   "source": [
    "start = pd.to_datetime('2020-06-07', format='%Y-%m-%d')\n",
    "end = pd.to_datetime('today', format='%Y-%m-%d')\n",
    "data = COnVIDa.get_data_items(regions=['Murcia','Madrid','Andalucía'],\n",
    "                              data_items=['Altas', 'Casos','Fallecidos'], \n",
    "                              start_date=start, \n",
    "                              end_date=end)\n",
    "display(data)"
   ]
  },
  {
   "cell_type": "markdown",
   "metadata": {},
   "source": [
    "### 3.2 INE testing"
   ]
  },
  {
   "cell_type": "code",
   "execution_count": 21,
   "metadata": {},
   "outputs": [],
   "source": [
    "data_items = COnVIDa.get_data_items_names()['INEDataSource']\n",
    "\n",
    "regions = Regions.get_regions('ES')"
   ]
  },
  {
   "cell_type": "code",
   "execution_count": 22,
   "metadata": {},
   "outputs": [
    {
     "name": "stdout",
     "output_type": "stream",
     "text": [
      "Assumed a TEMPORAL data retrieval...\n",
      "WARNING. Item Actividad física is not TEMPORAL data\n",
      "WARNING: No result found for the specified data items and conditions\n"
     ]
    }
   ],
   "source": [
    "data = COnVIDa.get_data_items(regions=[regions[0]],\n",
    "                              data_items=[data_items[0]], \n",
    "                              start_date=start, \n",
    "                              end_date=end)"
   ]
  },
  {
   "cell_type": "code",
   "execution_count": 23,
   "metadata": {},
   "outputs": [
    {
     "name": "stdout",
     "output_type": "stream",
     "text": [
      "Assumed a GEOGRAPHICAL data retrieval...\n"
     ]
    },
    {
     "data": {
      "text/html": [
       "<div>\n",
       "<style scoped>\n",
       "    .dataframe tbody tr th:only-of-type {\n",
       "        vertical-align: middle;\n",
       "    }\n",
       "\n",
       "    .dataframe tbody tr th {\n",
       "        vertical-align: top;\n",
       "    }\n",
       "\n",
       "    .dataframe thead th {\n",
       "        text-align: right;\n",
       "    }\n",
       "</style>\n",
       "<table border=\"1\" class=\"dataframe\">\n",
       "  <thead>\n",
       "    <tr style=\"text-align: right;\">\n",
       "      <th>Item</th>\n",
       "      <th>Actividad física (Nivel alto)</th>\n",
       "      <th>Actividad física (Nivel bajo)</th>\n",
       "      <th>Actividad física (Nivel moderado)</th>\n",
       "      <th>Actividad física (No consta)</th>\n",
       "    </tr>\n",
       "    <tr>\n",
       "      <th>Region</th>\n",
       "      <th></th>\n",
       "      <th></th>\n",
       "      <th></th>\n",
       "      <th></th>\n",
       "    </tr>\n",
       "  </thead>\n",
       "  <tbody>\n",
       "    <tr>\n",
       "      <th>CA Andalucía</th>\n",
       "      <td>1207.9</td>\n",
       "      <td>2558.3</td>\n",
       "      <td>2206.7</td>\n",
       "      <td>0.0</td>\n",
       "    </tr>\n",
       "  </tbody>\n",
       "</table>\n",
       "</div>"
      ],
      "text/plain": [
       "Item          Actividad física (Nivel alto)  Actividad física (Nivel bajo)  \\\n",
       "Region                                                                       \n",
       "CA Andalucía                         1207.9                         2558.3   \n",
       "\n",
       "Item          Actividad física (Nivel moderado)  Actividad física (No consta)  \n",
       "Region                                                                         \n",
       "CA Andalucía                             2206.7                           0.0  "
      ]
     },
     "metadata": {},
     "output_type": "display_data"
    }
   ],
   "source": [
    "data = COnVIDa.get_data_items(regions=[regions[1]],\n",
    "                              data_items=[data_items[0]])\n",
    "display(data.tail(3))"
   ]
  },
  {
   "cell_type": "code",
   "execution_count": 24,
   "metadata": {},
   "outputs": [
    {
     "name": "stdout",
     "output_type": "stream",
     "text": [
      "Assumed a GEOGRAPHICAL data retrieval...\n"
     ]
    },
    {
     "data": {
      "text/html": [
       "<div>\n",
       "<style scoped>\n",
       "    .dataframe tbody tr th:only-of-type {\n",
       "        vertical-align: middle;\n",
       "    }\n",
       "\n",
       "    .dataframe tbody tr th {\n",
       "        vertical-align: top;\n",
       "    }\n",
       "\n",
       "    .dataframe thead th {\n",
       "        text-align: right;\n",
       "    }\n",
       "</style>\n",
       "<table border=\"1\" class=\"dataframe\">\n",
       "  <thead>\n",
       "    <tr style=\"text-align: right;\">\n",
       "      <th>Item</th>\n",
       "      <th>Actividad física (Nivel alto)</th>\n",
       "      <th>Actividad física (Nivel bajo)</th>\n",
       "      <th>Actividad física (Nivel moderado)</th>\n",
       "      <th>Actividad física (No consta)</th>\n",
       "    </tr>\n",
       "    <tr>\n",
       "      <th>Region</th>\n",
       "      <th></th>\n",
       "      <th></th>\n",
       "      <th></th>\n",
       "      <th></th>\n",
       "    </tr>\n",
       "  </thead>\n",
       "  <tbody>\n",
       "    <tr>\n",
       "      <th>CA Islas Baleares</th>\n",
       "      <td>171.1</td>\n",
       "      <td>295.6</td>\n",
       "      <td>369.6</td>\n",
       "      <td>0.0</td>\n",
       "    </tr>\n",
       "    <tr>\n",
       "      <th>CA Principado de Asturias</th>\n",
       "      <td>132.9</td>\n",
       "      <td>235.0</td>\n",
       "      <td>364.7</td>\n",
       "      <td>0.2</td>\n",
       "    </tr>\n",
       "  </tbody>\n",
       "</table>\n",
       "</div>"
      ],
      "text/plain": [
       "Item                       Actividad física (Nivel alto)  \\\n",
       "Region                                                     \n",
       "CA Islas Baleares                                  171.1   \n",
       "CA Principado de Asturias                          132.9   \n",
       "\n",
       "Item                       Actividad física (Nivel bajo)  \\\n",
       "Region                                                     \n",
       "CA Islas Baleares                                  295.6   \n",
       "CA Principado de Asturias                          235.0   \n",
       "\n",
       "Item                       Actividad física (Nivel moderado)  \\\n",
       "Region                                                         \n",
       "CA Islas Baleares                                      369.6   \n",
       "CA Principado de Asturias                              364.7   \n",
       "\n",
       "Item                       Actividad física (No consta)  \n",
       "Region                                                   \n",
       "CA Islas Baleares                                   0.0  \n",
       "CA Principado de Asturias                           0.2  "
      ]
     },
     "metadata": {},
     "output_type": "display_data"
    }
   ],
   "source": [
    "data = COnVIDa.get_data_items(regions=regions[1:5],\n",
    "                              data_items=[data_items[0]])\n",
    "display(data.tail(2))"
   ]
  },
  {
   "cell_type": "code",
   "execution_count": 25,
   "metadata": {},
   "outputs": [
    {
     "name": "stdout",
     "output_type": "stream",
     "text": [
      "Assumed a GEOGRAPHICAL data retrieval...\n"
     ]
    },
    {
     "data": {
      "text/html": [
       "<div>\n",
       "<style scoped>\n",
       "    .dataframe tbody tr th:only-of-type {\n",
       "        vertical-align: middle;\n",
       "    }\n",
       "\n",
       "    .dataframe tbody tr th {\n",
       "        vertical-align: top;\n",
       "    }\n",
       "\n",
       "    .dataframe thead th {\n",
       "        text-align: right;\n",
       "    }\n",
       "</style>\n",
       "<table border=\"1\" class=\"dataframe\">\n",
       "  <thead>\n",
       "    <tr style=\"text-align: right;\">\n",
       "      <th>Item</th>\n",
       "      <th>Actividad física (Nivel alto)</th>\n",
       "      <th>Actividad física (Nivel bajo)</th>\n",
       "      <th>Actividad física (Nivel moderado)</th>\n",
       "      <th>Actividad física (No consta)</th>\n",
       "      <th>Hogares por densidad de ocupación (60 m2 o más por ocupante)</th>\n",
       "      <th>Hogares por densidad de ocupación (Entre 10 y menos de 20 m2 por ocupante)</th>\n",
       "      <th>Hogares por densidad de ocupación (Entre 20 y menos de 30 m2 por ocupante)</th>\n",
       "      <th>Hogares por densidad de ocupación (Entre 30 y menos de 60 m2 por ocupante)</th>\n",
       "      <th>Hogares por densidad de ocupación (Menos de 10 m2 por ocupante)</th>\n",
       "      <th>Hogares por tipo de familia (1 persona)</th>\n",
       "      <th>...</th>\n",
       "      <th>Hogares por tipo de familia (7 personas)</th>\n",
       "      <th>Hogares por tipo de familia (8 personas o más)</th>\n",
       "      <th>Índice de masa corporal (IMC) (Normopeso (18,5 kg/m2 &lt;=IMC&lt;25 kg/m2))</th>\n",
       "      <th>Índice de masa corporal (IMC) (Obesidad (IMC&gt;=30 kg/m2))</th>\n",
       "      <th>Índice de masa corporal (IMC) (Peso insuficiente (IMC&lt;18,5 kg/m2))</th>\n",
       "      <th>Índice de masa corporal (IMC) (Sobrepeso (25 kg/m2 &lt;=IMC&lt;30 kg/m2))</th>\n",
       "      <th>Tabaquismo (Exfumador)</th>\n",
       "      <th>Tabaquismo (Fumador diario)</th>\n",
       "      <th>Tabaquismo (Fumador ocasional)</th>\n",
       "      <th>Tabaquismo (Nunca ha fumado)</th>\n",
       "    </tr>\n",
       "    <tr>\n",
       "      <th>Region</th>\n",
       "      <th></th>\n",
       "      <th></th>\n",
       "      <th></th>\n",
       "      <th></th>\n",
       "      <th></th>\n",
       "      <th></th>\n",
       "      <th></th>\n",
       "      <th></th>\n",
       "      <th></th>\n",
       "      <th></th>\n",
       "      <th></th>\n",
       "      <th></th>\n",
       "      <th></th>\n",
       "      <th></th>\n",
       "      <th></th>\n",
       "      <th></th>\n",
       "      <th></th>\n",
       "      <th></th>\n",
       "      <th></th>\n",
       "      <th></th>\n",
       "      <th></th>\n",
       "    </tr>\n",
       "  </thead>\n",
       "  <tbody>\n",
       "    <tr>\n",
       "      <th>CA Islas Baleares</th>\n",
       "      <td>171.1</td>\n",
       "      <td>295.6</td>\n",
       "      <td>369.6</td>\n",
       "      <td>0.0</td>\n",
       "      <td>229.05</td>\n",
       "      <td>132.433333</td>\n",
       "      <td>301.366667</td>\n",
       "      <td>471.0</td>\n",
       "      <td>5.9</td>\n",
       "      <td>106.9</td>\n",
       "      <td>...</td>\n",
       "      <td>2.4</td>\n",
       "      <td>1.033333</td>\n",
       "      <td>50.47</td>\n",
       "      <td>13.23</td>\n",
       "      <td>2.89</td>\n",
       "      <td>33.41</td>\n",
       "      <td>20.62</td>\n",
       "      <td>22.73</td>\n",
       "      <td>2.8</td>\n",
       "      <td>53.85</td>\n",
       "    </tr>\n",
       "  </tbody>\n",
       "</table>\n",
       "<p>1 rows × 25 columns</p>\n",
       "</div>"
      ],
      "text/plain": [
       "Item               Actividad física (Nivel alto)  \\\n",
       "Region                                             \n",
       "CA Islas Baleares                          171.1   \n",
       "\n",
       "Item               Actividad física (Nivel bajo)  \\\n",
       "Region                                             \n",
       "CA Islas Baleares                          295.6   \n",
       "\n",
       "Item               Actividad física (Nivel moderado)  \\\n",
       "Region                                                 \n",
       "CA Islas Baleares                              369.6   \n",
       "\n",
       "Item               Actividad física (No consta)  \\\n",
       "Region                                            \n",
       "CA Islas Baleares                           0.0   \n",
       "\n",
       "Item               Hogares por densidad de ocupación (60 m2 o más por ocupante)  \\\n",
       "Region                                                                            \n",
       "CA Islas Baleares                                             229.05              \n",
       "\n",
       "Item               Hogares por densidad de ocupación (Entre 10 y menos de 20 m2 por ocupante)  \\\n",
       "Region                                                                                          \n",
       "CA Islas Baleares                                         132.433333                            \n",
       "\n",
       "Item               Hogares por densidad de ocupación (Entre 20 y menos de 30 m2 por ocupante)  \\\n",
       "Region                                                                                          \n",
       "CA Islas Baleares                                         301.366667                            \n",
       "\n",
       "Item               Hogares por densidad de ocupación (Entre 30 y menos de 60 m2 por ocupante)  \\\n",
       "Region                                                                                          \n",
       "CA Islas Baleares                                              471.0                            \n",
       "\n",
       "Item               Hogares por densidad de ocupación (Menos de 10 m2 por ocupante)  \\\n",
       "Region                                                                               \n",
       "CA Islas Baleares                                                5.9                 \n",
       "\n",
       "Item               Hogares por tipo de familia (1 persona)  ...  \\\n",
       "Region                                                      ...   \n",
       "CA Islas Baleares                                    106.9  ...   \n",
       "\n",
       "Item               Hogares por tipo de familia (7 personas)  \\\n",
       "Region                                                        \n",
       "CA Islas Baleares                                       2.4   \n",
       "\n",
       "Item               Hogares por tipo de familia (8 personas o más)  \\\n",
       "Region                                                              \n",
       "CA Islas Baleares                                        1.033333   \n",
       "\n",
       "Item               Índice de masa corporal (IMC) (Normopeso (18,5 kg/m2 <=IMC<25 kg/m2))  \\\n",
       "Region                                                                                     \n",
       "CA Islas Baleares                                              50.47                       \n",
       "\n",
       "Item               Índice de masa corporal (IMC) (Obesidad (IMC>=30 kg/m2))  \\\n",
       "Region                                                                        \n",
       "CA Islas Baleares                                              13.23          \n",
       "\n",
       "Item               Índice de masa corporal (IMC) (Peso insuficiente (IMC<18,5 kg/m2))  \\\n",
       "Region                                                                                  \n",
       "CA Islas Baleares                                               2.89                    \n",
       "\n",
       "Item               Índice de masa corporal (IMC) (Sobrepeso (25 kg/m2 <=IMC<30 kg/m2))  \\\n",
       "Region                                                                                   \n",
       "CA Islas Baleares                                              33.41                     \n",
       "\n",
       "Item               Tabaquismo (Exfumador)  Tabaquismo (Fumador diario)  \\\n",
       "Region                                                                   \n",
       "CA Islas Baleares                   20.62                        22.73   \n",
       "\n",
       "Item               Tabaquismo (Fumador ocasional)  \\\n",
       "Region                                              \n",
       "CA Islas Baleares                             2.8   \n",
       "\n",
       "Item               Tabaquismo (Nunca ha fumado)  \n",
       "Region                                           \n",
       "CA Islas Baleares                         53.85  \n",
       "\n",
       "[1 rows x 25 columns]"
      ]
     },
     "metadata": {},
     "output_type": "display_data"
    }
   ],
   "source": [
    "data = COnVIDa.get_data_items(regions=[regions[4]],\n",
    "                              data_items=data_items[0:5])\n",
    "display(data.tail(2))"
   ]
  },
  {
   "cell_type": "code",
   "execution_count": 26,
   "metadata": {},
   "outputs": [
    {
     "name": "stdout",
     "output_type": "stream",
     "text": [
      "Assumed a GEOGRAPHICAL data retrieval...\n"
     ]
    },
    {
     "data": {
      "text/html": [
       "<div>\n",
       "<style scoped>\n",
       "    .dataframe tbody tr th:only-of-type {\n",
       "        vertical-align: middle;\n",
       "    }\n",
       "\n",
       "    .dataframe tbody tr th {\n",
       "        vertical-align: top;\n",
       "    }\n",
       "\n",
       "    .dataframe thead th {\n",
       "        text-align: right;\n",
       "    }\n",
       "</style>\n",
       "<table border=\"1\" class=\"dataframe\">\n",
       "  <thead>\n",
       "    <tr style=\"text-align: right;\">\n",
       "      <th>Item</th>\n",
       "      <th>Actividad física (Nivel alto)</th>\n",
       "      <th>Actividad física (Nivel bajo)</th>\n",
       "      <th>Actividad física (Nivel moderado)</th>\n",
       "      <th>Actividad física (No consta)</th>\n",
       "      <th>Hogares por densidad de ocupación (60 m2 o más por ocupante)</th>\n",
       "      <th>Hogares por densidad de ocupación (Entre 10 y menos de 20 m2 por ocupante)</th>\n",
       "      <th>Hogares por densidad de ocupación (Entre 20 y menos de 30 m2 por ocupante)</th>\n",
       "      <th>Hogares por densidad de ocupación (Entre 30 y menos de 60 m2 por ocupante)</th>\n",
       "      <th>Hogares por densidad de ocupación (Menos de 10 m2 por ocupante)</th>\n",
       "      <th>Hogares por tipo de familia (1 persona)</th>\n",
       "      <th>...</th>\n",
       "      <th>Mayores de 65 años solos (65 años o más, Viudo/a)</th>\n",
       "      <th>Mayores de 65 años solos (Menos de 65 años, Casado/a)</th>\n",
       "      <th>Mayores de 65 años solos (Menos de 65 años, Divorciado/a)</th>\n",
       "      <th>Mayores de 65 años solos (Menos de 65 años, Separado/a)</th>\n",
       "      <th>Mayores de 65 años solos (Menos de 65 años, Soltero/a)</th>\n",
       "      <th>Mayores de 65 años solos (Menos de 65 años, Viudo/a)</th>\n",
       "      <th>Tabaquismo (Exfumador)</th>\n",
       "      <th>Tabaquismo (Fumador diario)</th>\n",
       "      <th>Tabaquismo (Fumador ocasional)</th>\n",
       "      <th>Tabaquismo (Nunca ha fumado)</th>\n",
       "    </tr>\n",
       "    <tr>\n",
       "      <th>Region</th>\n",
       "      <th></th>\n",
       "      <th></th>\n",
       "      <th></th>\n",
       "      <th></th>\n",
       "      <th></th>\n",
       "      <th></th>\n",
       "      <th></th>\n",
       "      <th></th>\n",
       "      <th></th>\n",
       "      <th></th>\n",
       "      <th></th>\n",
       "      <th></th>\n",
       "      <th></th>\n",
       "      <th></th>\n",
       "      <th></th>\n",
       "      <th></th>\n",
       "      <th></th>\n",
       "      <th></th>\n",
       "      <th></th>\n",
       "      <th></th>\n",
       "      <th></th>\n",
       "    </tr>\n",
       "  </thead>\n",
       "  <tbody>\n",
       "    <tr>\n",
       "      <th>Ceuta</th>\n",
       "      <td>8.3</td>\n",
       "      <td>44.5</td>\n",
       "      <td>7.4</td>\n",
       "      <td>0.0</td>\n",
       "      <td>4.383333</td>\n",
       "      <td>30.500000</td>\n",
       "      <td>24.016667</td>\n",
       "      <td>18.800000</td>\n",
       "      <td>6.383333</td>\n",
       "      <td>4.633333</td>\n",
       "      <td>...</td>\n",
       "      <td>1.350000</td>\n",
       "      <td>0.333333</td>\n",
       "      <td>0.533333</td>\n",
       "      <td>0.150000</td>\n",
       "      <td>1.683333</td>\n",
       "      <td>0.083333</td>\n",
       "      <td>18.62</td>\n",
       "      <td>18.66</td>\n",
       "      <td>2.13</td>\n",
       "      <td>60.59</td>\n",
       "    </tr>\n",
       "    <tr>\n",
       "      <th>Melilla</th>\n",
       "      <td>33.9</td>\n",
       "      <td>6.1</td>\n",
       "      <td>17.9</td>\n",
       "      <td>0.0</td>\n",
       "      <td>6.283333</td>\n",
       "      <td>27.166667</td>\n",
       "      <td>23.850000</td>\n",
       "      <td>20.433333</td>\n",
       "      <td>5.750000</td>\n",
       "      <td>4.550000</td>\n",
       "      <td>...</td>\n",
       "      <td>1.283333</td>\n",
       "      <td>0.300000</td>\n",
       "      <td>0.416667</td>\n",
       "      <td>0.133333</td>\n",
       "      <td>1.683333</td>\n",
       "      <td>0.166667</td>\n",
       "      <td>2.55</td>\n",
       "      <td>18.99</td>\n",
       "      <td>1.66</td>\n",
       "      <td>76.80</td>\n",
       "    </tr>\n",
       "  </tbody>\n",
       "</table>\n",
       "<p>2 rows × 35 columns</p>\n",
       "</div>"
      ],
      "text/plain": [
       "Item     Actividad física (Nivel alto)  Actividad física (Nivel bajo)  \\\n",
       "Region                                                                  \n",
       "Ceuta                              8.3                           44.5   \n",
       "Melilla                           33.9                            6.1   \n",
       "\n",
       "Item     Actividad física (Nivel moderado)  Actividad física (No consta)  \\\n",
       "Region                                                                     \n",
       "Ceuta                                  7.4                           0.0   \n",
       "Melilla                               17.9                           0.0   \n",
       "\n",
       "Item     Hogares por densidad de ocupación (60 m2 o más por ocupante)  \\\n",
       "Region                                                                  \n",
       "Ceuta                                             4.383333              \n",
       "Melilla                                           6.283333              \n",
       "\n",
       "Item     Hogares por densidad de ocupación (Entre 10 y menos de 20 m2 por ocupante)  \\\n",
       "Region                                                                                \n",
       "Ceuta                                            30.500000                            \n",
       "Melilla                                          27.166667                            \n",
       "\n",
       "Item     Hogares por densidad de ocupación (Entre 20 y menos de 30 m2 por ocupante)  \\\n",
       "Region                                                                                \n",
       "Ceuta                                            24.016667                            \n",
       "Melilla                                          23.850000                            \n",
       "\n",
       "Item     Hogares por densidad de ocupación (Entre 30 y menos de 60 m2 por ocupante)  \\\n",
       "Region                                                                                \n",
       "Ceuta                                            18.800000                            \n",
       "Melilla                                          20.433333                            \n",
       "\n",
       "Item     Hogares por densidad de ocupación (Menos de 10 m2 por ocupante)  \\\n",
       "Region                                                                     \n",
       "Ceuta                                             6.383333                 \n",
       "Melilla                                           5.750000                 \n",
       "\n",
       "Item     Hogares por tipo de familia (1 persona)  ...  \\\n",
       "Region                                            ...   \n",
       "Ceuta                                   4.633333  ...   \n",
       "Melilla                                 4.550000  ...   \n",
       "\n",
       "Item     Mayores de 65 años solos (65 años o más, Viudo/a)  \\\n",
       "Region                                                       \n",
       "Ceuta                                             1.350000   \n",
       "Melilla                                           1.283333   \n",
       "\n",
       "Item     Mayores de 65 años solos (Menos de 65 años, Casado/a)  \\\n",
       "Region                                                           \n",
       "Ceuta                                             0.333333       \n",
       "Melilla                                           0.300000       \n",
       "\n",
       "Item     Mayores de 65 años solos (Menos de 65 años, Divorciado/a)  \\\n",
       "Region                                                               \n",
       "Ceuta                                             0.533333           \n",
       "Melilla                                           0.416667           \n",
       "\n",
       "Item     Mayores de 65 años solos (Menos de 65 años, Separado/a)  \\\n",
       "Region                                                             \n",
       "Ceuta                                             0.150000         \n",
       "Melilla                                           0.133333         \n",
       "\n",
       "Item     Mayores de 65 años solos (Menos de 65 años, Soltero/a)  \\\n",
       "Region                                                            \n",
       "Ceuta                                             1.683333        \n",
       "Melilla                                           1.683333        \n",
       "\n",
       "Item     Mayores de 65 años solos (Menos de 65 años, Viudo/a)  \\\n",
       "Region                                                          \n",
       "Ceuta                                             0.083333      \n",
       "Melilla                                           0.166667      \n",
       "\n",
       "Item     Tabaquismo (Exfumador)  Tabaquismo (Fumador diario)  \\\n",
       "Region                                                         \n",
       "Ceuta                     18.62                        18.66   \n",
       "Melilla                    2.55                        18.99   \n",
       "\n",
       "Item     Tabaquismo (Fumador ocasional)  Tabaquismo (Nunca ha fumado)  \n",
       "Region                                                                 \n",
       "Ceuta                              2.13                         60.59  \n",
       "Melilla                            1.66                         76.80  \n",
       "\n",
       "[2 rows x 35 columns]"
      ]
     },
     "metadata": {},
     "output_type": "display_data"
    }
   ],
   "source": [
    "data = COnVIDa.get_data_items(regions=regions,\n",
    "                              data_items=data_items)\n",
    "display(data.tail(2))"
   ]
  },
  {
   "cell_type": "markdown",
   "metadata": {},
   "source": [
    "### 3.3 Mobility testing"
   ]
  },
  {
   "cell_type": "code",
   "execution_count": 27,
   "metadata": {},
   "outputs": [],
   "source": [
    "start = pd.to_datetime('2020-05-01', format='%Y-%m-%d')\n",
    "end = pd.to_datetime('today', format='%Y-%m-%d')\n",
    "\n",
    "data_items = COnVIDa.get_data_items_names()['MobilityDataSource']\n",
    "\n",
    "regions = Regions.get_regions('ES')"
   ]
  },
  {
   "cell_type": "code",
   "execution_count": 28,
   "metadata": {},
   "outputs": [
    {
     "name": "stdout",
     "output_type": "stream",
     "text": [
      "Assumed a TEMPORAL data retrieval...\n"
     ]
    },
    {
     "data": {
      "text/html": [
       "<div>\n",
       "<style scoped>\n",
       "    .dataframe tbody tr th:only-of-type {\n",
       "        vertical-align: middle;\n",
       "    }\n",
       "\n",
       "    .dataframe tbody tr th {\n",
       "        vertical-align: top;\n",
       "    }\n",
       "\n",
       "    .dataframe thead tr th {\n",
       "        text-align: left;\n",
       "    }\n",
       "</style>\n",
       "<table border=\"1\" class=\"dataframe\">\n",
       "  <thead>\n",
       "    <tr>\n",
       "      <th>Region</th>\n",
       "      <th>CA Principado de Asturias</th>\n",
       "    </tr>\n",
       "    <tr>\n",
       "      <th>Item</th>\n",
       "      <th>Supermercados y farmacias</th>\n",
       "    </tr>\n",
       "  </thead>\n",
       "  <tbody>\n",
       "    <tr>\n",
       "      <th>2020-07-08</th>\n",
       "      <td>4.0</td>\n",
       "    </tr>\n",
       "    <tr>\n",
       "      <th>2020-07-02</th>\n",
       "      <td>6.0</td>\n",
       "    </tr>\n",
       "    <tr>\n",
       "      <th>2020-12-02</th>\n",
       "      <td>7.0</td>\n",
       "    </tr>\n",
       "    <tr>\n",
       "      <th>2020-08-16</th>\n",
       "      <td>NaN</td>\n",
       "    </tr>\n",
       "    <tr>\n",
       "      <th>2020-07-03</th>\n",
       "      <td>2.0</td>\n",
       "    </tr>\n",
       "  </tbody>\n",
       "</table>\n",
       "</div>"
      ],
      "text/plain": [
       "Region     CA Principado de Asturias\n",
       "Item       Supermercados y farmacias\n",
       "2020-07-08                       4.0\n",
       "2020-07-02                       6.0\n",
       "2020-12-02                       7.0\n",
       "2020-08-16                       NaN\n",
       "2020-07-03                       2.0"
      ]
     },
     "metadata": {},
     "output_type": "display_data"
    }
   ],
   "source": [
    "data = COnVIDa.get_data_items(regions=[regions[3]],\n",
    "                              data_items=[data_items[0]], \n",
    "                              start_date=start, \n",
    "                              end_date=end, errors='raise')\n",
    "display(data.sample(5))"
   ]
  },
  {
   "cell_type": "code",
   "execution_count": 29,
   "metadata": {},
   "outputs": [
    {
     "name": "stdout",
     "output_type": "stream",
     "text": [
      "Assumed a TEMPORAL data retrieval...\n"
     ]
    },
    {
     "data": {
      "text/html": [
       "<div>\n",
       "<style scoped>\n",
       "    .dataframe tbody tr th:only-of-type {\n",
       "        vertical-align: middle;\n",
       "    }\n",
       "\n",
       "    .dataframe tbody tr th {\n",
       "        vertical-align: top;\n",
       "    }\n",
       "\n",
       "    .dataframe thead tr th {\n",
       "        text-align: left;\n",
       "    }\n",
       "</style>\n",
       "<table border=\"1\" class=\"dataframe\">\n",
       "  <thead>\n",
       "    <tr>\n",
       "      <th>Region</th>\n",
       "      <th>CA Andalucía</th>\n",
       "      <th>CA Aragón</th>\n",
       "      <th>CA Islas Baleares</th>\n",
       "      <th>CA Principado de Asturias</th>\n",
       "    </tr>\n",
       "    <tr>\n",
       "      <th>Item</th>\n",
       "      <th>Supermercados y farmacias</th>\n",
       "      <th>Supermercados y farmacias</th>\n",
       "      <th>Supermercados y farmacias</th>\n",
       "      <th>Supermercados y farmacias</th>\n",
       "    </tr>\n",
       "  </thead>\n",
       "  <tbody>\n",
       "    <tr>\n",
       "      <th>2020-09-12</th>\n",
       "      <td>-8.000000</td>\n",
       "      <td>-1.25</td>\n",
       "      <td>-10.0</td>\n",
       "      <td>-5.0</td>\n",
       "    </tr>\n",
       "    <tr>\n",
       "      <th>2020-09-02</th>\n",
       "      <td>-2.222222</td>\n",
       "      <td>3.25</td>\n",
       "      <td>0.0</td>\n",
       "      <td>3.0</td>\n",
       "    </tr>\n",
       "  </tbody>\n",
       "</table>\n",
       "</div>"
      ],
      "text/plain": [
       "Region                  CA Andalucía                 CA Aragón  \\\n",
       "Item       Supermercados y farmacias Supermercados y farmacias   \n",
       "2020-09-12                 -8.000000                     -1.25   \n",
       "2020-09-02                 -2.222222                      3.25   \n",
       "\n",
       "Region             CA Islas Baleares CA Principado de Asturias  \n",
       "Item       Supermercados y farmacias Supermercados y farmacias  \n",
       "2020-09-12                     -10.0                      -5.0  \n",
       "2020-09-02                       0.0                       3.0  "
      ]
     },
     "metadata": {},
     "output_type": "display_data"
    }
   ],
   "source": [
    "data = COnVIDa.get_data_items(regions=regions[1:5],\n",
    "                              data_items=[data_items[0]], \n",
    "                              start_date=start, \n",
    "                              end_date=end, errors='raise')\n",
    "display(data.sample(2))"
   ]
  },
  {
   "cell_type": "code",
   "execution_count": 30,
   "metadata": {},
   "outputs": [
    {
     "name": "stdout",
     "output_type": "stream",
     "text": [
      "Assumed a TEMPORAL data retrieval...\n"
     ]
    },
    {
     "data": {
      "text/html": [
       "<div>\n",
       "<style scoped>\n",
       "    .dataframe tbody tr th:only-of-type {\n",
       "        vertical-align: middle;\n",
       "    }\n",
       "\n",
       "    .dataframe tbody tr th {\n",
       "        vertical-align: top;\n",
       "    }\n",
       "\n",
       "    .dataframe thead tr th {\n",
       "        text-align: left;\n",
       "    }\n",
       "</style>\n",
       "<table border=\"1\" class=\"dataframe\">\n",
       "  <thead>\n",
       "    <tr>\n",
       "      <th>Region</th>\n",
       "      <th colspan=\"5\" halign=\"left\">CA Principado de Asturias</th>\n",
       "    </tr>\n",
       "    <tr>\n",
       "      <th>Item</th>\n",
       "      <th>Supermercados y farmacias</th>\n",
       "      <th>Parques</th>\n",
       "      <th>Residencial</th>\n",
       "      <th>Venta minorista, ocio y cultura</th>\n",
       "      <th>Transporte público</th>\n",
       "    </tr>\n",
       "  </thead>\n",
       "  <tbody>\n",
       "    <tr>\n",
       "      <th>2020-07-27</th>\n",
       "      <td>9.0</td>\n",
       "      <td>234.0</td>\n",
       "      <td>-1.0</td>\n",
       "      <td>2.0</td>\n",
       "      <td>-17.0</td>\n",
       "    </tr>\n",
       "    <tr>\n",
       "      <th>2020-06-02</th>\n",
       "      <td>-15.0</td>\n",
       "      <td>68.0</td>\n",
       "      <td>8.0</td>\n",
       "      <td>-29.0</td>\n",
       "      <td>-40.0</td>\n",
       "    </tr>\n",
       "  </tbody>\n",
       "</table>\n",
       "</div>"
      ],
      "text/plain": [
       "Region     CA Principado de Asturias                      \\\n",
       "Item       Supermercados y farmacias Parques Residencial   \n",
       "2020-07-27                       9.0   234.0        -1.0   \n",
       "2020-06-02                     -15.0    68.0         8.0   \n",
       "\n",
       "Region                                                         \n",
       "Item       Venta minorista, ocio y cultura Transporte público  \n",
       "2020-07-27                             2.0              -17.0  \n",
       "2020-06-02                           -29.0              -40.0  "
      ]
     },
     "metadata": {},
     "output_type": "display_data"
    }
   ],
   "source": [
    "data = COnVIDa.get_data_items(regions=[regions[3]],\n",
    "                              data_items=data_items[0:5], \n",
    "                              start_date=start, \n",
    "                              end_date=end, errors='raise')\n",
    "display(data.sample(2))"
   ]
  },
  {
   "cell_type": "code",
   "execution_count": 31,
   "metadata": {},
   "outputs": [
    {
     "name": "stdout",
     "output_type": "stream",
     "text": [
      "Assumed a TEMPORAL data retrieval...\n"
     ]
    },
    {
     "data": {
      "text/html": [
       "<div>\n",
       "<style scoped>\n",
       "    .dataframe tbody tr th:only-of-type {\n",
       "        vertical-align: middle;\n",
       "    }\n",
       "\n",
       "    .dataframe tbody tr th {\n",
       "        vertical-align: top;\n",
       "    }\n",
       "\n",
       "    .dataframe thead tr th {\n",
       "        text-align: left;\n",
       "    }\n",
       "</style>\n",
       "<table border=\"1\" class=\"dataframe\">\n",
       "  <thead>\n",
       "    <tr>\n",
       "      <th>Region</th>\n",
       "      <th colspan=\"7\" halign=\"left\">Asturias</th>\n",
       "      <th colspan=\"3\" halign=\"left\">CA Andalucía</th>\n",
       "      <th>...</th>\n",
       "      <th colspan=\"3\" halign=\"left\">León</th>\n",
       "      <th colspan=\"7\" halign=\"left\">Melilla</th>\n",
       "    </tr>\n",
       "    <tr>\n",
       "      <th>Item</th>\n",
       "      <th>Conducción</th>\n",
       "      <th>Supermercados y farmacias</th>\n",
       "      <th>Parques</th>\n",
       "      <th>Residencial</th>\n",
       "      <th>Venta minorista, ocio y cultura</th>\n",
       "      <th>Transporte público</th>\n",
       "      <th>Lugar de trabajo</th>\n",
       "      <th>Conducción</th>\n",
       "      <th>Supermercados y farmacias</th>\n",
       "      <th>Parques</th>\n",
       "      <th>...</th>\n",
       "      <th>Venta minorista, ocio y cultura</th>\n",
       "      <th>Transporte público</th>\n",
       "      <th>Lugar de trabajo</th>\n",
       "      <th>Conducción</th>\n",
       "      <th>Supermercados y farmacias</th>\n",
       "      <th>Parques</th>\n",
       "      <th>Residencial</th>\n",
       "      <th>Venta minorista, ocio y cultura</th>\n",
       "      <th>Transporte público</th>\n",
       "      <th>Lugar de trabajo</th>\n",
       "    </tr>\n",
       "  </thead>\n",
       "  <tbody>\n",
       "    <tr>\n",
       "      <th>2020-05-14</th>\n",
       "      <td>58.91</td>\n",
       "      <td>-24.0</td>\n",
       "      <td>-35.0</td>\n",
       "      <td>18.0</td>\n",
       "      <td>-68.0</td>\n",
       "      <td>-50.0</td>\n",
       "      <td>-49.0</td>\n",
       "      <td>40.53</td>\n",
       "      <td>-34.222222</td>\n",
       "      <td>-50.111111</td>\n",
       "      <td>...</td>\n",
       "      <td>-35.0</td>\n",
       "      <td>-39.0</td>\n",
       "      <td>-13.0</td>\n",
       "      <td>NaN</td>\n",
       "      <td>-31.0</td>\n",
       "      <td>-18.0</td>\n",
       "      <td>16.0</td>\n",
       "      <td>-66.0</td>\n",
       "      <td>-71.0</td>\n",
       "      <td>-46.0</td>\n",
       "    </tr>\n",
       "    <tr>\n",
       "      <th>2020-11-16</th>\n",
       "      <td>69.77</td>\n",
       "      <td>-4.0</td>\n",
       "      <td>32.0</td>\n",
       "      <td>10.0</td>\n",
       "      <td>-55.0</td>\n",
       "      <td>-21.0</td>\n",
       "      <td>-26.0</td>\n",
       "      <td>57.54</td>\n",
       "      <td>-12.666667</td>\n",
       "      <td>-19.444444</td>\n",
       "      <td>...</td>\n",
       "      <td>-11.0</td>\n",
       "      <td>-5.0</td>\n",
       "      <td>4.0</td>\n",
       "      <td>NaN</td>\n",
       "      <td>-11.0</td>\n",
       "      <td>-22.0</td>\n",
       "      <td>10.0</td>\n",
       "      <td>-41.0</td>\n",
       "      <td>-35.0</td>\n",
       "      <td>-13.0</td>\n",
       "    </tr>\n",
       "  </tbody>\n",
       "</table>\n",
       "<p>2 rows × 143 columns</p>\n",
       "</div>"
      ],
      "text/plain": [
       "Region       Asturias                                                \\\n",
       "Item       Conducción Supermercados y farmacias Parques Residencial   \n",
       "2020-05-14      58.91                     -24.0   -35.0        18.0   \n",
       "2020-11-16      69.77                      -4.0    32.0        10.0   \n",
       "\n",
       "Region                                                         \\\n",
       "Item       Venta minorista, ocio y cultura Transporte público   \n",
       "2020-05-14                           -68.0              -50.0   \n",
       "2020-11-16                           -55.0              -21.0   \n",
       "\n",
       "Region                      CA Andalucía                                       \\\n",
       "Item       Lugar de trabajo   Conducción Supermercados y farmacias    Parques   \n",
       "2020-05-14            -49.0        40.53                -34.222222 -50.111111   \n",
       "2020-11-16            -26.0        57.54                -12.666667 -19.444444   \n",
       "\n",
       "Region      ...                            León                     \\\n",
       "Item        ... Venta minorista, ocio y cultura Transporte público   \n",
       "2020-05-14  ...                           -35.0              -39.0   \n",
       "2020-11-16  ...                           -11.0               -5.0   \n",
       "\n",
       "Region                         Melilla                                    \\\n",
       "Item       Lugar de trabajo Conducción Supermercados y farmacias Parques   \n",
       "2020-05-14            -13.0        NaN                     -31.0   -18.0   \n",
       "2020-11-16              4.0        NaN                     -11.0   -22.0   \n",
       "\n",
       "Region                                                                     \\\n",
       "Item       Residencial Venta minorista, ocio y cultura Transporte público   \n",
       "2020-05-14        16.0                           -66.0              -71.0   \n",
       "2020-11-16        10.0                           -41.0              -35.0   \n",
       "\n",
       "Region                       \n",
       "Item       Lugar de trabajo  \n",
       "2020-05-14            -46.0  \n",
       "2020-11-16            -13.0  \n",
       "\n",
       "[2 rows x 143 columns]"
      ]
     },
     "metadata": {},
     "output_type": "display_data"
    }
   ],
   "source": [
    "data = COnVIDa.get_data_items(regions=regions,\n",
    "                              data_items=data_items, \n",
    "                              start_date=start, \n",
    "                              end_date=end, errors='raise')\n",
    "display(data.sample(2))"
   ]
  },
  {
   "cell_type": "markdown",
   "metadata": {},
   "source": [
    "### 3.4 MoMo testing"
   ]
  },
  {
   "cell_type": "code",
   "execution_count": 32,
   "metadata": {},
   "outputs": [],
   "source": [
    "start = pd.to_datetime('2020-05-01', format='%Y-%m-%d')\n",
    "end = pd.to_datetime('today', format='%Y-%m-%d')\n",
    "\n",
    "data_items = COnVIDa.get_data_items_names()['MoMoDataSource']\n",
    "\n",
    "regions = Regions.get_regions('ES')"
   ]
  },
  {
   "cell_type": "code",
   "execution_count": 33,
   "metadata": {},
   "outputs": [
    {
     "name": "stdout",
     "output_type": "stream",
     "text": [
      "['España', 'CA Andalucía', 'CA Aragón', 'CA Principado de Asturias', 'CA Islas Baleares', 'CA Canarias', 'CA Cantabria', 'CA Castilla-La Mancha', 'CA Castilla y León', 'CA Cataluña', 'CA Ceuta', 'CA Comunidad Valenciana', 'CA Extremadura', 'CA Galicia', 'CA Comunidad de Madrid', 'CA Melilla', 'CA Región de Murcia', 'CA Comunidad Foral de Navarra', 'CA País Vasco', 'CA La Rioja', 'Albacete', 'Alicante', 'Almería', 'Álava', 'Asturias', 'Ávila', 'Badajoz', 'Baleares', 'Barcelona', 'Bizkaia', 'Burgos', 'Cáceres', 'Cádiz', 'Cantabria', 'Castellón', 'Ciudad Real', 'Córdoba', 'A Coruña', 'Cuenca', 'Gipuzkoa', 'Girona', 'Granada', 'Guadalajara', 'Huelva', 'Huesca', 'Jaén', 'León', 'Lleida', 'Lugo', 'Madrid', 'Málaga', 'Murcia', 'Navarra', 'Ourense', 'Palencia', 'Las Palmas', 'Pontevedra', 'La Rioja', 'Salamanca', 'Santa Cruz de Tenerife', 'Segovia', 'Sevilla', 'Soria', 'Tarragona', 'Teruel', 'Toledo', 'Valencia', 'Valladolid', 'Zamora', 'Zaragoza', 'Ceuta', 'Melilla']\n"
     ]
    }
   ],
   "source": [
    "print(regions)"
   ]
  },
  {
   "cell_type": "code",
   "execution_count": 34,
   "metadata": {},
   "outputs": [
    {
     "name": "stdout",
     "output_type": "stream",
     "text": [
      "Assumed a TEMPORAL data retrieval...\n"
     ]
    },
    {
     "data": {
      "text/html": [
       "<div>\n",
       "<style scoped>\n",
       "    .dataframe tbody tr th:only-of-type {\n",
       "        vertical-align: middle;\n",
       "    }\n",
       "\n",
       "    .dataframe tbody tr th {\n",
       "        vertical-align: top;\n",
       "    }\n",
       "\n",
       "    .dataframe thead tr th {\n",
       "        text-align: left;\n",
       "    }\n",
       "</style>\n",
       "<table border=\"1\" class=\"dataframe\">\n",
       "  <thead>\n",
       "  </thead>\n",
       "  <tbody>\n",
       "    <tr>\n",
       "      <th>2021-01-12</th>\n",
       "    </tr>\n",
       "    <tr>\n",
       "      <th>2021-01-13</th>\n",
       "    </tr>\n",
       "    <tr>\n",
       "      <th>2021-01-14</th>\n",
       "    </tr>\n",
       "    <tr>\n",
       "      <th>2021-01-15</th>\n",
       "    </tr>\n",
       "    <tr>\n",
       "      <th>2021-01-16</th>\n",
       "    </tr>\n",
       "  </tbody>\n",
       "</table>\n",
       "</div>"
      ],
      "text/plain": [
       "Empty DataFrame\n",
       "Columns: []\n",
       "Index: [2021-01-12 00:00:00, 2021-01-13 00:00:00, 2021-01-14 00:00:00, 2021-01-15 00:00:00, 2021-01-16 00:00:00]"
      ]
     },
     "metadata": {},
     "output_type": "display_data"
    }
   ],
   "source": [
    "data = COnVIDa.get_data_items(regions=[regions[0]],\n",
    "                              data_items=[data_items[0]], \n",
    "                              start_date=start, \n",
    "                              end_date=end)\n",
    "display(data.tail(5))"
   ]
  },
  {
   "cell_type": "code",
   "execution_count": 35,
   "metadata": {},
   "outputs": [
    {
     "name": "stdout",
     "output_type": "stream",
     "text": [
      "Assumed a TEMPORAL data retrieval...\n"
     ]
    },
    {
     "data": {
      "text/html": [
       "<div>\n",
       "<style scoped>\n",
       "    .dataframe tbody tr th:only-of-type {\n",
       "        vertical-align: middle;\n",
       "    }\n",
       "\n",
       "    .dataframe tbody tr th {\n",
       "        vertical-align: top;\n",
       "    }\n",
       "\n",
       "    .dataframe thead tr th {\n",
       "        text-align: left;\n",
       "    }\n",
       "</style>\n",
       "<table border=\"1\" class=\"dataframe\">\n",
       "  <thead>\n",
       "    <tr>\n",
       "      <th>Region</th>\n",
       "      <th>CA Andalucía</th>\n",
       "      <th>CA Aragón</th>\n",
       "      <th>CA Islas Baleares</th>\n",
       "      <th>CA Principado de Asturias</th>\n",
       "    </tr>\n",
       "    <tr>\n",
       "      <th>Item</th>\n",
       "      <th>Defunciones observadas</th>\n",
       "      <th>Defunciones observadas</th>\n",
       "      <th>Defunciones observadas</th>\n",
       "      <th>Defunciones observadas</th>\n",
       "    </tr>\n",
       "  </thead>\n",
       "  <tbody>\n",
       "    <tr>\n",
       "      <th>2021-01-15</th>\n",
       "      <td>241.0</td>\n",
       "      <td>35.0</td>\n",
       "      <td>25.0</td>\n",
       "      <td>41.0</td>\n",
       "    </tr>\n",
       "    <tr>\n",
       "      <th>2021-01-16</th>\n",
       "      <td>NaN</td>\n",
       "      <td>NaN</td>\n",
       "      <td>NaN</td>\n",
       "      <td>NaN</td>\n",
       "    </tr>\n",
       "  </tbody>\n",
       "</table>\n",
       "</div>"
      ],
      "text/plain": [
       "Region               CA Andalucía              CA Aragón  \\\n",
       "Item       Defunciones observadas Defunciones observadas   \n",
       "2021-01-15                  241.0                   35.0   \n",
       "2021-01-16                    NaN                    NaN   \n",
       "\n",
       "Region          CA Islas Baleares CA Principado de Asturias  \n",
       "Item       Defunciones observadas    Defunciones observadas  \n",
       "2021-01-15                   25.0                      41.0  \n",
       "2021-01-16                    NaN                       NaN  "
      ]
     },
     "metadata": {},
     "output_type": "display_data"
    }
   ],
   "source": [
    "data = COnVIDa.get_data_items(regions=regions[0:5],\n",
    "                              data_items=[data_items[0]], \n",
    "                              start_date=start, \n",
    "                              end_date=end)\n",
    "display(data.tail(2))"
   ]
  },
  {
   "cell_type": "code",
   "execution_count": 36,
   "metadata": {},
   "outputs": [
    {
     "name": "stdout",
     "output_type": "stream",
     "text": [
      "Assumed a TEMPORAL data retrieval...\n"
     ]
    },
    {
     "data": {
      "text/html": [
       "<div>\n",
       "<style scoped>\n",
       "    .dataframe tbody tr th:only-of-type {\n",
       "        vertical-align: middle;\n",
       "    }\n",
       "\n",
       "    .dataframe tbody tr th {\n",
       "        vertical-align: top;\n",
       "    }\n",
       "\n",
       "    .dataframe thead tr th {\n",
       "        text-align: left;\n",
       "    }\n",
       "</style>\n",
       "<table border=\"1\" class=\"dataframe\">\n",
       "  <thead>\n",
       "  </thead>\n",
       "  <tbody>\n",
       "    <tr>\n",
       "      <th>2021-01-15</th>\n",
       "    </tr>\n",
       "    <tr>\n",
       "      <th>2021-01-16</th>\n",
       "    </tr>\n",
       "  </tbody>\n",
       "</table>\n",
       "</div>"
      ],
      "text/plain": [
       "Empty DataFrame\n",
       "Columns: []\n",
       "Index: [2021-01-15 00:00:00, 2021-01-16 00:00:00]"
      ]
     },
     "metadata": {},
     "output_type": "display_data"
    }
   ],
   "source": [
    "data = COnVIDa.get_data_items(regions=[regions[0]],\n",
    "                              data_items=data_items[0:5], \n",
    "                              start_date=start, \n",
    "                              end_date=end)\n",
    "display(data.tail(2))"
   ]
  },
  {
   "cell_type": "code",
   "execution_count": 37,
   "metadata": {},
   "outputs": [
    {
     "name": "stdout",
     "output_type": "stream",
     "text": [
      "Assumed a TEMPORAL data retrieval...\n"
     ]
    },
    {
     "data": {
      "text/html": [
       "<div>\n",
       "<style scoped>\n",
       "    .dataframe tbody tr th:only-of-type {\n",
       "        vertical-align: middle;\n",
       "    }\n",
       "\n",
       "    .dataframe tbody tr th {\n",
       "        vertical-align: top;\n",
       "    }\n",
       "\n",
       "    .dataframe thead tr th {\n",
       "        text-align: left;\n",
       "    }\n",
       "</style>\n",
       "<table border=\"1\" class=\"dataframe\">\n",
       "  <thead>\n",
       "    <tr>\n",
       "      <th>Region</th>\n",
       "      <th colspan=\"6\" halign=\"left\">A Coruña</th>\n",
       "      <th colspan=\"4\" halign=\"left\">Albacete</th>\n",
       "      <th>...</th>\n",
       "      <th colspan=\"4\" halign=\"left\">Álava</th>\n",
       "      <th colspan=\"6\" halign=\"left\">Ávila</th>\n",
       "    </tr>\n",
       "    <tr>\n",
       "      <th>Item</th>\n",
       "      <th>Defunciones esperadas</th>\n",
       "      <th>Defunciones esperadas (percentil 1)</th>\n",
       "      <th>Defunciones esperadas (percentil 99)</th>\n",
       "      <th>Defunciones observadas</th>\n",
       "      <th>Defunciones observadas (límite inferior)</th>\n",
       "      <th>Defunciones observadas (límite superior)</th>\n",
       "      <th>Defunciones esperadas</th>\n",
       "      <th>Defunciones esperadas (percentil 1)</th>\n",
       "      <th>Defunciones esperadas (percentil 99)</th>\n",
       "      <th>Defunciones observadas</th>\n",
       "      <th>...</th>\n",
       "      <th>Defunciones esperadas (percentil 99)</th>\n",
       "      <th>Defunciones observadas</th>\n",
       "      <th>Defunciones observadas (límite inferior)</th>\n",
       "      <th>Defunciones observadas (límite superior)</th>\n",
       "      <th>Defunciones esperadas</th>\n",
       "      <th>Defunciones esperadas (percentil 1)</th>\n",
       "      <th>Defunciones esperadas (percentil 99)</th>\n",
       "      <th>Defunciones observadas</th>\n",
       "      <th>Defunciones observadas (límite inferior)</th>\n",
       "      <th>Defunciones observadas (límite superior)</th>\n",
       "    </tr>\n",
       "  </thead>\n",
       "  <tbody>\n",
       "    <tr>\n",
       "      <th>2021-01-15</th>\n",
       "      <td>18.0</td>\n",
       "      <td>10.38</td>\n",
       "      <td>30.0</td>\n",
       "      <td>20.0</td>\n",
       "      <td>11.334194</td>\n",
       "      <td>27.886089</td>\n",
       "      <td>37.0</td>\n",
       "      <td>24.07</td>\n",
       "      <td>56.62</td>\n",
       "      <td>35.0</td>\n",
       "      <td>...</td>\n",
       "      <td>303.0</td>\n",
       "      <td>241.0</td>\n",
       "      <td>186.398394</td>\n",
       "      <td>296.325389</td>\n",
       "      <td>53.0</td>\n",
       "      <td>39.38</td>\n",
       "      <td>73.17</td>\n",
       "      <td>43.0</td>\n",
       "      <td>26.441263</td>\n",
       "      <td>60.882918</td>\n",
       "    </tr>\n",
       "    <tr>\n",
       "      <th>2021-01-16</th>\n",
       "      <td>NaN</td>\n",
       "      <td>NaN</td>\n",
       "      <td>NaN</td>\n",
       "      <td>NaN</td>\n",
       "      <td>NaN</td>\n",
       "      <td>NaN</td>\n",
       "      <td>NaN</td>\n",
       "      <td>NaN</td>\n",
       "      <td>NaN</td>\n",
       "      <td>NaN</td>\n",
       "      <td>...</td>\n",
       "      <td>NaN</td>\n",
       "      <td>NaN</td>\n",
       "      <td>NaN</td>\n",
       "      <td>NaN</td>\n",
       "      <td>NaN</td>\n",
       "      <td>NaN</td>\n",
       "      <td>NaN</td>\n",
       "      <td>NaN</td>\n",
       "      <td>NaN</td>\n",
       "      <td>NaN</td>\n",
       "    </tr>\n",
       "  </tbody>\n",
       "</table>\n",
       "<p>2 rows × 114 columns</p>\n",
       "</div>"
      ],
      "text/plain": [
       "Region                  A Coruña                                      \\\n",
       "Item       Defunciones esperadas Defunciones esperadas (percentil 1)   \n",
       "2021-01-15                  18.0                               10.38   \n",
       "2021-01-16                   NaN                                 NaN   \n",
       "\n",
       "Region                                                                  \\\n",
       "Item       Defunciones esperadas (percentil 99) Defunciones observadas   \n",
       "2021-01-15                                 30.0                   20.0   \n",
       "2021-01-16                                  NaN                    NaN   \n",
       "\n",
       "Region                                               \\\n",
       "Item       Defunciones observadas (límite inferior)   \n",
       "2021-01-15                                11.334194   \n",
       "2021-01-16                                      NaN   \n",
       "\n",
       "Region                                                           Albacete  \\\n",
       "Item       Defunciones observadas (límite superior) Defunciones esperadas   \n",
       "2021-01-15                                27.886089                  37.0   \n",
       "2021-01-16                                      NaN                   NaN   \n",
       "\n",
       "Region                                          \\\n",
       "Item       Defunciones esperadas (percentil 1)   \n",
       "2021-01-15                               24.07   \n",
       "2021-01-16                                 NaN   \n",
       "\n",
       "Region                                                                  ...  \\\n",
       "Item       Defunciones esperadas (percentil 99) Defunciones observadas  ...   \n",
       "2021-01-15                                56.62                   35.0  ...   \n",
       "2021-01-16                                  NaN                    NaN  ...   \n",
       "\n",
       "Region                                    Álava                         \\\n",
       "Item       Defunciones esperadas (percentil 99) Defunciones observadas   \n",
       "2021-01-15                                303.0                  241.0   \n",
       "2021-01-16                                  NaN                    NaN   \n",
       "\n",
       "Region                                               \\\n",
       "Item       Defunciones observadas (límite inferior)   \n",
       "2021-01-15                               186.398394   \n",
       "2021-01-16                                      NaN   \n",
       "\n",
       "Region                                                              Ávila  \\\n",
       "Item       Defunciones observadas (límite superior) Defunciones esperadas   \n",
       "2021-01-15                               296.325389                  53.0   \n",
       "2021-01-16                                      NaN                   NaN   \n",
       "\n",
       "Region                                          \\\n",
       "Item       Defunciones esperadas (percentil 1)   \n",
       "2021-01-15                               39.38   \n",
       "2021-01-16                                 NaN   \n",
       "\n",
       "Region                                                                  \\\n",
       "Item       Defunciones esperadas (percentil 99) Defunciones observadas   \n",
       "2021-01-15                                73.17                   43.0   \n",
       "2021-01-16                                  NaN                    NaN   \n",
       "\n",
       "Region                                               \\\n",
       "Item       Defunciones observadas (límite inferior)   \n",
       "2021-01-15                                26.441263   \n",
       "2021-01-16                                      NaN   \n",
       "\n",
       "Region                                               \n",
       "Item       Defunciones observadas (límite superior)  \n",
       "2021-01-15                                60.882918  \n",
       "2021-01-16                                      NaN  \n",
       "\n",
       "[2 rows x 114 columns]"
      ]
     },
     "metadata": {},
     "output_type": "display_data"
    }
   ],
   "source": [
    "data = COnVIDa.get_data_items(regions=regions,\n",
    "                              data_items=data_items, \n",
    "                              start_date=start, \n",
    "                              end_date=end)\n",
    "display(data.tail(2))"
   ]
  },
  {
   "cell_type": "markdown",
   "metadata": {},
   "source": [
    "### 3.5 AEMET testing"
   ]
  },
  {
   "cell_type": "code",
   "execution_count": 38,
   "metadata": {},
   "outputs": [],
   "source": [
    "start = pd.to_datetime('2020-05-01', format='%Y-%m-%d')\n",
    "end = pd.to_datetime('today', format='%Y-%m-%d')\n",
    "\n",
    "data_items = COnVIDa.get_data_items_names()['AEMETDataSource']\n",
    "\n",
    "regions = Regions.get_regions('ES')"
   ]
  },
  {
   "cell_type": "code",
   "execution_count": 40,
   "metadata": {},
   "outputs": [
    {
     "name": "stdout",
     "output_type": "stream",
     "text": [
      "Assumed a TEMPORAL data retrieval...\n"
     ]
    },
    {
     "data": {
      "text/html": [
       "<div>\n",
       "<style scoped>\n",
       "    .dataframe tbody tr th:only-of-type {\n",
       "        vertical-align: middle;\n",
       "    }\n",
       "\n",
       "    .dataframe tbody tr th {\n",
       "        vertical-align: top;\n",
       "    }\n",
       "\n",
       "    .dataframe thead tr th {\n",
       "        text-align: left;\n",
       "    }\n",
       "</style>\n",
       "<table border=\"1\" class=\"dataframe\">\n",
       "  <thead>\n",
       "    <tr>\n",
       "      <th>Region</th>\n",
       "      <th>CA Andalucía</th>\n",
       "    </tr>\n",
       "    <tr>\n",
       "      <th>Item</th>\n",
       "      <th>Precipitación</th>\n",
       "    </tr>\n",
       "  </thead>\n",
       "  <tbody>\n",
       "    <tr>\n",
       "      <th>2021-01-12</th>\n",
       "      <td>0.008571</td>\n",
       "    </tr>\n",
       "    <tr>\n",
       "      <th>2020-07-04</th>\n",
       "      <td>0.000000</td>\n",
       "    </tr>\n",
       "    <tr>\n",
       "      <th>2020-10-14</th>\n",
       "      <td>0.000000</td>\n",
       "    </tr>\n",
       "    <tr>\n",
       "      <th>2020-06-28</th>\n",
       "      <td>0.000000</td>\n",
       "    </tr>\n",
       "    <tr>\n",
       "      <th>2020-12-26</th>\n",
       "      <td>0.000000</td>\n",
       "    </tr>\n",
       "  </tbody>\n",
       "</table>\n",
       "</div>"
      ],
      "text/plain": [
       "Region      CA Andalucía\n",
       "Item       Precipitación\n",
       "2021-01-12      0.008571\n",
       "2020-07-04      0.000000\n",
       "2020-10-14      0.000000\n",
       "2020-06-28      0.000000\n",
       "2020-12-26      0.000000"
      ]
     },
     "metadata": {},
     "output_type": "display_data"
    }
   ],
   "source": [
    "data = COnVIDa.get_data_items(regions=[regions[1]],\n",
    "                              data_items=[data_items[0]], \n",
    "                              start_date=start, \n",
    "                              end_date=end,\n",
    "                              errors='raise')\n",
    "display(data.sample(5))"
   ]
  },
  {
   "cell_type": "code",
   "execution_count": 41,
   "metadata": {},
   "outputs": [
    {
     "name": "stdout",
     "output_type": "stream",
     "text": [
      "Assumed a TEMPORAL data retrieval...\n"
     ]
    },
    {
     "data": {
      "text/html": [
       "<div>\n",
       "<style scoped>\n",
       "    .dataframe tbody tr th:only-of-type {\n",
       "        vertical-align: middle;\n",
       "    }\n",
       "\n",
       "    .dataframe tbody tr th {\n",
       "        vertical-align: top;\n",
       "    }\n",
       "\n",
       "    .dataframe thead tr th {\n",
       "        text-align: left;\n",
       "    }\n",
       "</style>\n",
       "<table border=\"1\" class=\"dataframe\">\n",
       "  <thead>\n",
       "    <tr>\n",
       "      <th>Region</th>\n",
       "      <th>CA Andalucía</th>\n",
       "      <th>CA Aragón</th>\n",
       "      <th>CA Islas Baleares</th>\n",
       "      <th>CA Principado de Asturias</th>\n",
       "    </tr>\n",
       "    <tr>\n",
       "      <th>Item</th>\n",
       "      <th>Precipitación</th>\n",
       "      <th>Precipitación</th>\n",
       "      <th>Precipitación</th>\n",
       "      <th>Precipitación</th>\n",
       "    </tr>\n",
       "  </thead>\n",
       "  <tbody>\n",
       "    <tr>\n",
       "      <th>2020-06-03</th>\n",
       "      <td>0.162857</td>\n",
       "      <td>17.961538</td>\n",
       "      <td>0.000000</td>\n",
       "      <td>4.970000</td>\n",
       "    </tr>\n",
       "    <tr>\n",
       "      <th>2021-01-09</th>\n",
       "      <td>2.000000</td>\n",
       "      <td>16.530769</td>\n",
       "      <td>2.371429</td>\n",
       "      <td>9.222222</td>\n",
       "    </tr>\n",
       "  </tbody>\n",
       "</table>\n",
       "</div>"
      ],
      "text/plain": [
       "Region      CA Andalucía     CA Aragón CA Islas Baleares  \\\n",
       "Item       Precipitación Precipitación     Precipitación   \n",
       "2020-06-03      0.162857     17.961538          0.000000   \n",
       "2021-01-09      2.000000     16.530769          2.371429   \n",
       "\n",
       "Region     CA Principado de Asturias  \n",
       "Item                   Precipitación  \n",
       "2020-06-03                  4.970000  \n",
       "2021-01-09                  9.222222  "
      ]
     },
     "metadata": {},
     "output_type": "display_data"
    }
   ],
   "source": [
    "data = COnVIDa.get_data_items(regions=regions[1:5],\n",
    "                              data_items=[data_items[0]], \n",
    "                              start_date=start, \n",
    "                              end_date=end,\n",
    "                              errors='raise')\n",
    "display(data.sample(2))"
   ]
  },
  {
   "cell_type": "code",
   "execution_count": 42,
   "metadata": {},
   "outputs": [
    {
     "name": "stdout",
     "output_type": "stream",
     "text": [
      "Assumed a TEMPORAL data retrieval...\n"
     ]
    },
    {
     "data": {
      "text/html": [
       "<div>\n",
       "<style scoped>\n",
       "    .dataframe tbody tr th:only-of-type {\n",
       "        vertical-align: middle;\n",
       "    }\n",
       "\n",
       "    .dataframe tbody tr th {\n",
       "        vertical-align: top;\n",
       "    }\n",
       "\n",
       "    .dataframe thead tr th {\n",
       "        text-align: left;\n",
       "    }\n",
       "</style>\n",
       "<table border=\"1\" class=\"dataframe\">\n",
       "  <thead>\n",
       "    <tr>\n",
       "      <th>Region</th>\n",
       "      <th colspan=\"5\" halign=\"left\">CA Andalucía</th>\n",
       "    </tr>\n",
       "    <tr>\n",
       "      <th>Item</th>\n",
       "      <th>Precipitación</th>\n",
       "      <th>Presión máxima</th>\n",
       "      <th>Presión mínima</th>\n",
       "      <th>Racha máxima</th>\n",
       "      <th>Insolación</th>\n",
       "    </tr>\n",
       "  </thead>\n",
       "  <tbody>\n",
       "    <tr>\n",
       "      <th>2020-12-20</th>\n",
       "      <td>0.070588</td>\n",
       "      <td>994.205556</td>\n",
       "      <td>987.511111</td>\n",
       "      <td>7.183333</td>\n",
       "      <td>5.142857</td>\n",
       "    </tr>\n",
       "    <tr>\n",
       "      <th>2020-05-15</th>\n",
       "      <td>1.421875</td>\n",
       "      <td>979.694118</td>\n",
       "      <td>974.608824</td>\n",
       "      <td>9.187879</td>\n",
       "      <td>5.445455</td>\n",
       "    </tr>\n",
       "  </tbody>\n",
       "</table>\n",
       "</div>"
      ],
      "text/plain": [
       "Region      CA Andalucía                                                      \n",
       "Item       Precipitación Presión máxima Presión mínima Racha máxima Insolación\n",
       "2020-12-20      0.070588     994.205556     987.511111     7.183333   5.142857\n",
       "2020-05-15      1.421875     979.694118     974.608824     9.187879   5.445455"
      ]
     },
     "metadata": {},
     "output_type": "display_data"
    }
   ],
   "source": [
    "data = COnVIDa.get_data_items(regions=[regions[1]],\n",
    "                              data_items=data_items[0:5], \n",
    "                              start_date=start, \n",
    "                              end_date=end)\n",
    "display(data.sample(2))"
   ]
  },
  {
   "cell_type": "markdown",
   "metadata": {},
   "source": [
    "### 4. TEMPORAL testing (joining different sources)"
   ]
  },
  {
   "cell_type": "code",
   "execution_count": 44,
   "metadata": {},
   "outputs": [],
   "source": [
    "start = pd.to_datetime('2021-01-01', format='%Y-%m-%d')\n",
    "end = pd.to_datetime('today', format='%Y-%m-%d')"
   ]
  },
  {
   "cell_type": "code",
   "execution_count": null,
   "metadata": {},
   "outputs": [],
   "source": [
    "data = COnVIDa.get_data_items(regions=['Murcia'],\n",
    "                              data_items=['Incidencia acumulada en los últimos 14 días', 'Precipitación','Insolación'], \n",
    "                              start_date=start,\n",
    "                              end_date=end)\n",
    "display(data.sample(5))"
   ]
  },
  {
   "cell_type": "code",
   "execution_count": null,
   "metadata": {},
   "outputs": [],
   "source": [
    "data = COnVIDa.get_data_items(regions=['Murcia','Andalucía'],data_items=['Altas', 'Casos', 'Precipitación','Insolación','Supermercados y farmacias','Conducción','Parques'], start_date=start, end_date=end)\n",
    "display(data.sample(10))"
   ]
  },
  {
   "cell_type": "code",
   "execution_count": null,
   "metadata": {},
   "outputs": [],
   "source": [
    "data = COnVIDa.get_data_items(regions=['Murcia','Andalucía','Madrid'],data_items=['Altas', 'Casos', 'Precipitación','Insolación','Supermercados y farmacias', 'Parques', 'Residencial'], start_date=start, end_date=end)\n",
    "display(data.sample(10))"
   ]
  },
  {
   "cell_type": "markdown",
   "metadata": {},
   "source": [
    "### 5. Internal testing"
   ]
  },
  {
   "cell_type": "code",
   "execution_count": null,
   "metadata": {},
   "outputs": [],
   "source": [
    "COnVIDa.get_data_items_names(DataType.TEMPORAL,language='internal')"
   ]
  },
  {
   "cell_type": "code",
   "execution_count": null,
   "metadata": {},
   "outputs": [],
   "source": [
    "start = pd.to_datetime('2020-03-01', format='%Y-%m-%d')\n",
    "end = pd.to_datetime('today', format='%Y-%m-%d')"
   ]
  },
  {
   "cell_type": "code",
   "execution_count": null,
   "metadata": {},
   "outputs": [],
   "source": [
    "data = COnVIDa.get_data_items(regions=['Murcia'],\n",
    "                              data_items=['parks_percent_change_from_baseline',\n",
    "                                          'casos','confirmados_pcr',\n",
    "                                          'prec',\n",
    "                                          'presMax',\n",
    "                                          'defunciones_observadas',\n",
    "                                          'defunciones_observadas_lim_inf',\n",
    "                                          'defunciones_observadas_lim_sup',], \n",
    "                              start_date=start,\n",
    "                              end_date=end,\n",
    "                              language='internal')\n",
    "display(data.sample(5))"
   ]
  },
  {
   "cell_type": "code",
   "execution_count": null,
   "metadata": {},
   "outputs": [],
   "source": [
    "data = COnVIDa.get_data_items(regions=['Murcia','Andalucía'],\n",
    "                              data_items=['parks_percent_change_from_baseline',\n",
    "                                           'casos',\n",
    "                                           'confirmados_pcr',\n",
    "                                           'prec',\n",
    "                                           'presMax',\n",
    "                                           'defunciones_observadas',\n",
    "                                           'defunciones_observadas_lim_inf',\n",
    "                                           'defunciones_observadas_lim_sup'],  \n",
    "                              start_date=start, \n",
    "                              end_date=end,\n",
    "                              language='internal')\n",
    "display(data.sample(10))"
   ]
  },
  {
   "cell_type": "code",
   "execution_count": null,
   "metadata": {},
   "outputs": [],
   "source": [
    "data = COnVIDa.get_data_items(regions=['Murcia','Andalucía','Madrid','Asturias'],\n",
    "                              data_items=['parks_percent_change_from_baseline',\n",
    "                                           'casos',\n",
    "                                           'confirmados_pcr',\n",
    "                                           'prec',\n",
    "                                           'presMax',\n",
    "                                           'defunciones_observadas',\n",
    "                                           'defunciones_observadas_lim_inf',\n",
    "                                           'defunciones_observadas_lim_sup'],  \n",
    "                              start_date=start, \n",
    "                              end_date=end,\n",
    "                              language='internal')\n",
    "display(data.sample(10))"
   ]
  },
  {
   "cell_type": "code",
   "execution_count": null,
   "metadata": {},
   "outputs": [],
   "source": [
    "data.head(2)"
   ]
  },
  {
   "cell_type": "code",
   "execution_count": null,
   "metadata": {},
   "outputs": [],
   "source": [
    "data.tail(2)"
   ]
  }
 ],
 "metadata": {
  "kernelspec": {
   "display_name": "Python 3",
   "language": "python",
   "name": "python3"
  },
  "language_info": {
   "codemirror_mode": {
    "name": "ipython",
    "version": 3
   },
   "file_extension": ".py",
   "mimetype": "text/x-python",
   "name": "python",
   "nbconvert_exporter": "python",
   "pygments_lexer": "ipython3",
   "version": "3.7.7"
  }
 },
 "nbformat": 4,
 "nbformat_minor": 4
}
