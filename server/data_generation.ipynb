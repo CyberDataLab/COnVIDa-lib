{
 "cells": [
  {
   "cell_type": "code",
   "execution_count": 1,
   "metadata": {},
   "outputs": [],
   "source": [
    "import os\n",
    "import sys\n",
    "\n",
    "## Add convida lib and convida server lib to path\n",
    "convida_lib_path = os.path.dirname(os.getcwd())\n",
    "lib = os.path.join(convida_lib_path,'lib')\n",
    "sys.path.append(lib)"
   ]
  },
  {
   "cell_type": "code",
   "execution_count": 2,
   "metadata": {},
   "outputs": [],
   "source": [
    "from convida import COnVIDa\n",
    "from regions import Regions\n",
    "from datatype import DataType\n",
    "import pandas as pd\n",
    "import h5py\n",
    "import os.path\n",
    "import time"
   ]
  },
  {
   "cell_type": "markdown",
   "metadata": {},
   "source": [
    "## Generation of cache"
   ]
  },
  {
   "cell_type": "markdown",
   "metadata": {},
   "source": [
    "### Temporal"
   ]
  },
  {
   "cell_type": "code",
   "execution_count": 3,
   "metadata": {},
   "outputs": [
    {
     "name": "stdout",
     "output_type": "stream",
     "text": [
      "GENERATING CACHÉ...\n",
      "\n",
      "REGIONS:  España, CA Andalucía, CA Aragón, CA Principado de Asturias, CA Islas Baleares, CA Canarias, CA Cantabria, CA Castilla-La Mancha, CA Castilla y León, CA Cataluña, CA Ceuta, CA Comunidad Valenciana, CA Extremadura, CA Galicia, CA Comunidad de Madrid, CA Melilla, CA Región de Murcia, CA Comunidad Foral de Navarra, CA País Vasco, CA La Rioja, Albacete, Alicante, Almería, Álava, Asturias, Ávila, Badajoz, Baleares, Barcelona, Bizkaia, Burgos, Cáceres, Cádiz, Cantabria, Castellón, Ciudad Real, Córdoba, A Coruña, Cuenca, Gipuzkoa, Girona, Granada, Guadalajara, Huelva, Huesca, Jaén, León, Lleida, Lugo, Madrid, Málaga, Murcia, Navarra, Ourense, Palencia, Las Palmas, Pontevedra, La Rioja, Salamanca, Santa Cruz de Tenerife, Segovia, Sevilla, Soria, Tarragona, Teruel, Toledo, Valencia, Valladolid, Zamora, Zaragoza, Ceuta, Melilla\n",
      "\n",
      "DATA ITEMS:  prec, presMax, presMin, racha, sol, tmax, tmed, tmin, velmedia, altitud, dir, ia14, daily_cases_avg7, num_casos_prueba_pcr_avg7, daily_deaths_avg7, daily_deaths_avg3, num_casos, num_casos_prueba_pcr, num_casos_prueba_test_ac, num_casos_prueba_ag, num_casos_prueba_elisa, num_casos_prueba_desconocida, daily_deaths, daily_deaths_inc, cases_14days, deaths_last_week, cases_accumulated, cases_accumulated_PCR, hospitalized, intensive_care, deceased, recovered, cases_per_cienmil, intensive_care_per_100000, hospitalized_per_100000, deceassed_per_100000, accumulated_lethality, vaccine_provided, vaccine_supplied, vaccine_supplied_inc, pob_vaccine_supplied_inc, grocery_and_pharmacy_percent_change_from_baseline, parks_percent_change_from_baseline, residential_percent_change_from_baseline, retail_and_recreation_percent_change_from_baseline, transit_stations_percent_change_from_baseline, workplaces_percent_change_from_baseline, driving, defunciones_observadas, defunciones_observadas_lim_inf, defunciones_observadas_lim_sup, defunciones_esperadas, defunciones_esperadas_q01, defunciones_esperadas_q99\n",
      "\n"
     ]
    }
   ],
   "source": [
    "print('GENERATING CACHÉ...')\n",
    "print()\n",
    "\n",
    "all_regions = Regions.get_regions('ES')\n",
    "print('REGIONS: ', ', '.join(all_regions))\n",
    "print()\n",
    "datasources = COnVIDa.get_data_items_names(DataType.TEMPORAL,language='internal')\n",
    "all_data_items = []\n",
    "for data_items in datasources.values():\n",
    "    all_data_items += data_items\n",
    "print('DATA ITEMS: ', ', '.join(all_data_items))\n",
    "print()"
   ]
  },
  {
   "cell_type": "code",
   "execution_count": 4,
   "metadata": {},
   "outputs": [
    {
     "name": "stdout",
     "output_type": "stream",
     "text": [
      "Assumed a TEMPORAL data retrieval...\n"
     ]
    },
    {
     "name": "stderr",
     "output_type": "stream",
     "text": [
      "C:\\Users\\Javier\\OneDrive\\Documentos\\Proyectos\\COnVIDa-lib\\lib\\datasources\\COVID19DataSource.py:284: RuntimeWarning: divide by zero encountered in double_scalars\n",
      "  percent = (df.loc[idx, ('España', param)] * 100) / valor\n",
      "C:\\Users\\Javier\\OneDrive\\Documentos\\Proyectos\\COnVIDa-lib\\lib\\datasources\\COVID19DataSource.py:284: RuntimeWarning: invalid value encountered in double_scalars\n",
      "  percent = (df.loc[idx, ('España', param)] * 100) / valor\n"
     ]
    },
    {
     "name": "stdout",
     "output_type": "stream",
     "text": [
      "Wall time: 2min 54s\n"
     ]
    }
   ],
   "source": [
    "%%time\n",
    "start = pd.to_datetime('2020-11-01', format='%Y-%m-%d')\n",
    "end = pd.to_datetime('2020-12-30', format='%Y-%m-%d')\n",
    "\n",
    "temporal_data = COnVIDa.get_data_items(regions=all_regions,\n",
    "                          data_items=all_data_items,\n",
    "                          start_date=start,\n",
    "                          end_date=end,\n",
    "                          language='internal',\n",
    "                          errors='raise')\n",
    "\n",
    "temporal_data.to_hdf(path_or_buf=f'data/cache_{str(end)[0:10]}.h5',key='temporal',mode='a')"
   ]
  },
  {
   "cell_type": "code",
   "execution_count": 5,
   "metadata": {},
   "outputs": [
    {
     "name": "stdout",
     "output_type": "stream",
     "text": [
      "<class 'pandas.core.frame.DataFrame'>\n",
      "DatetimeIndex: 60 entries, 2020-11-01 to 2020-12-30\n",
      "Freq: D\n",
      "Columns: 2383 entries, ('A Coruña', 'accumulated_lethality') to ('Ávila', 'recovered')\n",
      "dtypes: float64(2364), int64(19)\n",
      "memory usage: 1.1 MB\n",
      "Wall time: 216 ms\n"
     ]
    }
   ],
   "source": [
    "%%time\n",
    "\n",
    "## Read info of generated cache\n",
    "temporal_data = pd.read_hdf(path_or_buf=f'data/cache_{str(end)[0:10]}.h5',\n",
    "                            key='temporal',\n",
    "                            mode='r')\n",
    "temporal_data.info()"
   ]
  },
  {
   "cell_type": "markdown",
   "metadata": {},
   "source": [
    "### Geographical"
   ]
  },
  {
   "cell_type": "code",
   "execution_count": 6,
   "metadata": {},
   "outputs": [
    {
     "name": "stdout",
     "output_type": "stream",
     "text": [
      "UPDATING CACHÉ...\n",
      "\n",
      "REGIONS:  España, CA Andalucía, CA Aragón, CA Principado de Asturias, CA Islas Baleares, CA Canarias, CA Cantabria, CA Castilla-La Mancha, CA Castilla y León, CA Cataluña, CA Ceuta, CA Comunidad Valenciana, CA Extremadura, CA Galicia, CA Comunidad de Madrid, CA Melilla, CA Región de Murcia, CA Comunidad Foral de Navarra, CA País Vasco, CA La Rioja, Albacete, Alicante, Almería, Álava, Asturias, Ávila, Badajoz, Baleares, Barcelona, Bizkaia, Burgos, Cáceres, Cádiz, Cantabria, Castellón, Ciudad Real, Córdoba, A Coruña, Cuenca, Gipuzkoa, Girona, Granada, Guadalajara, Huelva, Huesca, Jaén, León, Lleida, Lugo, Madrid, Málaga, Murcia, Navarra, Ourense, Palencia, Las Palmas, Pontevedra, La Rioja, Salamanca, Santa Cruz de Tenerife, Segovia, Sevilla, Soria, Tarragona, Teruel, Toledo, Valencia, Valladolid, Zamora, Zaragoza, Ceuta, Melilla\n",
      "\n",
      "DATA ITEMS:  actividad_fisica, imc, tabaco, hogares_tipo_familia, hogares_densidad_ocupacion, mayores_65_solos\n"
     ]
    }
   ],
   "source": [
    "print('UPDATING CACHÉ...')\n",
    "print()\n",
    "\n",
    "all_regions = Regions.get_regions('ES')\n",
    "print('REGIONS: ', ', '.join(all_regions))\n",
    "print()\n",
    "datasources = COnVIDa.get_data_items_names(DataType.GEOGRAPHICAL,\n",
    "                                              language='internal')\n",
    "all_data_items = []\n",
    "for data_items in datasources.values():\n",
    "    all_data_items += data_items\n",
    "print('DATA ITEMS: ', ', '.join(all_data_items))"
   ]
  },
  {
   "cell_type": "code",
   "execution_count": 7,
   "metadata": {},
   "outputs": [
    {
     "name": "stdout",
     "output_type": "stream",
     "text": [
      "Assumed a GEOGRAPHICAL data retrieval...\n",
      "Wall time: 4.52 s\n"
     ]
    }
   ],
   "source": [
    "%%time\n",
    "geographical_data = COnVIDa.get_data_items(regions=all_regions,\n",
    "                              data_items=all_data_items,\n",
    "                              language='internal')\n",
    "\n",
    "geographical_data.to_hdf(path_or_buf=f'data/cache_{str(end)[0:10]}.h5',key='geographical',mode='a')"
   ]
  },
  {
   "cell_type": "code",
   "execution_count": 8,
   "metadata": {},
   "outputs": [
    {
     "name": "stdout",
     "output_type": "stream",
     "text": [
      "<class 'pandas.core.frame.DataFrame'>\n",
      "Index: 19 entries, CA Andalucía to Melilla\n",
      "Data columns (total 35 columns):\n",
      " #   Column                                                               Non-Null Count  Dtype  \n",
      "---  ------                                                               --------------  -----  \n",
      " 0   actividad_fisica (Nivel alto)                                        19 non-null     float64\n",
      " 1   actividad_fisica (Nivel bajo)                                        19 non-null     float64\n",
      " 2   actividad_fisica (Nivel moderado)                                    19 non-null     float64\n",
      " 3   actividad_fisica (No consta)                                         19 non-null     float64\n",
      " 4   hogares_densidad_ocupacion (60 m2 o más por ocupante)                19 non-null     float64\n",
      " 5   hogares_densidad_ocupacion (Entre 10 y menos de 20 m2 por ocupante)  19 non-null     float64\n",
      " 6   hogares_densidad_ocupacion (Entre 20 y menos de 30 m2 por ocupante)  19 non-null     float64\n",
      " 7   hogares_densidad_ocupacion (Entre 30 y menos de 60 m2 por ocupante)  19 non-null     float64\n",
      " 8   hogares_densidad_ocupacion (Menos de 10 m2 por ocupante)             19 non-null     float64\n",
      " 9   hogares_tipo_familia (1 persona)                                     19 non-null     float64\n",
      " 10  hogares_tipo_familia (2 personas)                                    19 non-null     float64\n",
      " 11  hogares_tipo_familia (3 personas)                                    19 non-null     float64\n",
      " 12  hogares_tipo_familia (4 personas)                                    19 non-null     float64\n",
      " 13  hogares_tipo_familia (5 personas)                                    19 non-null     float64\n",
      " 14  hogares_tipo_familia (6 personas)                                    19 non-null     float64\n",
      " 15  hogares_tipo_familia (7 personas)                                    19 non-null     float64\n",
      " 16  hogares_tipo_familia (8 personas o más)                              19 non-null     float64\n",
      " 17  imc (Normopeso (18,5 kg/m2 <=IMC<25 kg/m2))                          19 non-null     float64\n",
      " 18  imc (Obesidad (IMC>=30 kg/m2))                                       19 non-null     float64\n",
      " 19  imc (Peso insuficiente (IMC<18,5 kg/m2))                             19 non-null     float64\n",
      " 20  imc (Sobrepeso (25 kg/m2 <=IMC<30 kg/m2))                            19 non-null     float64\n",
      " 21  mayores_65_solos (65 años o más, Casado/a)                           19 non-null     float64\n",
      " 22  mayores_65_solos (65 años o más, Divorciado/a)                       19 non-null     float64\n",
      " 23  mayores_65_solos (65 años o más, Separado/a)                         19 non-null     float64\n",
      " 24  mayores_65_solos (65 años o más, Soltero/a)                          19 non-null     float64\n",
      " 25  mayores_65_solos (65 años o más, Viudo/a)                            19 non-null     float64\n",
      " 26  mayores_65_solos (Menos de 65 años, Casado/a)                        19 non-null     float64\n",
      " 27  mayores_65_solos (Menos de 65 años, Divorciado/a)                    19 non-null     float64\n",
      " 28  mayores_65_solos (Menos de 65 años, Separado/a)                      19 non-null     float64\n",
      " 29  mayores_65_solos (Menos de 65 años, Soltero/a)                       19 non-null     float64\n",
      " 30  mayores_65_solos (Menos de 65 años, Viudo/a)                         19 non-null     float64\n",
      " 31  tabaco (Exfumador)                                                   19 non-null     float64\n",
      " 32  tabaco (Fumador diario)                                              19 non-null     float64\n",
      " 33  tabaco (Fumador ocasional)                                           19 non-null     float64\n",
      " 34  tabaco (Nunca ha fumado)                                             19 non-null     float64\n",
      "dtypes: float64(35)\n",
      "memory usage: 5.3+ KB\n",
      "Wall time: 17 ms\n"
     ]
    }
   ],
   "source": [
    "%%time\n",
    "\n",
    "## Read info of generated cache\n",
    "\n",
    "geographical_data = pd.read_hdf(path_or_buf=f'data/cache_{str(end)[0:10]}.h5',\n",
    "                            key='geographical',\n",
    "                            mode='r')\n",
    "geographical_data.info()"
   ]
  },
  {
   "cell_type": "markdown",
   "metadata": {},
   "source": [
    "## Last update info"
   ]
  },
  {
   "cell_type": "code",
   "execution_count": 9,
   "metadata": {},
   "outputs": [
    {
     "name": "stderr",
     "output_type": "stream",
     "text": [
      "C:\\Users\\Javier\\anaconda3\\envs\\COVID19\\lib\\site-packages\\pandas\\core\\generic.py:2505: PerformanceWarning: \n",
      "your performance may suffer as PyTables will pickle object types that it cannot\n",
      "map directly to c-types [inferred_type->mixed,key->block0_values] [items->Index(['last_update'], dtype='object')]\n",
      "\n",
      "  encoding=encoding,\n"
     ]
    }
   ],
   "source": [
    "lu = {'last_update':[None,None,None,None,None]}\n",
    "dfu = pd.DataFrame(lu, index=['AEMETDataSource','COVID19DataSource','INEDataSource','MobilityDataSource','MoMoDataSource'])\n",
    "dfu.to_hdf(path_or_buf=f'data/cache_{str(end)[0:10]}.h5',key='last_updates',mode='a')"
   ]
  }
 ],
 "metadata": {
  "kernelspec": {
   "display_name": "Python 3",
   "language": "python",
   "name": "python3"
  },
  "language_info": {
   "codemirror_mode": {
    "name": "ipython",
    "version": 3
   },
   "file_extension": ".py",
   "mimetype": "text/x-python",
   "name": "python",
   "nbconvert_exporter": "python",
   "pygments_lexer": "ipython3",
   "version": "3.7.7"
  }
 },
 "nbformat": 4,
 "nbformat_minor": 4
}
